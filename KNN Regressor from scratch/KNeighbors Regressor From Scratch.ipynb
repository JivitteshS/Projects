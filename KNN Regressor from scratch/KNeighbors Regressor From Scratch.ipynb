{
 "cells": [
  {
   "cell_type": "code",
   "execution_count": 48,
   "id": "88180939",
   "metadata": {},
   "outputs": [],
   "source": [
    "import numpy as np\n",
    "import pandas as pd\n",
    "from sklearn.neighbors import KNeighborsRegressor\n",
    "from sklearn.metrics import mean_absolute_percentage_error\n",
    "from sklearn.model_selection import train_test_split"
   ]
  },
  {
   "cell_type": "code",
   "execution_count": 49,
   "id": "82c430b3",
   "metadata": {},
   "outputs": [],
   "source": [
    "train=pd.read_excel(\"knn.xlsx\")\n",
    "test=pd.read_excel(\"knn.xlsx\",1)"
   ]
  },
  {
   "cell_type": "markdown",
   "id": "e498ce66",
   "metadata": {},
   "source": [
    "Here I have coded an algorithm that can perform KNN regression from scratch and compared it with the KNN model from SKlearn library with MAPE as performance metric."
   ]
  },
  {
   "cell_type": "code",
   "execution_count": 50,
   "id": "70c03061",
   "metadata": {},
   "outputs": [
    {
     "name": "stdout",
     "output_type": "stream",
     "text": [
      "The mape of the test data from model calculated from scratch:  0.4335604638213743\n",
      "the mape of the values from sklean:  0.4335604638213743\n"
     ]
    }
   ],
   "source": [
    "#predict all the test values here\n",
    "predicted_value=list()\n",
    "pre_y=dict()\n",
    "for i in range(0,test.shape[0]):\n",
    "    data=list()\n",
    "    data=test.iloc[i,0:3]\n",
    "    train[\"Distance\"]=np.sqrt( ((train[\"X1\"]-(data[0]))**2 ) +  ((train[\"X2\"]-(data[1]))**2 )   + ((train[\"X3\"]-(data[2]))**2 )    )\n",
    "    sorted_result=train.sort_values(by=\"Distance\")\n",
    "    predicted_value.append(sorted_result.iloc[0:3,-2].mean())\n",
    "pre_y={\"Pre_Y\":predicted_value}\n",
    "#here I am able to get the predicted Y\n",
    "test[\"Predicted_Y\"]=pd.DataFrame(pre_y)\n",
    "Result=test\n",
    "y_test=np.array(Result[\"y\"])\n",
    "y_pre=np.array(Result[\"Predicted_Y\"])\n",
    "mape_test = np.mean(np.abs((y_pre - y_test)/y_test)) \n",
    "print(\"The mape of the test data from model calculated from scratch: \",mape_test)\n",
    "model=KNeighborsRegressor(n_neighbors=3)\n",
    "model.fit(train[[\"X1\",\"X2\",\"X3\"]],train[\"y\"])\n",
    "y_pre=model.predict(test[[\"X1\",\"X2\",\"X3\"]])\n",
    "print(\"the mape of the values from sklean: \",mean_absolute_percentage_error(y_test, y_pre))"
   ]
  },
  {
   "cell_type": "code",
   "execution_count": 51,
   "id": "572f3eae",
   "metadata": {},
   "outputs": [],
   "source": [
    "train=pd.read_excel(\"knn.xlsx\")\n",
    "test=pd.read_excel(\"knn.xlsx\",1)"
   ]
  },
  {
   "cell_type": "code",
   "execution_count": 52,
   "id": "e498ace9",
   "metadata": {},
   "outputs": [
    {
     "name": "stdout",
     "output_type": "stream",
     "text": [
      "The mape of the model calculated from scratch:  0.601444005432643\n",
      "The mape from sklearn:  0.601444005432643\n"
     ]
    }
   ],
   "source": [
    "#predict all the test values here\n",
    "predicted_value=list()\n",
    "pre_y=dict()\n",
    "for i in range(0,train.shape[0]):\n",
    "    data=list()\n",
    "    data=train.iloc[i,0:3]\n",
    "    train[\"Distance\"]=np.sqrt( ((train[\"X1\"]-(data[0]))**2 ) +  ((train[\"X2\"]-(data[1]))**2 )   + ((train[\"X3\"]-(data[2]))**2 )    )\n",
    "    sorted_result=train.sort_values(by=\"Distance\")\n",
    "    predicted_value.append(sorted_result.iloc[0:3,-2].mean())\n",
    "pre_y={\"Pre_Y\":predicted_value}\n",
    "#here I am able to get the predicted Y\n",
    "train[\"Predicted_Y\"]=pd.DataFrame(pre_y)\n",
    "Result=train\n",
    "y_train=np.array(Result[\"y\"])\n",
    "y_pre=np.array(Result[\"Predicted_Y\"])\n",
    "print(\"The mape of the model calculated from scratch: \",mean_absolute_percentage_error(y_train, y_pre))\n",
    "model=KNeighborsRegressor(n_neighbors=3)\n",
    "model.fit(train[[\"X1\",\"X2\",\"X3\"]],train[\"y\"])\n",
    "y_pre=model.predict(train[[\"X1\",\"X2\",\"X3\"]])\n",
    "print(\"The mape from sklearn: \",mean_absolute_percentage_error(train['y'], y_pre))"
   ]
  },
  {
   "cell_type": "markdown",
   "id": "1289d049",
   "metadata": {},
   "source": [
    "The MAPE of the model from sklearn library is matching with the mape of the model from the algorithm coded from scratch"
   ]
  }
 ],
 "metadata": {
  "kernelspec": {
   "display_name": "Python 3 (ipykernel)",
   "language": "python",
   "name": "python3"
  },
  "language_info": {
   "codemirror_mode": {
    "name": "ipython",
    "version": 3
   },
   "file_extension": ".py",
   "mimetype": "text/x-python",
   "name": "python",
   "nbconvert_exporter": "python",
   "pygments_lexer": "ipython3",
   "version": "3.9.13"
  }
 },
 "nbformat": 4,
 "nbformat_minor": 5
}
