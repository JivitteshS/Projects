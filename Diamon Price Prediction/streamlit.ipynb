{
 "cells": [
  {
   "cell_type": "code",
   "execution_count": 9,
   "id": "986868e0",
   "metadata": {},
   "outputs": [
    {
     "ename": "SyntaxError",
     "evalue": "invalid syntax (streamlit.py, line 7)",
     "output_type": "error",
     "traceback": [
      "Traceback \u001b[1;36m(most recent call last)\u001b[0m:\n",
      "  File \u001b[0;32m\"C:\\Users\\jivit\\anaconda3\\lib\\site-packages\\IPython\\core\\interactiveshell.py\"\u001b[0m, line \u001b[0;32m3457\u001b[0m, in \u001b[0;35mrun_code\u001b[0m\n    exec(code_obj, self.user_global_ns, self.user_ns)\n",
      "\u001b[1;36m  File \u001b[1;32m\"C:\\Users\\jivit\\AppData\\Local\\Temp\\ipykernel_13380\\598580539.py\"\u001b[1;36m, line \u001b[1;32m1\u001b[1;36m, in \u001b[1;35m<module>\u001b[1;36m\u001b[0m\n\u001b[1;33m    import streamlit as st\u001b[0m\n",
      "\u001b[1;36m  File \u001b[1;32m\"D:\\Resume\\Projects\\Resume -Projects\\Regression Algorithms coded from scratch\\streamlit.py\"\u001b[1;36m, line \u001b[1;32m7\u001b[0m\n\u001b[1;33m    pip install streamlit scikit-learn\u001b[0m\n\u001b[1;37m        ^\u001b[0m\n\u001b[1;31mSyntaxError\u001b[0m\u001b[1;31m:\u001b[0m invalid syntax\n"
     ]
    }
   ],
   "source": [
    "import streamlit as st\n",
    "import pandas as pd\n",
    "import pickle\n",
    "\n",
    "# Load the trained Gradient Boosting Regressor model\n",
    "model_filename = 'pricemodel.pkl'  # Replace with the filename of your saved model\n",
    "with open(model_filename, 'rb') as file:\n",
    "    model = pickle.load(file)\n",
    "\n",
    "# Function to predict price based on input features\n",
    "def predict_price(carat, cut, color, clarity, depth, table, x, y, z):\n",
    "    input_data = pd.DataFrame({\n",
    "        'carat': [carat],\n",
    "        'cut': [cut],\n",
    "        'color': [color],\n",
    "        'clarity': [clarity],\n",
    "        'depth': [depth],\n",
    "        'table': [table],\n",
    "        'x': [x],\n",
    "        'y': [y],\n",
    "        'z': [z]\n",
    "    })\n",
    "\n",
    "    prediction = model.predict(input_data)\n",
    "    return prediction[0]\n",
    "\n",
    "# Create a Streamlit web app\n",
    "def main():\n",
    "    st.title('Diamond Price Prediction')\n",
    "\n",
    "    st.write('Please enter the following features to get the price prediction.')\n",
    "\n",
    "    carat = st.number_input('Carat', min_value=0.2, max_value=5.01, value=1.0, step=0.01)\n",
    "    cut = st.selectbox('Cut', [1,2,3,4,5])\n",
    "    color = st.selectbox('Color', [1,2,3,4,5,6,7])\n",
    "    clarity = st.selectbox('Clarity', [1,2,3,4,5,6,7,8])\n",
    "    depth = st.number_input('Depth', min_value=43.0, max_value=79.0, value=60.0, step=0.1)\n",
    "    table = st.number_input('Table', min_value=43.0, max_value=95.0, value=55.0, step=0.1)\n",
    "    x = st.number_input('x', min_value=0.0, max_value=10.74, value=5.0, step=0.01)\n",
    "    y = st.number_input('y', min_value=0.0, max_value=58.9, value=5.0, step=0.01)\n",
    "    z = st.number_input('z', min_value=0.0, max_value=31.8, value=5.0, step=0.01)\n",
    "\n",
    "    if st.button('Predict'):\n",
    "        prediction = predict_price(carat, cut, color, clarity, depth, table, x, y, z)\n",
    "        st.write(f'Predicted Price: ${prediction:.2f}')\n",
    "\n",
    "if __name__ == '__main__':\n",
    "    main()\n"
   ]
  },
  {
   "cell_type": "code",
   "execution_count": null,
   "id": "3f0bca0d",
   "metadata": {},
   "outputs": [],
   "source": []
  },
  {
   "cell_type": "code",
   "execution_count": null,
   "id": "14beaf14",
   "metadata": {},
   "outputs": [],
   "source": []
  }
 ],
 "metadata": {
  "kernelspec": {
   "display_name": "Python 3 (ipykernel)",
   "language": "python",
   "name": "python3"
  },
  "language_info": {
   "codemirror_mode": {
    "name": "ipython",
    "version": 3
   },
   "file_extension": ".py",
   "mimetype": "text/x-python",
   "name": "python",
   "nbconvert_exporter": "python",
   "pygments_lexer": "ipython3",
   "version": "3.9.13"
  }
 },
 "nbformat": 4,
 "nbformat_minor": 5
}
