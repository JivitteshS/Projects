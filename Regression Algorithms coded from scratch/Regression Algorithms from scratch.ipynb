{
 "cells": [
  {
   "cell_type": "code",
   "execution_count": 1,
   "id": "fdb5db85",
   "metadata": {},
   "outputs": [],
   "source": [
    "import numpy as np\n",
    "import pandas as pd\n",
    "from sklearn.neighbors import KNeighborsRegressor\n",
    "from sklearn.metrics import mean_absolute_percentage_error\n",
    "from sklearn.model_selection import train_test_split\n",
    "\n",
    "import numpy as np\n",
    "import pandas as pd\n",
    "from sklearn.ensemble import GradientBoostingRegressor\n",
    "from sklearn.ensemble import RandomForestRegressor\n",
    "from sklearn.linear_model import LinearRegression\n",
    "from sklearn.tree import DecisionTreeRegressor\n",
    "from statsmodels.formula.api import ols\n",
    "from sklearn.metrics import r2_score\n"
   ]
  },
  {
   "cell_type": "code",
   "execution_count": 3,
   "id": "b25b346b",
   "metadata": {},
   "outputs": [],
   "source": [
    "train=pd.read_excel(\"knn.xlsx\")\n",
    "test=pd.read_excel(\"knn.xlsx\",1)"
   ]
  },
  {
   "cell_type": "markdown",
   "id": "17ee17d4",
   "metadata": {},
   "source": [
    "**Here I have code KNN regression from scratch, predicted the outcome for the test data and compared it with the KNN model from SKlearn library with MAPE as performance metric.**"
   ]
  },
  {
   "cell_type": "code",
   "execution_count": 8,
   "id": "f9cd9218",
   "metadata": {},
   "outputs": [],
   "source": [
    "#read the dataset\n",
    "df=pd.read_csv(\"dia.csv\")\n",
    "df['cut'].replace({\"Ideal\":1,\"Premium\":2,\"Very Good\":3,\"Good\":4,\"Fair\":5},inplace=True)\n"
   ]
  },
  {
   "cell_type": "code",
   "execution_count": 4,
   "id": "071ce6af",
   "metadata": {},
   "outputs": [
    {
     "name": "stdout",
     "output_type": "stream",
     "text": [
      "The mape of the test data from model calculated from scratch:  0.4335604638213743\n",
      "the mape of the values from sklean:  0.4335604638213743\n"
     ]
    }
   ],
   "source": [
    "#predict all the test values here\n",
    "predicted_value=list()\n",
    "pre_y=dict()\n",
    "for i in range(0,test.shape[0]):\n",
    "    data=list()\n",
    "    data=test.iloc[i,0:3]  # take one row of the test data\n",
    "    train[\"Distance\"]=np.sqrt( ((train[\"X1\"]-(data[0]))**2 ) +  ((train[\"X2\"]-(data[1]))**2 )   + ((train[\"X3\"]-(data[2]))**2 )    )\n",
    "    sorted_result=train.sort_values(by=\"Distance\")   #calculate eucilidean distance and sort the values by ascending order of distance\n",
    "    predicted_value.append(sorted_result.iloc[0:3,-2].mean())\n",
    "pre_y={\"Pre_Y\":predicted_value}\n",
    "#here I am able to get the predicted Y\n",
    "test[\"Predicted_Y\"]=pd.DataFrame(pre_y)\n",
    "Result=test\n",
    "y_test=np.array(Result[\"y\"])\n",
    "y_pre=np.array(Result[\"Predicted_Y\"])\n",
    "mape_test = np.mean(np.abs((y_pre - y_test)/y_test)) \n",
    "print(\"The mape of the test data from model calculated from scratch: \",mape_test)\n",
    "model=KNeighborsRegressor(n_neighbors=3)\n",
    "model.fit(train[[\"X1\",\"X2\",\"X3\"]],train[\"y\"])\n",
    "y_pre=model.predict(test[[\"X1\",\"X2\",\"X3\"]])\n",
    "print(\"the mape of the values from sklean: \",mean_absolute_percentage_error(y_test, y_pre))"
   ]
  },
  {
   "cell_type": "code",
   "execution_count": 9,
   "id": "77870f8f",
   "metadata": {},
   "outputs": [],
   "source": [
    "#read the dataset\n",
    "df=pd.read_csv(\"dia.csv\")\n",
    "df['cut'].replace({\"Ideal\":1,\"Premium\":2,\"Very Good\":3,\"Good\":4,\"Fair\":5},inplace=True)\n",
    "#declare the features and label\n",
    "X=df[[\"carat\",\"depth\",\"table\",\"x\",\"y\",\"z\",\"cut\"]]\n",
    "y=df[\"price\"]"
   ]
  },
  {
   "cell_type": "markdown",
   "id": "e9ab5b73",
   "metadata": {},
   "source": [
    "**Function to perform gradient boosting regression using decision trees and calculate its mape and also calculate the mape of gradient boosting regressor model from for the given data**"
   ]
  },
  {
   "cell_type": "code",
   "execution_count": 10,
   "id": "ecc7dcec",
   "metadata": {},
   "outputs": [],
   "source": [
    "def gb_regressor(X,y,alpha,n,tdepth):\n",
    "    for i in range(0,n+1):   \n",
    "        if i==0:\n",
    "            y_bar=y.mean()\n",
    "            e=np.array(y-y_bar)   # initialize the errors in the first step using the mean of label values\n",
    "        if i==1:\n",
    "            model=DecisionTreeRegressor(max_depth=tdepth)\n",
    "            model.fit(X,e)    # fit the model with the feature and error\n",
    "            e_hat=model.predict(X)  # predict the values using the feature\n",
    "            y_hat=y_bar+alpha*e_hat     # calculate the y_hat using the y_bar value\n",
    "            e=y-y_hat   \n",
    "# repeat the steps from the second iteration since the calculation of errors and y_hat would follow a loop after two iterations \n",
    "        if i>1:    \n",
    "            model=DecisionTreeRegressor(max_depth=tdepth)   \n",
    "            model.fit(X,e)\n",
    "            e_hat=model.predict(X)\n",
    "            y_hat=y_hat+alpha*e_hat\n",
    "            e=y-y_hat\n",
    "    #once the iterations are done we would get the final predicted values of y\n",
    "    \n",
    "    mdl=GradientBoostingRegressor(max_depth=tdepth,learning_rate=alpha,n_estimators=n)\n",
    "    mdl.fit(X,y) #initialize the gradient boosting regressor from sklearn then fit and predict the X values\n",
    "    pre_y=mdl.predict(X)\n",
    "    cal_mape=\"The Mape of Gradient Boosting Regressor from scratch: \"+str(np.mean(np.abs((y-y_hat)/y))) #here I have calculated the Mape of Gradient Boosting Algorithm which was done from scratch\n",
    "    mdl_mape=\"The Mape of Gradient Boosting Regressor model from sklearn: \"+str(np.mean(np.abs((y-pre_y)/y)))  #here I have calculated the sklearn library's gradient boosting regressor from scratch\n",
    "    #prin the mape_values here\n",
    "    print(cal_mape) \n",
    "    print(mdl_mape) "
   ]
  },
  {
   "cell_type": "code",
   "execution_count": 11,
   "id": "80ee73fe",
   "metadata": {},
   "outputs": [
    {
     "name": "stdout",
     "output_type": "stream",
     "text": [
      "The Mape of Gradient Boosting Regressor from scratch: 0.011643594277307814\n",
      "The Mape of Gradient Boosting Regressor model from sklearn: 0.011643584340445965\n"
     ]
    }
   ],
   "source": [
    "gb_regressor(X,y,0.5,100,100)"
   ]
  },
  {
   "cell_type": "markdown",
   "id": "8e0d33fa",
   "metadata": {},
   "source": [
    "From the above output the Mape values of Gradient Boosting Regressor done from scratch and the algorithm coded from scratch are matching with highly negligible difference between the MAPE values."
   ]
  }
 ],
 "metadata": {
  "kernelspec": {
   "display_name": "Python 3 (ipykernel)",
   "language": "python",
   "name": "python3"
  },
  "language_info": {
   "codemirror_mode": {
    "name": "ipython",
    "version": 3
   },
   "file_extension": ".py",
   "mimetype": "text/x-python",
   "name": "python",
   "nbconvert_exporter": "python",
   "pygments_lexer": "ipython3",
   "version": "3.9.13"
  }
 },
 "nbformat": 4,
 "nbformat_minor": 5
}
