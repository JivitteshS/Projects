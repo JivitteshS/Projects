{
 "cells": [
  {
   "cell_type": "markdown",
   "id": "1a3a1432",
   "metadata": {},
   "source": [
    "## **Gradient Boosting Regressor from Scratch**"
   ]
  },
  {
   "cell_type": "code",
   "execution_count": 1,
   "id": "6527c067",
   "metadata": {},
   "outputs": [],
   "source": [
    "import numpy as np\n",
    "import pandas as pd\n",
    "from sklearn.ensemble import GradientBoostingRegressor\n",
    "from sklearn.tree import DecisionTreeRegressor"
   ]
  },
  {
   "cell_type": "code",
   "execution_count": 46,
   "id": "98e388e2",
   "metadata": {},
   "outputs": [],
   "source": [
    "#read the dataset\n",
    "df=pd.read_csv(\"dia.csv\")\n",
    "#declare the features and label\n",
    "X=df[['carat','depth','table','x','y','z']]\n",
    "y=df['price']"
   ]
  },
  {
   "cell_type": "markdown",
   "id": "47ed12e7",
   "metadata": {},
   "source": [
    "**Function to perform gradient boosting regression using decision trees and calculate its mape and also calculate the mape of gradient boosting regressor model from for the given data**"
   ]
  },
  {
   "cell_type": "code",
   "execution_count": 66,
   "id": "4a8a886f",
   "metadata": {},
   "outputs": [],
   "source": [
    "def gb_regressor(X,y,alpha,n,tdepth):\n",
    "    for i in range(0,n+1):   \n",
    "        if i==0:\n",
    "            y_bar=y.mean()\n",
    "            e=np.array(y-y_bar)   # initialize the errors in the first step using the mean of label values\n",
    "        if i==1:\n",
    "            model=DecisionTreeRegressor(max_depth=tdepth)\n",
    "            model.fit(X,e)    # fit the model with the feature and error\n",
    "            e_hat=model.predict(X)  # predict the values using the feature\n",
    "            y_hat=y_bar+alpha*e_hat     # calculate the y_hat using the y_bar value\n",
    "            e=y-y_hat   \n",
    "# repeat the steps from the second iteration since the calculation of errors and y_hat would follow a loop after two iterations \n",
    "        if i>1:    \n",
    "            model=DecisionTreeRegressor(max_depth=tdepth)   \n",
    "            model.fit(X,e)\n",
    "            e_hat=model.predict(X)\n",
    "            y_hat=y_hat+alpha*e_hat\n",
    "            e=y-y_hat\n",
    "    #once the iterations are done we would get the final predicted values of y\n",
    "    \n",
    "    mdl=GradientBoostingRegressor(max_depth=tdepth,learning_rate=alpha,n_estimators=n)\n",
    "    mdl.fit(X,y) #initialize the gradient boosting regressor from sklearn then fit and predict the X values\n",
    "    pre_y=mdl.predict(X)\n",
    "    cal_mape=\"The Mape of Gradient Boosting Regressor from scratch: \"+str(np.mean(np.abs((y-y_hat)/y))) #here I have calculated the Mape of Gradient Boosting Algorithm which was done from scratch\n",
    "    mdl_mape=\"The Mape of Gradient Boosting Regressor model from sklearn: \"+str(np.mean(np.abs((y-pre_y)/y)))  #here I have calculated the sklearn library's gradient boosting regressor from scratch\n",
    "    #prin the mape_values here\n",
    "    print(cal_mape) \n",
    "    print(mdl_mape) "
   ]
  },
  {
   "cell_type": "code",
   "execution_count": 67,
   "id": "e6a32d61",
   "metadata": {},
   "outputs": [
    {
     "name": "stdout",
     "output_type": "stream",
     "text": [
      "The Mape of Gradient Boosting Regressor from scratch: 0.26798990855195376\n",
      "The Mape of Gradient Boosting Regressor model from sklearn: 0.267989908551948\n"
     ]
    }
   ],
   "source": [
    "gb_regressor(X,y,0.5,13,1)"
   ]
  },
  {
   "cell_type": "markdown",
   "id": "8ad52431",
   "metadata": {},
   "source": [
    "From the above output the Mape values of Gradient Boosting Regressor done from scratch and the algorithm coded from scratch are matching with highly negligible difference between the MAPE values."
   ]
  }
 ],
 "metadata": {
  "kernelspec": {
   "display_name": "Python 3 (ipykernel)",
   "language": "python",
   "name": "python3"
  },
  "language_info": {
   "codemirror_mode": {
    "name": "ipython",
    "version": 3
   },
   "file_extension": ".py",
   "mimetype": "text/x-python",
   "name": "python",
   "nbconvert_exporter": "python",
   "pygments_lexer": "ipython3",
   "version": "3.9.13"
  }
 },
 "nbformat": 4,
 "nbformat_minor": 5
}
