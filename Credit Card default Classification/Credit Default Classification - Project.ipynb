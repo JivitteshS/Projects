{
 "cells": [
  {
   "cell_type": "markdown",
   "id": "ed05939b",
   "metadata": {},
   "source": [
    "## The objective is to predict the probability of default for customers using credit cards  from a bank in Taiwan and classify them ."
   ]
  },
  {
   "cell_type": "markdown",
   "id": "943dd174",
   "metadata": {},
   "source": [
    "**DataSource:** UCI ML Repository "
   ]
  },
  {
   "cell_type": "code",
   "execution_count": 58,
   "id": "488c671b",
   "metadata": {},
   "outputs": [
    {
     "name": "stdout",
     "output_type": "stream",
     "text": [
      "Requirement already satisfied: plot_metric in c:\\users\\jivit\\anaconda3\\lib\\site-packages (0.0.6)\n",
      "Requirement already satisfied: scipy>=1.1.0 in c:\\users\\jivit\\anaconda3\\lib\\site-packages (from plot_metric) (1.9.1)\n",
      "Requirement already satisfied: seaborn>=0.9.0 in c:\\users\\jivit\\anaconda3\\lib\\site-packages (from plot_metric) (0.11.2)\n",
      "Requirement already satisfied: matplotlib>=3.0.2 in c:\\users\\jivit\\anaconda3\\lib\\site-packages (from plot_metric) (3.5.2)\n",
      "Requirement already satisfied: pandas>=0.23.4 in c:\\users\\jivit\\anaconda3\\lib\\site-packages (from plot_metric) (1.4.4)\n",
      "Requirement already satisfied: scikit-learn>=0.21.2 in c:\\users\\jivit\\anaconda3\\lib\\site-packages (from plot_metric) (1.0.2)\n",
      "Requirement already satisfied: colorlover>=0.3.0 in c:\\users\\jivit\\anaconda3\\lib\\site-packages (from plot_metric) (0.3.0)\n",
      "Requirement already satisfied: numpy>=1.15.4 in c:\\users\\jivit\\anaconda3\\lib\\site-packages (from plot_metric) (1.21.5)\n",
      "Requirement already satisfied: cycler>=0.10 in c:\\users\\jivit\\anaconda3\\lib\\site-packages (from matplotlib>=3.0.2->plot_metric) (0.11.0)\n",
      "Requirement already satisfied: pillow>=6.2.0 in c:\\users\\jivit\\anaconda3\\lib\\site-packages (from matplotlib>=3.0.2->plot_metric) (9.2.0)\n",
      "Requirement already satisfied: pyparsing>=2.2.1 in c:\\users\\jivit\\anaconda3\\lib\\site-packages (from matplotlib>=3.0.2->plot_metric) (3.0.9)\n",
      "Requirement already satisfied: kiwisolver>=1.0.1 in c:\\users\\jivit\\anaconda3\\lib\\site-packages (from matplotlib>=3.0.2->plot_metric) (1.4.2)\n",
      "Requirement already satisfied: fonttools>=4.22.0 in c:\\users\\jivit\\anaconda3\\lib\\site-packages (from matplotlib>=3.0.2->plot_metric) (4.25.0)\n",
      "Requirement already satisfied: packaging>=20.0 in c:\\users\\jivit\\anaconda3\\lib\\site-packages (from matplotlib>=3.0.2->plot_metric) (21.3)\n",
      "Requirement already satisfied: python-dateutil>=2.7 in c:\\users\\jivit\\anaconda3\\lib\\site-packages (from matplotlib>=3.0.2->plot_metric) (2.8.2)\n",
      "Requirement already satisfied: pytz>=2020.1 in c:\\users\\jivit\\anaconda3\\lib\\site-packages (from pandas>=0.23.4->plot_metric) (2022.1)\n",
      "Requirement already satisfied: threadpoolctl>=2.0.0 in c:\\users\\jivit\\anaconda3\\lib\\site-packages (from scikit-learn>=0.21.2->plot_metric) (2.2.0)\n",
      "Requirement already satisfied: joblib>=0.11 in c:\\users\\jivit\\anaconda3\\lib\\site-packages (from scikit-learn>=0.21.2->plot_metric) (1.1.0)\n",
      "Requirement already satisfied: six>=1.5 in c:\\users\\jivit\\anaconda3\\lib\\site-packages (from python-dateutil>=2.7->matplotlib>=3.0.2->plot_metric) (1.16.0)\n"
     ]
    }
   ],
   "source": [
    "import warnings\n",
    "warnings.filterwarnings(\"ignore\")\n",
    "import numpy as np\n",
    "import pandas as pd\n",
    "import matplotlib.pyplot as plt\n",
    "import seaborn as sns\n",
    "from sklearn.linear_model import LogisticRegression\n",
    "from sklearn.neighbors import KNeighborsClassifier\n",
    "!pip install plot_metric\n",
    "from plot_metric.functions import BinaryClassification \n",
    "from sklearn.metrics import confusion_matrix, roc_auc_score, plot_roc_curve\n",
    "from sklearn.model_selection import train_test_split\n",
    "from sklearn.tree import DecisionTreeClassifier"
   ]
  },
  {
   "cell_type": "code",
   "execution_count": 59,
   "id": "1ff32734",
   "metadata": {},
   "outputs": [],
   "source": [
    "df=pd.read_excel(\"Default - credit card clients.xlsx\")"
   ]
  },
  {
   "cell_type": "code",
   "execution_count": 60,
   "id": "d8f135af",
   "metadata": {},
   "outputs": [
    {
     "data": {
      "text/html": [
       "<div>\n",
       "<style scoped>\n",
       "    .dataframe tbody tr th:only-of-type {\n",
       "        vertical-align: middle;\n",
       "    }\n",
       "\n",
       "    .dataframe tbody tr th {\n",
       "        vertical-align: top;\n",
       "    }\n",
       "\n",
       "    .dataframe thead th {\n",
       "        text-align: right;\n",
       "    }\n",
       "</style>\n",
       "<table border=\"1\" class=\"dataframe\">\n",
       "  <thead>\n",
       "    <tr style=\"text-align: right;\">\n",
       "      <th></th>\n",
       "      <th>ID</th>\n",
       "      <th>LIMIT_BAL</th>\n",
       "      <th>SEX</th>\n",
       "      <th>EDUCATION</th>\n",
       "      <th>MARRIAGE</th>\n",
       "      <th>AGE</th>\n",
       "      <th>PAY_0</th>\n",
       "      <th>PAY_2</th>\n",
       "      <th>PAY_3</th>\n",
       "      <th>PAY_4</th>\n",
       "      <th>...</th>\n",
       "      <th>BILL_AMT4</th>\n",
       "      <th>BILL_AMT5</th>\n",
       "      <th>BILL_AMT6</th>\n",
       "      <th>PAY_AMT1</th>\n",
       "      <th>PAY_AMT2</th>\n",
       "      <th>PAY_AMT3</th>\n",
       "      <th>PAY_AMT4</th>\n",
       "      <th>PAY_AMT5</th>\n",
       "      <th>PAY_AMT6</th>\n",
       "      <th>default payment next month</th>\n",
       "    </tr>\n",
       "  </thead>\n",
       "  <tbody>\n",
       "    <tr>\n",
       "      <th>0</th>\n",
       "      <td>1</td>\n",
       "      <td>20000</td>\n",
       "      <td>2</td>\n",
       "      <td>2</td>\n",
       "      <td>1</td>\n",
       "      <td>24</td>\n",
       "      <td>2</td>\n",
       "      <td>2</td>\n",
       "      <td>-1</td>\n",
       "      <td>-1</td>\n",
       "      <td>...</td>\n",
       "      <td>0</td>\n",
       "      <td>0</td>\n",
       "      <td>0</td>\n",
       "      <td>0</td>\n",
       "      <td>689</td>\n",
       "      <td>0</td>\n",
       "      <td>0</td>\n",
       "      <td>0</td>\n",
       "      <td>0</td>\n",
       "      <td>1</td>\n",
       "    </tr>\n",
       "    <tr>\n",
       "      <th>1</th>\n",
       "      <td>2</td>\n",
       "      <td>120000</td>\n",
       "      <td>2</td>\n",
       "      <td>2</td>\n",
       "      <td>2</td>\n",
       "      <td>26</td>\n",
       "      <td>-1</td>\n",
       "      <td>2</td>\n",
       "      <td>0</td>\n",
       "      <td>0</td>\n",
       "      <td>...</td>\n",
       "      <td>3272</td>\n",
       "      <td>3455</td>\n",
       "      <td>3261</td>\n",
       "      <td>0</td>\n",
       "      <td>1000</td>\n",
       "      <td>1000</td>\n",
       "      <td>1000</td>\n",
       "      <td>0</td>\n",
       "      <td>2000</td>\n",
       "      <td>1</td>\n",
       "    </tr>\n",
       "    <tr>\n",
       "      <th>2</th>\n",
       "      <td>3</td>\n",
       "      <td>90000</td>\n",
       "      <td>2</td>\n",
       "      <td>2</td>\n",
       "      <td>2</td>\n",
       "      <td>34</td>\n",
       "      <td>0</td>\n",
       "      <td>0</td>\n",
       "      <td>0</td>\n",
       "      <td>0</td>\n",
       "      <td>...</td>\n",
       "      <td>14331</td>\n",
       "      <td>14948</td>\n",
       "      <td>15549</td>\n",
       "      <td>1518</td>\n",
       "      <td>1500</td>\n",
       "      <td>1000</td>\n",
       "      <td>1000</td>\n",
       "      <td>1000</td>\n",
       "      <td>5000</td>\n",
       "      <td>0</td>\n",
       "    </tr>\n",
       "    <tr>\n",
       "      <th>3</th>\n",
       "      <td>4</td>\n",
       "      <td>50000</td>\n",
       "      <td>2</td>\n",
       "      <td>2</td>\n",
       "      <td>1</td>\n",
       "      <td>37</td>\n",
       "      <td>0</td>\n",
       "      <td>0</td>\n",
       "      <td>0</td>\n",
       "      <td>0</td>\n",
       "      <td>...</td>\n",
       "      <td>28314</td>\n",
       "      <td>28959</td>\n",
       "      <td>29547</td>\n",
       "      <td>2000</td>\n",
       "      <td>2019</td>\n",
       "      <td>1200</td>\n",
       "      <td>1100</td>\n",
       "      <td>1069</td>\n",
       "      <td>1000</td>\n",
       "      <td>0</td>\n",
       "    </tr>\n",
       "    <tr>\n",
       "      <th>4</th>\n",
       "      <td>5</td>\n",
       "      <td>50000</td>\n",
       "      <td>1</td>\n",
       "      <td>2</td>\n",
       "      <td>1</td>\n",
       "      <td>57</td>\n",
       "      <td>-1</td>\n",
       "      <td>0</td>\n",
       "      <td>-1</td>\n",
       "      <td>0</td>\n",
       "      <td>...</td>\n",
       "      <td>20940</td>\n",
       "      <td>19146</td>\n",
       "      <td>19131</td>\n",
       "      <td>2000</td>\n",
       "      <td>36681</td>\n",
       "      <td>10000</td>\n",
       "      <td>9000</td>\n",
       "      <td>689</td>\n",
       "      <td>679</td>\n",
       "      <td>0</td>\n",
       "    </tr>\n",
       "    <tr>\n",
       "      <th>...</th>\n",
       "      <td>...</td>\n",
       "      <td>...</td>\n",
       "      <td>...</td>\n",
       "      <td>...</td>\n",
       "      <td>...</td>\n",
       "      <td>...</td>\n",
       "      <td>...</td>\n",
       "      <td>...</td>\n",
       "      <td>...</td>\n",
       "      <td>...</td>\n",
       "      <td>...</td>\n",
       "      <td>...</td>\n",
       "      <td>...</td>\n",
       "      <td>...</td>\n",
       "      <td>...</td>\n",
       "      <td>...</td>\n",
       "      <td>...</td>\n",
       "      <td>...</td>\n",
       "      <td>...</td>\n",
       "      <td>...</td>\n",
       "      <td>...</td>\n",
       "    </tr>\n",
       "    <tr>\n",
       "      <th>29995</th>\n",
       "      <td>29996</td>\n",
       "      <td>220000</td>\n",
       "      <td>1</td>\n",
       "      <td>3</td>\n",
       "      <td>1</td>\n",
       "      <td>39</td>\n",
       "      <td>0</td>\n",
       "      <td>0</td>\n",
       "      <td>0</td>\n",
       "      <td>0</td>\n",
       "      <td>...</td>\n",
       "      <td>88004</td>\n",
       "      <td>31237</td>\n",
       "      <td>15980</td>\n",
       "      <td>8500</td>\n",
       "      <td>20000</td>\n",
       "      <td>5003</td>\n",
       "      <td>3047</td>\n",
       "      <td>5000</td>\n",
       "      <td>1000</td>\n",
       "      <td>0</td>\n",
       "    </tr>\n",
       "    <tr>\n",
       "      <th>29996</th>\n",
       "      <td>29997</td>\n",
       "      <td>150000</td>\n",
       "      <td>1</td>\n",
       "      <td>3</td>\n",
       "      <td>2</td>\n",
       "      <td>43</td>\n",
       "      <td>-1</td>\n",
       "      <td>-1</td>\n",
       "      <td>-1</td>\n",
       "      <td>-1</td>\n",
       "      <td>...</td>\n",
       "      <td>8979</td>\n",
       "      <td>5190</td>\n",
       "      <td>0</td>\n",
       "      <td>1837</td>\n",
       "      <td>3526</td>\n",
       "      <td>8998</td>\n",
       "      <td>129</td>\n",
       "      <td>0</td>\n",
       "      <td>0</td>\n",
       "      <td>0</td>\n",
       "    </tr>\n",
       "    <tr>\n",
       "      <th>29997</th>\n",
       "      <td>29998</td>\n",
       "      <td>30000</td>\n",
       "      <td>1</td>\n",
       "      <td>2</td>\n",
       "      <td>2</td>\n",
       "      <td>37</td>\n",
       "      <td>4</td>\n",
       "      <td>3</td>\n",
       "      <td>2</td>\n",
       "      <td>-1</td>\n",
       "      <td>...</td>\n",
       "      <td>20878</td>\n",
       "      <td>20582</td>\n",
       "      <td>19357</td>\n",
       "      <td>0</td>\n",
       "      <td>0</td>\n",
       "      <td>22000</td>\n",
       "      <td>4200</td>\n",
       "      <td>2000</td>\n",
       "      <td>3100</td>\n",
       "      <td>1</td>\n",
       "    </tr>\n",
       "    <tr>\n",
       "      <th>29998</th>\n",
       "      <td>29999</td>\n",
       "      <td>80000</td>\n",
       "      <td>1</td>\n",
       "      <td>3</td>\n",
       "      <td>1</td>\n",
       "      <td>41</td>\n",
       "      <td>1</td>\n",
       "      <td>-1</td>\n",
       "      <td>0</td>\n",
       "      <td>0</td>\n",
       "      <td>...</td>\n",
       "      <td>52774</td>\n",
       "      <td>11855</td>\n",
       "      <td>48944</td>\n",
       "      <td>85900</td>\n",
       "      <td>3409</td>\n",
       "      <td>1178</td>\n",
       "      <td>1926</td>\n",
       "      <td>52964</td>\n",
       "      <td>1804</td>\n",
       "      <td>1</td>\n",
       "    </tr>\n",
       "    <tr>\n",
       "      <th>29999</th>\n",
       "      <td>30000</td>\n",
       "      <td>50000</td>\n",
       "      <td>1</td>\n",
       "      <td>2</td>\n",
       "      <td>1</td>\n",
       "      <td>46</td>\n",
       "      <td>0</td>\n",
       "      <td>0</td>\n",
       "      <td>0</td>\n",
       "      <td>0</td>\n",
       "      <td>...</td>\n",
       "      <td>36535</td>\n",
       "      <td>32428</td>\n",
       "      <td>15313</td>\n",
       "      <td>2078</td>\n",
       "      <td>1800</td>\n",
       "      <td>1430</td>\n",
       "      <td>1000</td>\n",
       "      <td>1000</td>\n",
       "      <td>1000</td>\n",
       "      <td>1</td>\n",
       "    </tr>\n",
       "  </tbody>\n",
       "</table>\n",
       "<p>30000 rows × 25 columns</p>\n",
       "</div>"
      ],
      "text/plain": [
       "          ID  LIMIT_BAL  SEX  EDUCATION  MARRIAGE  AGE  PAY_0  PAY_2  PAY_3  \\\n",
       "0          1      20000    2          2         1   24      2      2     -1   \n",
       "1          2     120000    2          2         2   26     -1      2      0   \n",
       "2          3      90000    2          2         2   34      0      0      0   \n",
       "3          4      50000    2          2         1   37      0      0      0   \n",
       "4          5      50000    1          2         1   57     -1      0     -1   \n",
       "...      ...        ...  ...        ...       ...  ...    ...    ...    ...   \n",
       "29995  29996     220000    1          3         1   39      0      0      0   \n",
       "29996  29997     150000    1          3         2   43     -1     -1     -1   \n",
       "29997  29998      30000    1          2         2   37      4      3      2   \n",
       "29998  29999      80000    1          3         1   41      1     -1      0   \n",
       "29999  30000      50000    1          2         1   46      0      0      0   \n",
       "\n",
       "       PAY_4  ...  BILL_AMT4  BILL_AMT5  BILL_AMT6  PAY_AMT1  PAY_AMT2  \\\n",
       "0         -1  ...          0          0          0         0       689   \n",
       "1          0  ...       3272       3455       3261         0      1000   \n",
       "2          0  ...      14331      14948      15549      1518      1500   \n",
       "3          0  ...      28314      28959      29547      2000      2019   \n",
       "4          0  ...      20940      19146      19131      2000     36681   \n",
       "...      ...  ...        ...        ...        ...       ...       ...   \n",
       "29995      0  ...      88004      31237      15980      8500     20000   \n",
       "29996     -1  ...       8979       5190          0      1837      3526   \n",
       "29997     -1  ...      20878      20582      19357         0         0   \n",
       "29998      0  ...      52774      11855      48944     85900      3409   \n",
       "29999      0  ...      36535      32428      15313      2078      1800   \n",
       "\n",
       "       PAY_AMT3  PAY_AMT4  PAY_AMT5  PAY_AMT6  default payment next month  \n",
       "0             0         0         0         0                           1  \n",
       "1          1000      1000         0      2000                           1  \n",
       "2          1000      1000      1000      5000                           0  \n",
       "3          1200      1100      1069      1000                           0  \n",
       "4         10000      9000       689       679                           0  \n",
       "...         ...       ...       ...       ...                         ...  \n",
       "29995      5003      3047      5000      1000                           0  \n",
       "29996      8998       129         0         0                           0  \n",
       "29997     22000      4200      2000      3100                           1  \n",
       "29998      1178      1926     52964      1804                           1  \n",
       "29999      1430      1000      1000      1000                           1  \n",
       "\n",
       "[30000 rows x 25 columns]"
      ]
     },
     "execution_count": 60,
     "metadata": {},
     "output_type": "execute_result"
    }
   ],
   "source": [
    "df"
   ]
  },
  {
   "cell_type": "markdown",
   "id": "3929e12b",
   "metadata": {},
   "source": [
    "1.Limit Balance: Amount of the given credit (NT dollar): it includes both the individual consumer credit and his/her family (supplementary) credit.\n",
    "\n",
    "2.SEX: Gender (1 = male; 2 = female).\n",
    "\n",
    "3.Education:  (1 = graduate school; 2 = university; 3 = high school; 4 = others).\n",
    "\n",
    "4.Marital status: (1 = married; 2 = single; 3 = others).\n",
    "\n",
    "5.Age:  (year)."
   ]
  },
  {
   "cell_type": "markdown",
   "id": "0e1517e5",
   "metadata": {},
   "source": [
    "The measurement scale for the repayment status is: \n",
    " 1. -1 = pay duly; \n",
    " 2. 1 = payment delay for one month; \n",
    " 3. 2 = payment delay for two months;\n",
    " 4. 3 = payment delay for three months;\n",
    " 5. 4 = payment delay for four months\n",
    " 6. 5 = payment delay for five months\n",
    " 7. 6 = payment delay for six months\n",
    " 8. 7 = payment delay for seven months\n",
    " 9. 8 = payment delay for eight months\n",
    " 10. 9 = payment delay for nine months"
   ]
  },
  {
   "cell_type": "markdown",
   "id": "37065547",
   "metadata": {},
   "source": [
    "6.PAY0 - PAY6: History of past payment.  the past monthly payment records (from April to September, 2005) as follows: \n",
    " 1.                                           PAY_0 = the repayment status in September, 2005; \n",
    " 2.                                            PAY_2 = the repayment status in August, 2005. \n",
    " 3.                                           PAY_3 =the repayment status in July, 2005. \n",
    " 4.                                           PAY_4 =the repayment status in June, 2005. \n",
    " 5.                                           PAY_5 =the repayment status in May, 2005. \n",
    " 6.                                           PAY_6 = the repayment status in April, 2005. "
   ]
  },
  {
   "cell_type": "markdown",
   "id": "6de11861",
   "metadata": {},
   "source": [
    "7.BILL_AMT1 - BILL_AMT6: Amount of bill statement (NT dollar). \n",
    "   1.                                 BILL_AMT1 = amount of bill statement in September, 2005; \n",
    "   2.                                 BILL_AMT2 = amount of bill statement in August, 2005;\n",
    "   3.                                 BILL_AMT3 = amount of bill statement in July, 2005\n",
    "   4.                                 BILL_AMT4 = amount of bill statement in June, 2005;\n",
    "   5.                                 BILL_AMT5 = amount of bill statement in May, 2005;\n",
    "   6.                                 BILL_AMT6 = amount of bill statement in April, 2005;"
   ]
  },
  {
   "cell_type": "markdown",
   "id": "fc220e4a",
   "metadata": {},
   "source": [
    "8.PAY_AMT1-PAY_AMT6: Amount of previous payment (NT dollar). \n",
    "  1.                        PAY_AMT1 = amount paid in September, 2005; \n",
    "  2.                        PAY_AMT2 = amount paid in August, 2005;\n",
    "  3.                        PAY_AMT3 = amount paid in July, 2005\n",
    "  4.                        PAY_AMT4 = amount paid in June, 2005;\n",
    "  5.                        PAY_AMT5 = amount paid in May, 2005;\n",
    "  6.                        PAY_AMT6 = amount paid in April, 2005;"
   ]
  },
  {
   "cell_type": "markdown",
   "id": "3b202f28",
   "metadata": {},
   "source": [
    "<a id=\"summary\"></a>\n",
    "## Exploratory Data Analysis"
   ]
  },
  {
   "cell_type": "markdown",
   "id": "36647909",
   "metadata": {},
   "source": [
    "<a id=\"summary\"></a>\n",
    "## Univariate Analysis"
   ]
  },
  {
   "cell_type": "code",
   "execution_count": 61,
   "id": "bbbd67a2",
   "metadata": {},
   "outputs": [
    {
     "data": {
      "text/plain": [
       "(30000, 25)"
      ]
     },
     "execution_count": 61,
     "metadata": {},
     "output_type": "execute_result"
    }
   ],
   "source": [
    "df.shape ##check the shape of the dataset"
   ]
  },
  {
   "cell_type": "markdown",
   "id": "f23ee836",
   "metadata": {},
   "source": [
    "The dataset has 30000 rows and 25 columns"
   ]
  },
  {
   "cell_type": "code",
   "execution_count": 62,
   "id": "fa395aad",
   "metadata": {
    "scrolled": true
   },
   "outputs": [
    {
     "data": {
      "text/plain": [
       "Index(['ID', 'LIMIT_BAL', 'SEX', 'EDUCATION', 'MARRIAGE', 'AGE', 'PAY_0',\n",
       "       'PAY_2', 'PAY_3', 'PAY_4', 'PAY_5', 'PAY_6', 'BILL_AMT1', 'BILL_AMT2',\n",
       "       'BILL_AMT3', 'BILL_AMT4', 'BILL_AMT5', 'BILL_AMT6', 'PAY_AMT1',\n",
       "       'PAY_AMT2', 'PAY_AMT3', 'PAY_AMT4', 'PAY_AMT5', 'PAY_AMT6',\n",
       "       'default payment next month'],\n",
       "      dtype='object')"
      ]
     },
     "execution_count": 62,
     "metadata": {},
     "output_type": "execute_result"
    }
   ],
   "source": [
    "df.columns"
   ]
  },
  {
   "cell_type": "code",
   "execution_count": 63,
   "id": "d7ca2795",
   "metadata": {},
   "outputs": [
    {
     "data": {
      "text/html": [
       "<div>\n",
       "<style scoped>\n",
       "    .dataframe tbody tr th:only-of-type {\n",
       "        vertical-align: middle;\n",
       "    }\n",
       "\n",
       "    .dataframe tbody tr th {\n",
       "        vertical-align: top;\n",
       "    }\n",
       "\n",
       "    .dataframe thead th {\n",
       "        text-align: right;\n",
       "    }\n",
       "</style>\n",
       "<table border=\"1\" class=\"dataframe\">\n",
       "  <thead>\n",
       "    <tr style=\"text-align: right;\">\n",
       "      <th></th>\n",
       "      <th>ID</th>\n",
       "      <th>LIMIT_BAL</th>\n",
       "      <th>SEX</th>\n",
       "      <th>EDUCATION</th>\n",
       "      <th>MARRIAGE</th>\n",
       "      <th>AGE</th>\n",
       "      <th>PAY_0</th>\n",
       "      <th>PAY_2</th>\n",
       "      <th>PAY_3</th>\n",
       "      <th>PAY_4</th>\n",
       "      <th>PAY_5</th>\n",
       "      <th>PAY_6</th>\n",
       "    </tr>\n",
       "  </thead>\n",
       "  <tbody>\n",
       "    <tr>\n",
       "      <th>0</th>\n",
       "      <td>1</td>\n",
       "      <td>20000</td>\n",
       "      <td>2</td>\n",
       "      <td>2</td>\n",
       "      <td>1</td>\n",
       "      <td>24</td>\n",
       "      <td>2</td>\n",
       "      <td>2</td>\n",
       "      <td>-1</td>\n",
       "      <td>-1</td>\n",
       "      <td>-2</td>\n",
       "      <td>-2</td>\n",
       "    </tr>\n",
       "    <tr>\n",
       "      <th>1</th>\n",
       "      <td>2</td>\n",
       "      <td>120000</td>\n",
       "      <td>2</td>\n",
       "      <td>2</td>\n",
       "      <td>2</td>\n",
       "      <td>26</td>\n",
       "      <td>-1</td>\n",
       "      <td>2</td>\n",
       "      <td>0</td>\n",
       "      <td>0</td>\n",
       "      <td>0</td>\n",
       "      <td>2</td>\n",
       "    </tr>\n",
       "    <tr>\n",
       "      <th>2</th>\n",
       "      <td>3</td>\n",
       "      <td>90000</td>\n",
       "      <td>2</td>\n",
       "      <td>2</td>\n",
       "      <td>2</td>\n",
       "      <td>34</td>\n",
       "      <td>0</td>\n",
       "      <td>0</td>\n",
       "      <td>0</td>\n",
       "      <td>0</td>\n",
       "      <td>0</td>\n",
       "      <td>0</td>\n",
       "    </tr>\n",
       "    <tr>\n",
       "      <th>3</th>\n",
       "      <td>4</td>\n",
       "      <td>50000</td>\n",
       "      <td>2</td>\n",
       "      <td>2</td>\n",
       "      <td>1</td>\n",
       "      <td>37</td>\n",
       "      <td>0</td>\n",
       "      <td>0</td>\n",
       "      <td>0</td>\n",
       "      <td>0</td>\n",
       "      <td>0</td>\n",
       "      <td>0</td>\n",
       "    </tr>\n",
       "    <tr>\n",
       "      <th>4</th>\n",
       "      <td>5</td>\n",
       "      <td>50000</td>\n",
       "      <td>1</td>\n",
       "      <td>2</td>\n",
       "      <td>1</td>\n",
       "      <td>57</td>\n",
       "      <td>-1</td>\n",
       "      <td>0</td>\n",
       "      <td>-1</td>\n",
       "      <td>0</td>\n",
       "      <td>0</td>\n",
       "      <td>0</td>\n",
       "    </tr>\n",
       "    <tr>\n",
       "      <th>...</th>\n",
       "      <td>...</td>\n",
       "      <td>...</td>\n",
       "      <td>...</td>\n",
       "      <td>...</td>\n",
       "      <td>...</td>\n",
       "      <td>...</td>\n",
       "      <td>...</td>\n",
       "      <td>...</td>\n",
       "      <td>...</td>\n",
       "      <td>...</td>\n",
       "      <td>...</td>\n",
       "      <td>...</td>\n",
       "    </tr>\n",
       "    <tr>\n",
       "      <th>29995</th>\n",
       "      <td>29996</td>\n",
       "      <td>220000</td>\n",
       "      <td>1</td>\n",
       "      <td>3</td>\n",
       "      <td>1</td>\n",
       "      <td>39</td>\n",
       "      <td>0</td>\n",
       "      <td>0</td>\n",
       "      <td>0</td>\n",
       "      <td>0</td>\n",
       "      <td>0</td>\n",
       "      <td>0</td>\n",
       "    </tr>\n",
       "    <tr>\n",
       "      <th>29996</th>\n",
       "      <td>29997</td>\n",
       "      <td>150000</td>\n",
       "      <td>1</td>\n",
       "      <td>3</td>\n",
       "      <td>2</td>\n",
       "      <td>43</td>\n",
       "      <td>-1</td>\n",
       "      <td>-1</td>\n",
       "      <td>-1</td>\n",
       "      <td>-1</td>\n",
       "      <td>0</td>\n",
       "      <td>0</td>\n",
       "    </tr>\n",
       "    <tr>\n",
       "      <th>29997</th>\n",
       "      <td>29998</td>\n",
       "      <td>30000</td>\n",
       "      <td>1</td>\n",
       "      <td>2</td>\n",
       "      <td>2</td>\n",
       "      <td>37</td>\n",
       "      <td>4</td>\n",
       "      <td>3</td>\n",
       "      <td>2</td>\n",
       "      <td>-1</td>\n",
       "      <td>0</td>\n",
       "      <td>0</td>\n",
       "    </tr>\n",
       "    <tr>\n",
       "      <th>29998</th>\n",
       "      <td>29999</td>\n",
       "      <td>80000</td>\n",
       "      <td>1</td>\n",
       "      <td>3</td>\n",
       "      <td>1</td>\n",
       "      <td>41</td>\n",
       "      <td>1</td>\n",
       "      <td>-1</td>\n",
       "      <td>0</td>\n",
       "      <td>0</td>\n",
       "      <td>0</td>\n",
       "      <td>-1</td>\n",
       "    </tr>\n",
       "    <tr>\n",
       "      <th>29999</th>\n",
       "      <td>30000</td>\n",
       "      <td>50000</td>\n",
       "      <td>1</td>\n",
       "      <td>2</td>\n",
       "      <td>1</td>\n",
       "      <td>46</td>\n",
       "      <td>0</td>\n",
       "      <td>0</td>\n",
       "      <td>0</td>\n",
       "      <td>0</td>\n",
       "      <td>0</td>\n",
       "      <td>0</td>\n",
       "    </tr>\n",
       "  </tbody>\n",
       "</table>\n",
       "<p>30000 rows × 12 columns</p>\n",
       "</div>"
      ],
      "text/plain": [
       "          ID  LIMIT_BAL  SEX  EDUCATION  MARRIAGE  AGE  PAY_0  PAY_2  PAY_3  \\\n",
       "0          1      20000    2          2         1   24      2      2     -1   \n",
       "1          2     120000    2          2         2   26     -1      2      0   \n",
       "2          3      90000    2          2         2   34      0      0      0   \n",
       "3          4      50000    2          2         1   37      0      0      0   \n",
       "4          5      50000    1          2         1   57     -1      0     -1   \n",
       "...      ...        ...  ...        ...       ...  ...    ...    ...    ...   \n",
       "29995  29996     220000    1          3         1   39      0      0      0   \n",
       "29996  29997     150000    1          3         2   43     -1     -1     -1   \n",
       "29997  29998      30000    1          2         2   37      4      3      2   \n",
       "29998  29999      80000    1          3         1   41      1     -1      0   \n",
       "29999  30000      50000    1          2         1   46      0      0      0   \n",
       "\n",
       "       PAY_4  PAY_5  PAY_6  \n",
       "0         -1     -2     -2  \n",
       "1          0      0      2  \n",
       "2          0      0      0  \n",
       "3          0      0      0  \n",
       "4          0      0      0  \n",
       "...      ...    ...    ...  \n",
       "29995      0      0      0  \n",
       "29996     -1      0      0  \n",
       "29997     -1      0      0  \n",
       "29998      0      0     -1  \n",
       "29999      0      0      0  \n",
       "\n",
       "[30000 rows x 12 columns]"
      ]
     },
     "execution_count": 63,
     "metadata": {},
     "output_type": "execute_result"
    }
   ],
   "source": [
    "df[['ID', 'LIMIT_BAL', 'SEX', 'EDUCATION', 'MARRIAGE', 'AGE', 'PAY_0',\n",
    "       'PAY_2', 'PAY_3', 'PAY_4', 'PAY_5', 'PAY_6']]"
   ]
  },
  {
   "cell_type": "code",
   "execution_count": 64,
   "id": "0fbfcc6d",
   "metadata": {},
   "outputs": [
    {
     "data": {
      "text/html": [
       "<div>\n",
       "<style scoped>\n",
       "    .dataframe tbody tr th:only-of-type {\n",
       "        vertical-align: middle;\n",
       "    }\n",
       "\n",
       "    .dataframe tbody tr th {\n",
       "        vertical-align: top;\n",
       "    }\n",
       "\n",
       "    .dataframe thead th {\n",
       "        text-align: right;\n",
       "    }\n",
       "</style>\n",
       "<table border=\"1\" class=\"dataframe\">\n",
       "  <thead>\n",
       "    <tr style=\"text-align: right;\">\n",
       "      <th></th>\n",
       "      <th>BILL_AMT1</th>\n",
       "      <th>BILL_AMT2</th>\n",
       "      <th>BILL_AMT3</th>\n",
       "      <th>BILL_AMT4</th>\n",
       "      <th>BILL_AMT5</th>\n",
       "      <th>BILL_AMT6</th>\n",
       "    </tr>\n",
       "  </thead>\n",
       "  <tbody>\n",
       "    <tr>\n",
       "      <th>count</th>\n",
       "      <td>30000.00</td>\n",
       "      <td>30000.00</td>\n",
       "      <td>30000.00</td>\n",
       "      <td>30000.00</td>\n",
       "      <td>30000.00</td>\n",
       "      <td>30000.00</td>\n",
       "    </tr>\n",
       "    <tr>\n",
       "      <th>mean</th>\n",
       "      <td>51223.33</td>\n",
       "      <td>49179.08</td>\n",
       "      <td>47013.15</td>\n",
       "      <td>43262.95</td>\n",
       "      <td>40311.40</td>\n",
       "      <td>38871.76</td>\n",
       "    </tr>\n",
       "    <tr>\n",
       "      <th>std</th>\n",
       "      <td>73635.86</td>\n",
       "      <td>71173.77</td>\n",
       "      <td>69349.39</td>\n",
       "      <td>64332.86</td>\n",
       "      <td>60797.16</td>\n",
       "      <td>59554.11</td>\n",
       "    </tr>\n",
       "    <tr>\n",
       "      <th>min</th>\n",
       "      <td>-165580.00</td>\n",
       "      <td>-69777.00</td>\n",
       "      <td>-157264.00</td>\n",
       "      <td>-170000.00</td>\n",
       "      <td>-81334.00</td>\n",
       "      <td>-339603.00</td>\n",
       "    </tr>\n",
       "    <tr>\n",
       "      <th>25%</th>\n",
       "      <td>3558.75</td>\n",
       "      <td>2984.75</td>\n",
       "      <td>2666.25</td>\n",
       "      <td>2326.75</td>\n",
       "      <td>1763.00</td>\n",
       "      <td>1256.00</td>\n",
       "    </tr>\n",
       "    <tr>\n",
       "      <th>50%</th>\n",
       "      <td>22381.50</td>\n",
       "      <td>21200.00</td>\n",
       "      <td>20088.50</td>\n",
       "      <td>19052.00</td>\n",
       "      <td>18104.50</td>\n",
       "      <td>17071.00</td>\n",
       "    </tr>\n",
       "    <tr>\n",
       "      <th>75%</th>\n",
       "      <td>67091.00</td>\n",
       "      <td>64006.25</td>\n",
       "      <td>60164.75</td>\n",
       "      <td>54506.00</td>\n",
       "      <td>50190.50</td>\n",
       "      <td>49198.25</td>\n",
       "    </tr>\n",
       "    <tr>\n",
       "      <th>max</th>\n",
       "      <td>964511.00</td>\n",
       "      <td>983931.00</td>\n",
       "      <td>1664089.00</td>\n",
       "      <td>891586.00</td>\n",
       "      <td>927171.00</td>\n",
       "      <td>961664.00</td>\n",
       "    </tr>\n",
       "  </tbody>\n",
       "</table>\n",
       "</div>"
      ],
      "text/plain": [
       "       BILL_AMT1  BILL_AMT2   BILL_AMT3  BILL_AMT4  BILL_AMT5  BILL_AMT6\n",
       "count   30000.00   30000.00    30000.00   30000.00   30000.00   30000.00\n",
       "mean    51223.33   49179.08    47013.15   43262.95   40311.40   38871.76\n",
       "std     73635.86   71173.77    69349.39   64332.86   60797.16   59554.11\n",
       "min   -165580.00  -69777.00  -157264.00 -170000.00  -81334.00 -339603.00\n",
       "25%      3558.75    2984.75     2666.25    2326.75    1763.00    1256.00\n",
       "50%     22381.50   21200.00    20088.50   19052.00   18104.50   17071.00\n",
       "75%     67091.00   64006.25    60164.75   54506.00   50190.50   49198.25\n",
       "max    964511.00  983931.00  1664089.00  891586.00  927171.00  961664.00"
      ]
     },
     "execution_count": 64,
     "metadata": {},
     "output_type": "execute_result"
    }
   ],
   "source": [
    " df[['BILL_AMT1', 'BILL_AMT2','BILL_AMT3', 'BILL_AMT4', 'BILL_AMT5',\"BILL_AMT6\"]].describe().round(2)"
   ]
  },
  {
   "cell_type": "code",
   "execution_count": 65,
   "id": "1f1bb2b8",
   "metadata": {},
   "outputs": [
    {
     "data": {
      "text/html": [
       "<div>\n",
       "<style scoped>\n",
       "    .dataframe tbody tr th:only-of-type {\n",
       "        vertical-align: middle;\n",
       "    }\n",
       "\n",
       "    .dataframe tbody tr th {\n",
       "        vertical-align: top;\n",
       "    }\n",
       "\n",
       "    .dataframe thead th {\n",
       "        text-align: right;\n",
       "    }\n",
       "</style>\n",
       "<table border=\"1\" class=\"dataframe\">\n",
       "  <thead>\n",
       "    <tr style=\"text-align: right;\">\n",
       "      <th></th>\n",
       "      <th>PAY_AMT1</th>\n",
       "      <th>PAY_AMT2</th>\n",
       "      <th>PAY_AMT3</th>\n",
       "      <th>PAY_AMT4</th>\n",
       "      <th>PAY_AMT5</th>\n",
       "      <th>PAY_AMT6</th>\n",
       "      <th>default payment next month</th>\n",
       "    </tr>\n",
       "  </thead>\n",
       "  <tbody>\n",
       "    <tr>\n",
       "      <th>count</th>\n",
       "      <td>30000.00</td>\n",
       "      <td>30000.00</td>\n",
       "      <td>30000.00</td>\n",
       "      <td>30000.00</td>\n",
       "      <td>30000.00</td>\n",
       "      <td>30000.00</td>\n",
       "      <td>30000.00</td>\n",
       "    </tr>\n",
       "    <tr>\n",
       "      <th>mean</th>\n",
       "      <td>5663.58</td>\n",
       "      <td>5921.16</td>\n",
       "      <td>5225.68</td>\n",
       "      <td>4826.08</td>\n",
       "      <td>4799.39</td>\n",
       "      <td>5215.50</td>\n",
       "      <td>0.22</td>\n",
       "    </tr>\n",
       "    <tr>\n",
       "      <th>std</th>\n",
       "      <td>16563.28</td>\n",
       "      <td>23040.87</td>\n",
       "      <td>17606.96</td>\n",
       "      <td>15666.16</td>\n",
       "      <td>15278.31</td>\n",
       "      <td>17777.47</td>\n",
       "      <td>0.42</td>\n",
       "    </tr>\n",
       "    <tr>\n",
       "      <th>min</th>\n",
       "      <td>0.00</td>\n",
       "      <td>0.00</td>\n",
       "      <td>0.00</td>\n",
       "      <td>0.00</td>\n",
       "      <td>0.00</td>\n",
       "      <td>0.00</td>\n",
       "      <td>0.00</td>\n",
       "    </tr>\n",
       "    <tr>\n",
       "      <th>25%</th>\n",
       "      <td>1000.00</td>\n",
       "      <td>833.00</td>\n",
       "      <td>390.00</td>\n",
       "      <td>296.00</td>\n",
       "      <td>252.50</td>\n",
       "      <td>117.75</td>\n",
       "      <td>0.00</td>\n",
       "    </tr>\n",
       "    <tr>\n",
       "      <th>50%</th>\n",
       "      <td>2100.00</td>\n",
       "      <td>2009.00</td>\n",
       "      <td>1800.00</td>\n",
       "      <td>1500.00</td>\n",
       "      <td>1500.00</td>\n",
       "      <td>1500.00</td>\n",
       "      <td>0.00</td>\n",
       "    </tr>\n",
       "    <tr>\n",
       "      <th>75%</th>\n",
       "      <td>5006.00</td>\n",
       "      <td>5000.00</td>\n",
       "      <td>4505.00</td>\n",
       "      <td>4013.25</td>\n",
       "      <td>4031.50</td>\n",
       "      <td>4000.00</td>\n",
       "      <td>0.00</td>\n",
       "    </tr>\n",
       "    <tr>\n",
       "      <th>max</th>\n",
       "      <td>873552.00</td>\n",
       "      <td>1684259.00</td>\n",
       "      <td>896040.00</td>\n",
       "      <td>621000.00</td>\n",
       "      <td>426529.00</td>\n",
       "      <td>528666.00</td>\n",
       "      <td>1.00</td>\n",
       "    </tr>\n",
       "  </tbody>\n",
       "</table>\n",
       "</div>"
      ],
      "text/plain": [
       "        PAY_AMT1    PAY_AMT2   PAY_AMT3   PAY_AMT4   PAY_AMT5   PAY_AMT6  \\\n",
       "count   30000.00    30000.00   30000.00   30000.00   30000.00   30000.00   \n",
       "mean     5663.58     5921.16    5225.68    4826.08    4799.39    5215.50   \n",
       "std     16563.28    23040.87   17606.96   15666.16   15278.31   17777.47   \n",
       "min         0.00        0.00       0.00       0.00       0.00       0.00   \n",
       "25%      1000.00      833.00     390.00     296.00     252.50     117.75   \n",
       "50%      2100.00     2009.00    1800.00    1500.00    1500.00    1500.00   \n",
       "75%      5006.00     5000.00    4505.00    4013.25    4031.50    4000.00   \n",
       "max    873552.00  1684259.00  896040.00  621000.00  426529.00  528666.00   \n",
       "\n",
       "       default payment next month  \n",
       "count                    30000.00  \n",
       "mean                         0.22  \n",
       "std                          0.42  \n",
       "min                          0.00  \n",
       "25%                          0.00  \n",
       "50%                          0.00  \n",
       "75%                          0.00  \n",
       "max                          1.00  "
      ]
     },
     "execution_count": 65,
     "metadata": {},
     "output_type": "execute_result"
    }
   ],
   "source": [
    "df[['PAY_AMT1','PAY_AMT2', 'PAY_AMT3', 'PAY_AMT4', 'PAY_AMT5', 'PAY_AMT6','default payment next month']].describe().round(2)"
   ]
  },
  {
   "cell_type": "markdown",
   "id": "a12a9846",
   "metadata": {},
   "source": [
    "Looks like the amount to be paid and amount to be billed are different for different csutomers as the amount balance would be varying as per the customer."
   ]
  },
  {
   "cell_type": "code",
   "execution_count": 66,
   "id": "c96feca1",
   "metadata": {},
   "outputs": [
    {
     "name": "stdout",
     "output_type": "stream",
     "text": [
      "<class 'pandas.core.frame.DataFrame'>\n",
      "RangeIndex: 30000 entries, 0 to 29999\n",
      "Data columns (total 25 columns):\n",
      " #   Column                      Non-Null Count  Dtype\n",
      "---  ------                      --------------  -----\n",
      " 0   ID                          30000 non-null  int64\n",
      " 1   LIMIT_BAL                   30000 non-null  int64\n",
      " 2   SEX                         30000 non-null  int64\n",
      " 3   EDUCATION                   30000 non-null  int64\n",
      " 4   MARRIAGE                    30000 non-null  int64\n",
      " 5   AGE                         30000 non-null  int64\n",
      " 6   PAY_0                       30000 non-null  int64\n",
      " 7   PAY_2                       30000 non-null  int64\n",
      " 8   PAY_3                       30000 non-null  int64\n",
      " 9   PAY_4                       30000 non-null  int64\n",
      " 10  PAY_5                       30000 non-null  int64\n",
      " 11  PAY_6                       30000 non-null  int64\n",
      " 12  BILL_AMT1                   30000 non-null  int64\n",
      " 13  BILL_AMT2                   30000 non-null  int64\n",
      " 14  BILL_AMT3                   30000 non-null  int64\n",
      " 15  BILL_AMT4                   30000 non-null  int64\n",
      " 16  BILL_AMT5                   30000 non-null  int64\n",
      " 17  BILL_AMT6                   30000 non-null  int64\n",
      " 18  PAY_AMT1                    30000 non-null  int64\n",
      " 19  PAY_AMT2                    30000 non-null  int64\n",
      " 20  PAY_AMT3                    30000 non-null  int64\n",
      " 21  PAY_AMT4                    30000 non-null  int64\n",
      " 22  PAY_AMT5                    30000 non-null  int64\n",
      " 23  PAY_AMT6                    30000 non-null  int64\n",
      " 24  default payment next month  30000 non-null  int64\n",
      "dtypes: int64(25)\n",
      "memory usage: 5.7 MB\n"
     ]
    }
   ],
   "source": [
    "df.info()"
   ]
  },
  {
   "cell_type": "markdown",
   "id": "3b1c587e",
   "metadata": {},
   "source": [
    "there are no null values to be removed in the dataset"
   ]
  },
  {
   "cell_type": "code",
   "execution_count": 67,
   "id": "20f75b82",
   "metadata": {},
   "outputs": [],
   "source": [
    "#assign the data to another variable and drop the column \"ID\"\n",
    "df_eda=df\n",
    "df_eda.drop(columns=\"ID\",inplace=True)"
   ]
  },
  {
   "cell_type": "code",
   "execution_count": 68,
   "id": "482e8fea",
   "metadata": {},
   "outputs": [],
   "source": [
    "#replacing all the values with string values to get a better understanding while analyzing the data\n",
    "df_eda['MARRIAGE'].replace({0:\"Others\",1:\"Married\",2:\"Single\",3:\"Others\"},inplace=True)\n",
    "\n",
    "df_eda['EDUCATION'].replace({6:\"Others\",1:\"Graduate School\",2:\"University\",3:\"High School\",4:\"Others\",5:\"Others\",0:\"Others\"},inplace=True)\n",
    "\n",
    "df_eda['SEX'].replace({1:\"Men\",2:\"Women\"},inplace=True)\n",
    "dict1={\"PAY_0\":\"April\",\"PAY_2\":\"May\",\"PAY_3\":\"June\",\"PAY_4\":\"July\",\"PAY_5\":\"August\",\"PAY_6\":\"September\"}\n",
    "df_eda.rename(columns = dict1, inplace = True)\n",
    "\n",
    "df_eda.rename(columns = {'BILL_AMT1':'BA_April','BILL_AMT2':\"BA_May\",'BILL_AMT3':\"BA_June\",'BILL_AMT4':\"BA_July\",'BILL_AMT5':\"BA_August\",\"BILL_AMT6\":\"BA_September\"}, inplace = True)\n",
    "\n",
    "df_eda['default payment next month'].replace({0:\"Not defaulted\",1:\"Defaulted\"},inplace=True)\n",
    "\n",
    "s={'PAY_AMT1':'PA_April','PAY_AMT2':\"PA_May\",'PAY_AMT3':\"PA_June\",'PAY_AMT4':\"PA_July\",'PAY_AMT5':\"PA_August\",\"PAY_AMT6\":\"PA_September\"}\n",
    "df_eda.rename(columns=s,inplace=True)"
   ]
  },
  {
   "cell_type": "markdown",
   "id": "62b0e75d",
   "metadata": {},
   "source": [
    "Following replacements have been made above for better understanding of the data:\n",
    "*  For marriage: Replace  0,3 as \"Others\" ,  1 as \"Married\"  , 2 as \"Single\".\n",
    "*  For education: Replace 1.6,4,0 as \"Others , 2. 1 as \"Graduate School\"  , 2 as \"University\"  , 3 as \"High School\".\n",
    "*  For SEX: Replace 1 as \"Men\" and 2 as \"Women\".\n",
    "*  For default payment next month Replaced 0 as \"Not Defaulted\" , 1 as \"Defaulted\"."
   ]
  },
  {
   "cell_type": "code",
   "execution_count": 135,
   "id": "110b32e5",
   "metadata": {},
   "outputs": [],
   "source": [
    "#create a function to return the percentage values from the whole value after grouping by the data\n",
    "def per_value(data_frame):\n",
    "    per_val=list()\n",
    "    col=dict()\n",
    "    for i in range(0,data_frame.shape[0]):\n",
    "        value=str(((data_frame.iloc[i,0]/data_frame.iloc[:,0].sum())*100).round(2))+\"%\"\n",
    "        per_val.append(value)\n",
    "    data_frame[\"Percentage of Total\"]=np.array(per_val)\n",
    "    return data_frame\n",
    "\n",
    "def per_value2(df):\n",
    "    df_list=list()\n",
    "    final_df=pd.DataFrame()\n",
    "    for i in np.arange(0,df.shape[0],2):\n",
    "        df_list.append(per_value(df.iloc[i:i+2]))\n",
    "    final_df=pd.concat(df_list,axis=0)\n",
    "    return final_df\n",
    "\n",
    "def per_valuei(df,j):\n",
    "    df_list=list()\n",
    "    final_df=pd.DataFrame()\n",
    "    for i in np.arange(0,df.shape[0],j):\n",
    "        df_list.append(per_value(df.iloc[i:i+j]))\n",
    "    final_df=pd.concat(df_list,axis=0)\n",
    "    return final_df"
   ]
  },
  {
   "cell_type": "code",
   "execution_count": 70,
   "id": "5784e0dc",
   "metadata": {},
   "outputs": [
    {
     "data": {
      "text/html": [
       "<div>\n",
       "<style scoped>\n",
       "    .dataframe tbody tr th:only-of-type {\n",
       "        vertical-align: middle;\n",
       "    }\n",
       "\n",
       "    .dataframe tbody tr th {\n",
       "        vertical-align: top;\n",
       "    }\n",
       "\n",
       "    .dataframe thead th {\n",
       "        text-align: right;\n",
       "    }\n",
       "</style>\n",
       "<table border=\"1\" class=\"dataframe\">\n",
       "  <thead>\n",
       "    <tr style=\"text-align: right;\">\n",
       "      <th></th>\n",
       "      <th>LIMIT_BAL</th>\n",
       "      <th>SEX</th>\n",
       "      <th>EDUCATION</th>\n",
       "      <th>MARRIAGE</th>\n",
       "      <th>AGE</th>\n",
       "      <th>April</th>\n",
       "      <th>May</th>\n",
       "      <th>June</th>\n",
       "      <th>July</th>\n",
       "      <th>August</th>\n",
       "      <th>...</th>\n",
       "      <th>BA_July</th>\n",
       "      <th>BA_August</th>\n",
       "      <th>BA_September</th>\n",
       "      <th>PA_April</th>\n",
       "      <th>PA_May</th>\n",
       "      <th>PA_June</th>\n",
       "      <th>PA_July</th>\n",
       "      <th>PA_August</th>\n",
       "      <th>PA_September</th>\n",
       "      <th>default payment next month</th>\n",
       "    </tr>\n",
       "  </thead>\n",
       "  <tbody>\n",
       "    <tr>\n",
       "      <th>0</th>\n",
       "      <td>20000</td>\n",
       "      <td>Women</td>\n",
       "      <td>University</td>\n",
       "      <td>Married</td>\n",
       "      <td>24</td>\n",
       "      <td>2</td>\n",
       "      <td>2</td>\n",
       "      <td>-1</td>\n",
       "      <td>-1</td>\n",
       "      <td>-2</td>\n",
       "      <td>...</td>\n",
       "      <td>0</td>\n",
       "      <td>0</td>\n",
       "      <td>0</td>\n",
       "      <td>0</td>\n",
       "      <td>689</td>\n",
       "      <td>0</td>\n",
       "      <td>0</td>\n",
       "      <td>0</td>\n",
       "      <td>0</td>\n",
       "      <td>Defaulted</td>\n",
       "    </tr>\n",
       "    <tr>\n",
       "      <th>1</th>\n",
       "      <td>120000</td>\n",
       "      <td>Women</td>\n",
       "      <td>University</td>\n",
       "      <td>Single</td>\n",
       "      <td>26</td>\n",
       "      <td>-1</td>\n",
       "      <td>2</td>\n",
       "      <td>0</td>\n",
       "      <td>0</td>\n",
       "      <td>0</td>\n",
       "      <td>...</td>\n",
       "      <td>3272</td>\n",
       "      <td>3455</td>\n",
       "      <td>3261</td>\n",
       "      <td>0</td>\n",
       "      <td>1000</td>\n",
       "      <td>1000</td>\n",
       "      <td>1000</td>\n",
       "      <td>0</td>\n",
       "      <td>2000</td>\n",
       "      <td>Defaulted</td>\n",
       "    </tr>\n",
       "    <tr>\n",
       "      <th>2</th>\n",
       "      <td>90000</td>\n",
       "      <td>Women</td>\n",
       "      <td>University</td>\n",
       "      <td>Single</td>\n",
       "      <td>34</td>\n",
       "      <td>0</td>\n",
       "      <td>0</td>\n",
       "      <td>0</td>\n",
       "      <td>0</td>\n",
       "      <td>0</td>\n",
       "      <td>...</td>\n",
       "      <td>14331</td>\n",
       "      <td>14948</td>\n",
       "      <td>15549</td>\n",
       "      <td>1518</td>\n",
       "      <td>1500</td>\n",
       "      <td>1000</td>\n",
       "      <td>1000</td>\n",
       "      <td>1000</td>\n",
       "      <td>5000</td>\n",
       "      <td>Not defaulted</td>\n",
       "    </tr>\n",
       "    <tr>\n",
       "      <th>3</th>\n",
       "      <td>50000</td>\n",
       "      <td>Women</td>\n",
       "      <td>University</td>\n",
       "      <td>Married</td>\n",
       "      <td>37</td>\n",
       "      <td>0</td>\n",
       "      <td>0</td>\n",
       "      <td>0</td>\n",
       "      <td>0</td>\n",
       "      <td>0</td>\n",
       "      <td>...</td>\n",
       "      <td>28314</td>\n",
       "      <td>28959</td>\n",
       "      <td>29547</td>\n",
       "      <td>2000</td>\n",
       "      <td>2019</td>\n",
       "      <td>1200</td>\n",
       "      <td>1100</td>\n",
       "      <td>1069</td>\n",
       "      <td>1000</td>\n",
       "      <td>Not defaulted</td>\n",
       "    </tr>\n",
       "    <tr>\n",
       "      <th>4</th>\n",
       "      <td>50000</td>\n",
       "      <td>Men</td>\n",
       "      <td>University</td>\n",
       "      <td>Married</td>\n",
       "      <td>57</td>\n",
       "      <td>-1</td>\n",
       "      <td>0</td>\n",
       "      <td>-1</td>\n",
       "      <td>0</td>\n",
       "      <td>0</td>\n",
       "      <td>...</td>\n",
       "      <td>20940</td>\n",
       "      <td>19146</td>\n",
       "      <td>19131</td>\n",
       "      <td>2000</td>\n",
       "      <td>36681</td>\n",
       "      <td>10000</td>\n",
       "      <td>9000</td>\n",
       "      <td>689</td>\n",
       "      <td>679</td>\n",
       "      <td>Not defaulted</td>\n",
       "    </tr>\n",
       "  </tbody>\n",
       "</table>\n",
       "<p>5 rows × 24 columns</p>\n",
       "</div>"
      ],
      "text/plain": [
       "   LIMIT_BAL    SEX   EDUCATION MARRIAGE  AGE  April  May  June  July  August  \\\n",
       "0      20000  Women  University  Married   24      2    2    -1    -1      -2   \n",
       "1     120000  Women  University   Single   26     -1    2     0     0       0   \n",
       "2      90000  Women  University   Single   34      0    0     0     0       0   \n",
       "3      50000  Women  University  Married   37      0    0     0     0       0   \n",
       "4      50000    Men  University  Married   57     -1    0    -1     0       0   \n",
       "\n",
       "   ...  BA_July  BA_August  BA_September  PA_April  PA_May  PA_June  PA_July  \\\n",
       "0  ...        0          0             0         0     689        0        0   \n",
       "1  ...     3272       3455          3261         0    1000     1000     1000   \n",
       "2  ...    14331      14948         15549      1518    1500     1000     1000   \n",
       "3  ...    28314      28959         29547      2000    2019     1200     1100   \n",
       "4  ...    20940      19146         19131      2000   36681    10000     9000   \n",
       "\n",
       "   PA_August  PA_September  default payment next month  \n",
       "0          0             0                   Defaulted  \n",
       "1          0          2000                   Defaulted  \n",
       "2       1000          5000               Not defaulted  \n",
       "3       1069          1000               Not defaulted  \n",
       "4        689           679               Not defaulted  \n",
       "\n",
       "[5 rows x 24 columns]"
      ]
     },
     "execution_count": 70,
     "metadata": {},
     "output_type": "execute_result"
    }
   ],
   "source": [
    "# check the column values if they are replaced correctly or not\n",
    "df_eda.head(5)"
   ]
  },
  {
   "cell_type": "markdown",
   "id": "564debb0",
   "metadata": {},
   "source": [
    "**Marriage**"
   ]
  },
  {
   "cell_type": "code",
   "execution_count": 71,
   "id": "7fd7373b",
   "metadata": {},
   "outputs": [
    {
     "data": {
      "text/html": [
       "<div>\n",
       "<style scoped>\n",
       "    .dataframe tbody tr th:only-of-type {\n",
       "        vertical-align: middle;\n",
       "    }\n",
       "\n",
       "    .dataframe tbody tr th {\n",
       "        vertical-align: top;\n",
       "    }\n",
       "\n",
       "    .dataframe thead th {\n",
       "        text-align: right;\n",
       "    }\n",
       "</style>\n",
       "<table border=\"1\" class=\"dataframe\">\n",
       "  <thead>\n",
       "    <tr style=\"text-align: right;\">\n",
       "      <th></th>\n",
       "      <th>MARRIAGE</th>\n",
       "      <th>Percentage of Total</th>\n",
       "    </tr>\n",
       "  </thead>\n",
       "  <tbody>\n",
       "    <tr>\n",
       "      <th>Single</th>\n",
       "      <td>15964</td>\n",
       "      <td>53.21%</td>\n",
       "    </tr>\n",
       "    <tr>\n",
       "      <th>Married</th>\n",
       "      <td>13659</td>\n",
       "      <td>45.53%</td>\n",
       "    </tr>\n",
       "    <tr>\n",
       "      <th>Others</th>\n",
       "      <td>377</td>\n",
       "      <td>1.26%</td>\n",
       "    </tr>\n",
       "  </tbody>\n",
       "</table>\n",
       "</div>"
      ],
      "text/plain": [
       "         MARRIAGE Percentage of Total\n",
       "Single      15964              53.21%\n",
       "Married     13659              45.53%\n",
       "Others        377               1.26%"
      ]
     },
     "execution_count": 71,
     "metadata": {},
     "output_type": "execute_result"
    }
   ],
   "source": [
    "c=pd.DataFrame(df_eda['MARRIAGE'].value_counts())\n",
    "per_value(c)"
   ]
  },
  {
   "cell_type": "code",
   "execution_count": 72,
   "id": "25fe1c15",
   "metadata": {},
   "outputs": [
    {
     "data": {
      "text/plain": [
       "<AxesSubplot:>"
      ]
     },
     "execution_count": 72,
     "metadata": {},
     "output_type": "execute_result"
    },
    {
     "data": {
      "image/png": "[encoded data removed]",
      "text/plain": [
       "<Figure size 640x480 with 1 Axes>"
      ]
     },
     "metadata": {},
     "output_type": "display_data"
    }
   ],
   "source": [
    "df_eda['MARRIAGE'].value_counts().plot(kind=\"bar\")"
   ]
  },
  {
   "cell_type": "markdown",
   "id": "e22fb981",
   "metadata": {},
   "source": [
    "There are more number of single and unmarried people when compared to other martial status.there is another value present which is 0 . to prevent the loss of info we can convert it to 3 which represents ther martial status"
   ]
  },
  {
   "cell_type": "markdown",
   "id": "705dfddc",
   "metadata": {},
   "source": [
    "**Education**"
   ]
  },
  {
   "cell_type": "code",
   "execution_count": 73,
   "id": "584cf740",
   "metadata": {},
   "outputs": [
    {
     "data": {
      "text/html": [
       "<div>\n",
       "<style scoped>\n",
       "    .dataframe tbody tr th:only-of-type {\n",
       "        vertical-align: middle;\n",
       "    }\n",
       "\n",
       "    .dataframe tbody tr th {\n",
       "        vertical-align: top;\n",
       "    }\n",
       "\n",
       "    .dataframe thead th {\n",
       "        text-align: right;\n",
       "    }\n",
       "</style>\n",
       "<table border=\"1\" class=\"dataframe\">\n",
       "  <thead>\n",
       "    <tr style=\"text-align: right;\">\n",
       "      <th></th>\n",
       "      <th>EDUCATION</th>\n",
       "      <th>Percentage of Total</th>\n",
       "    </tr>\n",
       "  </thead>\n",
       "  <tbody>\n",
       "    <tr>\n",
       "      <th>University</th>\n",
       "      <td>14030</td>\n",
       "      <td>46.77%</td>\n",
       "    </tr>\n",
       "    <tr>\n",
       "      <th>Graduate School</th>\n",
       "      <td>10585</td>\n",
       "      <td>35.28%</td>\n",
       "    </tr>\n",
       "    <tr>\n",
       "      <th>High School</th>\n",
       "      <td>4917</td>\n",
       "      <td>16.39%</td>\n",
       "    </tr>\n",
       "    <tr>\n",
       "      <th>Others</th>\n",
       "      <td>468</td>\n",
       "      <td>1.56%</td>\n",
       "    </tr>\n",
       "  </tbody>\n",
       "</table>\n",
       "</div>"
      ],
      "text/plain": [
       "                 EDUCATION Percentage of Total\n",
       "University           14030              46.77%\n",
       "Graduate School      10585              35.28%\n",
       "High School           4917              16.39%\n",
       "Others                 468               1.56%"
      ]
     },
     "execution_count": 73,
     "metadata": {},
     "output_type": "execute_result"
    }
   ],
   "source": [
    "edu=pd.DataFrame(df_eda['EDUCATION'].value_counts())\n",
    "per_value(edu)"
   ]
  },
  {
   "cell_type": "markdown",
   "id": "b868df7f",
   "metadata": {},
   "source": [
    "0,5,6 are unknown so we can include them with 4 which is others"
   ]
  },
  {
   "cell_type": "code",
   "execution_count": 74,
   "id": "367e174d",
   "metadata": {},
   "outputs": [
    {
     "data": {
      "text/plain": [
       "<AxesSubplot:>"
      ]
     },
     "execution_count": 74,
     "metadata": {},
     "output_type": "execute_result"
    },
    {
     "data": {
      "image/png": "[encoded data removed]",
      "text/plain": [
       "<Figure size 640x480 with 1 Axes>"
      ]
     },
     "metadata": {},
     "output_type": "display_data"
    }
   ],
   "source": [
    "df_eda[\"EDUCATION\"].value_counts().plot(kind='bar',rot=0)"
   ]
  },
  {
   "cell_type": "markdown",
   "id": "0e47ad2d",
   "metadata": {},
   "source": [
    "**Gender**"
   ]
  },
  {
   "cell_type": "code",
   "execution_count": 75,
   "id": "7fb4be84",
   "metadata": {},
   "outputs": [
    {
     "data": {
      "text/html": [
       "<div>\n",
       "<style scoped>\n",
       "    .dataframe tbody tr th:only-of-type {\n",
       "        vertical-align: middle;\n",
       "    }\n",
       "\n",
       "    .dataframe tbody tr th {\n",
       "        vertical-align: top;\n",
       "    }\n",
       "\n",
       "    .dataframe thead th {\n",
       "        text-align: right;\n",
       "    }\n",
       "</style>\n",
       "<table border=\"1\" class=\"dataframe\">\n",
       "  <thead>\n",
       "    <tr style=\"text-align: right;\">\n",
       "      <th></th>\n",
       "      <th>SEX</th>\n",
       "      <th>Percentage of Total</th>\n",
       "    </tr>\n",
       "  </thead>\n",
       "  <tbody>\n",
       "    <tr>\n",
       "      <th>Women</th>\n",
       "      <td>18112</td>\n",
       "      <td>60.37%</td>\n",
       "    </tr>\n",
       "    <tr>\n",
       "      <th>Men</th>\n",
       "      <td>11888</td>\n",
       "      <td>39.63%</td>\n",
       "    </tr>\n",
       "  </tbody>\n",
       "</table>\n",
       "</div>"
      ],
      "text/plain": [
       "         SEX Percentage of Total\n",
       "Women  18112              60.37%\n",
       "Men    11888              39.63%"
      ]
     },
     "execution_count": 75,
     "metadata": {},
     "output_type": "execute_result"
    }
   ],
   "source": [
    "gen=pd.DataFrame(df_eda['SEX'].value_counts())\n",
    "\n",
    "per_value(gen)"
   ]
  },
  {
   "cell_type": "code",
   "execution_count": 76,
   "id": "7f4bbc61",
   "metadata": {},
   "outputs": [
    {
     "data": {
      "image/png": "[encoded data removed]",
      "text/plain": [
       "<Figure size 640x480 with 1 Axes>"
      ]
     },
     "metadata": {},
     "output_type": "display_data"
    }
   ],
   "source": [
    "fig, ax = plt.subplots()\n",
    "ax.set_xlabel('Gender')\n",
    "ax.set_ylabel('Count')\n",
    "df_eda['SEX'].value_counts().plot(kind='bar',rot=0,color=\"b\")\n",
    "plt.show()"
   ]
  },
  {
   "cell_type": "markdown",
   "id": "6c514b43",
   "metadata": {},
   "source": [
    "there are around 5000 more Women than Men"
   ]
  },
  {
   "cell_type": "markdown",
   "id": "a85d4efa",
   "metadata": {},
   "source": [
    "**Age**"
   ]
  },
  {
   "cell_type": "code",
   "execution_count": 77,
   "id": "be37481f",
   "metadata": {},
   "outputs": [
    {
     "data": {
      "text/plain": [
       "<AxesSubplot:title={'center':'Density plot of Age'}, xlabel='AGE', ylabel='Density'>"
      ]
     },
     "execution_count": 77,
     "metadata": {},
     "output_type": "execute_result"
    },
    {
     "data": {
      "image/png": "[encoded data removed]",
      "text/plain": [
       "<Figure size 640x480 with 1 Axes>"
      ]
     },
     "metadata": {},
     "output_type": "display_data"
    }
   ],
   "source": [
    "fig, ax = plt.subplots()\n",
    "ax.set_title(\"Density plot of Age\")\n",
    "sns.distplot(df_eda['AGE'], hist=True,color=\"b\")"
   ]
  },
  {
   "cell_type": "markdown",
   "id": "7faf85b0",
   "metadata": {},
   "source": [
    "The distribution is skewed towards the right direction.There are more number of people having age lying between 25 and 32 . The density decreases as the age increases. "
   ]
  },
  {
   "cell_type": "markdown",
   "id": "f3634a96",
   "metadata": {},
   "source": [
    "**PayStatus over the past months:**"
   ]
  },
  {
   "cell_type": "code",
   "execution_count": 78,
   "id": "1933b04e",
   "metadata": {},
   "outputs": [
    {
     "data": {
      "text/html": [
       "<div>\n",
       "<style scoped>\n",
       "    .dataframe tbody tr th:only-of-type {\n",
       "        vertical-align: middle;\n",
       "    }\n",
       "\n",
       "    .dataframe tbody tr th {\n",
       "        vertical-align: top;\n",
       "    }\n",
       "\n",
       "    .dataframe thead th {\n",
       "        text-align: right;\n",
       "    }\n",
       "</style>\n",
       "<table border=\"1\" class=\"dataframe\">\n",
       "  <thead>\n",
       "    <tr style=\"text-align: right;\">\n",
       "      <th></th>\n",
       "      <th>April</th>\n",
       "      <th>May</th>\n",
       "      <th>June</th>\n",
       "      <th>July</th>\n",
       "      <th>August</th>\n",
       "      <th>September</th>\n",
       "    </tr>\n",
       "  </thead>\n",
       "  <tbody>\n",
       "    <tr>\n",
       "      <th>0</th>\n",
       "      <td>14737</td>\n",
       "      <td>15730</td>\n",
       "      <td>15764</td>\n",
       "      <td>16455</td>\n",
       "      <td>16947.0</td>\n",
       "      <td>16286.0</td>\n",
       "    </tr>\n",
       "    <tr>\n",
       "      <th>-1</th>\n",
       "      <td>5686</td>\n",
       "      <td>6050</td>\n",
       "      <td>5938</td>\n",
       "      <td>5687</td>\n",
       "      <td>5539.0</td>\n",
       "      <td>5740.0</td>\n",
       "    </tr>\n",
       "    <tr>\n",
       "      <th>1</th>\n",
       "      <td>3688</td>\n",
       "      <td>28</td>\n",
       "      <td>4</td>\n",
       "      <td>2</td>\n",
       "      <td>NaN</td>\n",
       "      <td>NaN</td>\n",
       "    </tr>\n",
       "    <tr>\n",
       "      <th>-2</th>\n",
       "      <td>2759</td>\n",
       "      <td>3782</td>\n",
       "      <td>4085</td>\n",
       "      <td>4348</td>\n",
       "      <td>4546.0</td>\n",
       "      <td>4895.0</td>\n",
       "    </tr>\n",
       "    <tr>\n",
       "      <th>2</th>\n",
       "      <td>2667</td>\n",
       "      <td>3927</td>\n",
       "      <td>3819</td>\n",
       "      <td>3159</td>\n",
       "      <td>2626.0</td>\n",
       "      <td>2766.0</td>\n",
       "    </tr>\n",
       "    <tr>\n",
       "      <th>3</th>\n",
       "      <td>322</td>\n",
       "      <td>326</td>\n",
       "      <td>240</td>\n",
       "      <td>180</td>\n",
       "      <td>178.0</td>\n",
       "      <td>184.0</td>\n",
       "    </tr>\n",
       "    <tr>\n",
       "      <th>4</th>\n",
       "      <td>76</td>\n",
       "      <td>99</td>\n",
       "      <td>76</td>\n",
       "      <td>69</td>\n",
       "      <td>84.0</td>\n",
       "      <td>49.0</td>\n",
       "    </tr>\n",
       "    <tr>\n",
       "      <th>5</th>\n",
       "      <td>26</td>\n",
       "      <td>25</td>\n",
       "      <td>21</td>\n",
       "      <td>35</td>\n",
       "      <td>17.0</td>\n",
       "      <td>13.0</td>\n",
       "    </tr>\n",
       "    <tr>\n",
       "      <th>8</th>\n",
       "      <td>19</td>\n",
       "      <td>1</td>\n",
       "      <td>3</td>\n",
       "      <td>2</td>\n",
       "      <td>1.0</td>\n",
       "      <td>2.0</td>\n",
       "    </tr>\n",
       "    <tr>\n",
       "      <th>6</th>\n",
       "      <td>11</td>\n",
       "      <td>12</td>\n",
       "      <td>23</td>\n",
       "      <td>5</td>\n",
       "      <td>4.0</td>\n",
       "      <td>19.0</td>\n",
       "    </tr>\n",
       "    <tr>\n",
       "      <th>7</th>\n",
       "      <td>9</td>\n",
       "      <td>20</td>\n",
       "      <td>27</td>\n",
       "      <td>58</td>\n",
       "      <td>58.0</td>\n",
       "      <td>46.0</td>\n",
       "    </tr>\n",
       "  </tbody>\n",
       "</table>\n",
       "</div>"
      ],
      "text/plain": [
       "    April    May   June   July   August  September\n",
       " 0  14737  15730  15764  16455  16947.0    16286.0\n",
       "-1   5686   6050   5938   5687   5539.0     5740.0\n",
       " 1   3688     28      4      2      NaN        NaN\n",
       "-2   2759   3782   4085   4348   4546.0     4895.0\n",
       " 2   2667   3927   3819   3159   2626.0     2766.0\n",
       " 3    322    326    240    180    178.0      184.0\n",
       " 4     76     99     76     69     84.0       49.0\n",
       " 5     26     25     21     35     17.0       13.0\n",
       " 8     19      1      3      2      1.0        2.0\n",
       " 6     11     12     23      5      4.0       19.0\n",
       " 7      9     20     27     58     58.0       46.0"
      ]
     },
     "execution_count": 78,
     "metadata": {},
     "output_type": "execute_result"
    }
   ],
   "source": [
    "a=pd.DataFrame(df_eda[[\"April\"]].value_counts(),columns=[\"April\"])\n",
    "b=pd.DataFrame(df_eda[[\"May\"]].value_counts(),columns=[\"May\"])\n",
    "c=pd.DataFrame(df_eda[[\"June\"]].value_counts(),columns=[\"June\"])\n",
    "d=pd.DataFrame(df_eda[[\"July\"]].value_counts(),columns=[\"July\"])\n",
    "e=pd.DataFrame(df_eda[[\"August\"]].value_counts(),columns=[\"August\"])\n",
    "f=pd.DataFrame(df_eda[[\"September\"]].value_counts(),columns=[\"September\"])\n",
    "g=df[[\"default payment next month\"]]\n",
    "Paystatus=pd.concat([a,b,c,d,e,f],axis=1)\n",
    "Paystatus"
   ]
  },
  {
   "cell_type": "markdown",
   "id": "821e832e",
   "metadata": {},
   "source": [
    "the Pay status is given here as 0 and -2 . It is an unxplained number here. But there are more number of data present to it,\n"
   ]
  },
  {
   "cell_type": "markdown",
   "id": "96dbd42c",
   "metadata": {},
   "source": [
    "1. The payment status for all the months seems to from a pattern . their card status has no payment to pay and 25 to 30% \n",
    "of customers have paid duly.\n",
    "2. For all the months the 50% of the card holders have paid the payment in duly.\n",
    "3. Very less people have delayed to pay post 3 months time period\n",
    "One thing is that from may to september there is very less people who have dealyed for 1 month but the numbers spike for delay in \n",
    "2 months. "
   ]
  },
  {
   "cell_type": "code",
   "execution_count": 79,
   "id": "8cdbf228",
   "metadata": {},
   "outputs": [
    {
     "data": {
      "text/plain": [
       "<Figure size 2000x1000 with 0 Axes>"
      ]
     },
     "metadata": {},
     "output_type": "display_data"
    },
    {
     "data": {
      "image/png": "[encoded data removed]",
      "text/plain": [
       "<Figure size 640x480 with 1 Axes>"
      ]
     },
     "metadata": {},
     "output_type": "display_data"
    },
    {
     "name": "stdout",
     "output_type": "stream",
     "text": [
      "None\n"
     ]
    },
    {
     "data": {
      "text/plain": [
       "<Figure size 2000x1000 with 0 Axes>"
      ]
     },
     "metadata": {},
     "output_type": "display_data"
    },
    {
     "data": {
      "image/png": "[encoded data removed]",
      "text/plain": [
       "<Figure size 640x480 with 1 Axes>"
      ]
     },
     "metadata": {},
     "output_type": "display_data"
    },
    {
     "name": "stdout",
     "output_type": "stream",
     "text": [
      "None\n"
     ]
    },
    {
     "data": {
      "text/plain": [
       "<Figure size 2000x1000 with 0 Axes>"
      ]
     },
     "metadata": {},
     "output_type": "display_data"
    },
    {
     "data": {
      "image/png": "[encoded data removed]",
      "text/plain": [
       "<Figure size 640x480 with 1 Axes>"
      ]
     },
     "metadata": {},
     "output_type": "display_data"
    },
    {
     "name": "stdout",
     "output_type": "stream",
     "text": [
      "None\n"
     ]
    },
    {
     "data": {
      "text/plain": [
       "<Figure size 2000x1000 with 0 Axes>"
      ]
     },
     "metadata": {},
     "output_type": "display_data"
    },
    {
     "data": {
      "image/png": "[encoded data removed]",
      "text/plain": [
       "<Figure size 640x480 with 1 Axes>"
      ]
     },
     "metadata": {},
     "output_type": "display_data"
    },
    {
     "name": "stdout",
     "output_type": "stream",
     "text": [
      "None\n"
     ]
    },
    {
     "data": {
      "text/plain": [
       "<Figure size 2000x1000 with 0 Axes>"
      ]
     },
     "metadata": {},
     "output_type": "display_data"
    },
    {
     "data": {
      "image/png": "[encoded data removed]",
      "text/plain": [
       "<Figure size 640x480 with 1 Axes>"
      ]
     },
     "metadata": {},
     "output_type": "display_data"
    },
    {
     "name": "stdout",
     "output_type": "stream",
     "text": [
      "None\n"
     ]
    },
    {
     "data": {
      "text/plain": [
       "<Figure size 2000x1000 with 0 Axes>"
      ]
     },
     "metadata": {},
     "output_type": "display_data"
    },
    {
     "data": {
      "image/png": "[encoded data removed]",
      "text/plain": [
       "<Figure size 640x480 with 1 Axes>"
      ]
     },
     "metadata": {},
     "output_type": "display_data"
    },
    {
     "name": "stdout",
     "output_type": "stream",
     "text": [
      "None\n"
     ]
    }
   ],
   "source": [
    "for i in range(0,6): \n",
    "    plt.figure(figsize=(20,10))\n",
    "    Paystatus.plot(y=[Paystatus.columns[i]],kind=\"bar\", use_index=True,color=\"b\")\n",
    "    print(plt.show())"
   ]
  },
  {
   "cell_type": "markdown",
   "id": "09a99c5c",
   "metadata": {},
   "source": [
    "**Bill Amount for six months**"
   ]
  },
  {
   "cell_type": "code",
   "execution_count": 80,
   "id": "ec5e859d",
   "metadata": {},
   "outputs": [],
   "source": [
    "# Lets look at the bill amount and how its varying accross the six months"
   ]
  },
  {
   "cell_type": "code",
   "execution_count": 81,
   "id": "e1c72c6d",
   "metadata": {},
   "outputs": [
    {
     "data": {
      "text/plain": [
       "<AxesSubplot:ylabel='Density'>"
      ]
     },
     "execution_count": 81,
     "metadata": {},
     "output_type": "execute_result"
    },
    {
     "data": {
      "image/png": "[encoded data removed]",
      "text/plain": [
       "<Figure size 640x480 with 1 Axes>"
      ]
     },
     "metadata": {},
     "output_type": "display_data"
    }
   ],
   "source": [
    "sns.distplot(df_eda, x=df_eda['BA_April'])"
   ]
  },
  {
   "cell_type": "code",
   "execution_count": 82,
   "id": "44acbe26",
   "metadata": {},
   "outputs": [
    {
     "data": {
      "text/plain": [
       "<AxesSubplot:ylabel='Density'>"
      ]
     },
     "execution_count": 82,
     "metadata": {},
     "output_type": "execute_result"
    },
    {
     "data": {
      "image/png": "[encoded data removed]",
      "text/plain": [
       "<Figure size 640x480 with 1 Axes>"
      ]
     },
     "metadata": {},
     "output_type": "display_data"
    }
   ],
   "source": [
    "sns.distplot(df_eda, x=df_eda['BA_May'])"
   ]
  },
  {
   "cell_type": "code",
   "execution_count": 83,
   "id": "236af370",
   "metadata": {},
   "outputs": [
    {
     "data": {
      "text/plain": [
       "<AxesSubplot:ylabel='Density'>"
      ]
     },
     "execution_count": 83,
     "metadata": {},
     "output_type": "execute_result"
    },
    {
     "data": {
      "image/png": "[encoded data removed]",
      "text/plain": [
       "<Figure size 640x480 with 1 Axes>"
      ]
     },
     "metadata": {},
     "output_type": "display_data"
    }
   ],
   "source": [
    "sns.distplot(df_eda, x=df_eda['BA_June'])"
   ]
  },
  {
   "cell_type": "code",
   "execution_count": 84,
   "id": "da888656",
   "metadata": {},
   "outputs": [
    {
     "data": {
      "text/plain": [
       "<AxesSubplot:ylabel='Density'>"
      ]
     },
     "execution_count": 84,
     "metadata": {},
     "output_type": "execute_result"
    },
    {
     "data": {
      "image/png": "[encoded data removed]",
      "text/plain": [
       "<Figure size 640x480 with 1 Axes>"
      ]
     },
     "metadata": {},
     "output_type": "display_data"
    }
   ],
   "source": [
    "sns.distplot(df_eda, x=df_eda['BA_July'])"
   ]
  },
  {
   "cell_type": "code",
   "execution_count": 85,
   "id": "d6d8957c",
   "metadata": {},
   "outputs": [
    {
     "data": {
      "text/plain": [
       "<AxesSubplot:ylabel='Density'>"
      ]
     },
     "execution_count": 85,
     "metadata": {},
     "output_type": "execute_result"
    },
    {
     "data": {
      "image/png": "[encoded data removed]",
      "text/plain": [
       "<Figure size 640x480 with 1 Axes>"
      ]
     },
     "metadata": {},
     "output_type": "display_data"
    }
   ],
   "source": [
    "sns.distplot(df_eda, x=df_eda['BA_August'])"
   ]
  },
  {
   "cell_type": "code",
   "execution_count": 86,
   "id": "d6ed5ed3",
   "metadata": {},
   "outputs": [
    {
     "data": {
      "text/plain": [
       "<AxesSubplot:ylabel='Density'>"
      ]
     },
     "execution_count": 86,
     "metadata": {},
     "output_type": "execute_result"
    },
    {
     "data": {
      "image/png": "[encoded data removed]",
      "text/plain": [
       "<Figure size 640x480 with 1 Axes>"
      ]
     },
     "metadata": {},
     "output_type": "display_data"
    }
   ],
   "source": [
    "sns.distplot(df_eda, x=df_eda['BA_September'])"
   ]
  },
  {
   "cell_type": "markdown",
   "id": "534f7e72",
   "metadata": {},
   "source": [
    "The bill amount value for all the months are skewed towards the left . There is a high concentration of values at 0 and the values are slowly dropping as the bill amount increases. this shows that most people tend to have had bill amounts 0 and 130000.\n",
    "Post this the count of people having bill amount decreased as the amount increased."
   ]
  },
  {
   "cell_type": "code",
   "execution_count": 87,
   "id": "7035c3cd",
   "metadata": {},
   "outputs": [
    {
     "data": {
      "text/plain": [
       "<AxesSubplot:ylabel='Density'>"
      ]
     },
     "execution_count": 87,
     "metadata": {},
     "output_type": "execute_result"
    },
    {
     "data": {
      "image/png": "[encoded data removed]",
      "text/plain": [
       "<Figure size 640x480 with 1 Axes>"
      ]
     },
     "metadata": {},
     "output_type": "display_data"
    }
   ],
   "source": [
    "sns.distplot(df_eda, x=df_eda['PA_May'])"
   ]
  },
  {
   "cell_type": "markdown",
   "id": "c3128f6b",
   "metadata": {},
   "source": [
    "**Pay amount for six months**"
   ]
  },
  {
   "cell_type": "code",
   "execution_count": 88,
   "id": "48d4ef32",
   "metadata": {},
   "outputs": [
    {
     "data": {
      "text/plain": [
       "<AxesSubplot:ylabel='Density'>"
      ]
     },
     "execution_count": 88,
     "metadata": {},
     "output_type": "execute_result"
    },
    {
     "data": {
      "image/png": "[encoded data removed]",
      "text/plain": [
       "<Figure size 640x480 with 1 Axes>"
      ]
     },
     "metadata": {},
     "output_type": "display_data"
    }
   ],
   "source": [
    "sns.distplot(df_eda, x=df_eda['PA_June'])"
   ]
  },
  {
   "cell_type": "code",
   "execution_count": 89,
   "id": "ee05b4de",
   "metadata": {},
   "outputs": [
    {
     "data": {
      "text/plain": [
       "<AxesSubplot:ylabel='Density'>"
      ]
     },
     "execution_count": 89,
     "metadata": {},
     "output_type": "execute_result"
    },
    {
     "data": {
      "image/png": "[encoded data removed]",
      "text/plain": [
       "<Figure size 640x480 with 1 Axes>"
      ]
     },
     "metadata": {},
     "output_type": "display_data"
    }
   ],
   "source": [
    "sns.distplot(df_eda, x=df_eda['PA_July'])"
   ]
  },
  {
   "cell_type": "code",
   "execution_count": 90,
   "id": "d9aa5e08",
   "metadata": {},
   "outputs": [
    {
     "data": {
      "text/plain": [
       "<AxesSubplot:ylabel='Density'>"
      ]
     },
     "execution_count": 90,
     "metadata": {},
     "output_type": "execute_result"
    },
    {
     "data": {
      "image/png": "[encoded data removed]",
      "text/plain": [
       "<Figure size 640x480 with 1 Axes>"
      ]
     },
     "metadata": {},
     "output_type": "display_data"
    }
   ],
   "source": [
    "sns.distplot(df_eda, x=df_eda['PA_August'])"
   ]
  },
  {
   "cell_type": "code",
   "execution_count": 91,
   "id": "85ad607f",
   "metadata": {},
   "outputs": [
    {
     "data": {
      "text/plain": [
       "<AxesSubplot:ylabel='Density'>"
      ]
     },
     "execution_count": 91,
     "metadata": {},
     "output_type": "execute_result"
    },
    {
     "data": {
      "image/png": "[encoded data removed]",
      "text/plain": [
       "<Figure size 640x480 with 1 Axes>"
      ]
     },
     "metadata": {},
     "output_type": "display_data"
    }
   ],
   "source": [
    "sns.distplot(df_eda, x=df_eda['PA_September'])"
   ]
  },
  {
   "cell_type": "markdown",
   "id": "cdd341ae",
   "metadata": {},
   "source": [
    "The payment amount for all the six months also tends to be left skewed for the data.most of the amount paid by the people is ranging between 0 to 25k and post that the distribution is very minimal "
   ]
  },
  {
   "cell_type": "markdown",
   "id": "3edcfef3",
   "metadata": {},
   "source": [
    "**Default Payment next month**"
   ]
  },
  {
   "cell_type": "code",
   "execution_count": 57,
   "id": "8eac9ca8",
   "metadata": {},
   "outputs": [
    {
     "name": "stdout",
     "output_type": "stream",
     "text": [
      "AxesSubplot(0.125,0.11;0.775x0.77)\n"
     ]
    },
    {
     "ename": "NameError",
     "evalue": "name 'per_value' is not defined",
     "output_type": "error",
     "traceback": [
      "\u001b[1;31m---------------------------------------------------------------------------\u001b[0m",
      "\u001b[1;31mNameError\u001b[0m                                 Traceback (most recent call last)",
      "\u001b[1;32m~\\AppData\\Local\\Temp\\ipykernel_21352\\263299994.py\u001b[0m in \u001b[0;36m<module>\u001b[1;34m\u001b[0m\n\u001b[0;32m      1\u001b[0m \u001b[0mprint\u001b[0m\u001b[1;33m(\u001b[0m\u001b[0mdf_eda\u001b[0m\u001b[1;33m[\u001b[0m\u001b[1;34m\"default payment next month\"\u001b[0m\u001b[1;33m]\u001b[0m\u001b[1;33m.\u001b[0m\u001b[0mvalue_counts\u001b[0m\u001b[1;33m(\u001b[0m\u001b[1;33m)\u001b[0m\u001b[1;33m.\u001b[0m\u001b[0mplot\u001b[0m\u001b[1;33m(\u001b[0m\u001b[0mkind\u001b[0m\u001b[1;33m=\u001b[0m\u001b[1;34m'bar'\u001b[0m\u001b[1;33m,\u001b[0m\u001b[0mrot\u001b[0m\u001b[1;33m=\u001b[0m\u001b[1;36m0\u001b[0m\u001b[1;33m,\u001b[0m\u001b[0mcolor\u001b[0m\u001b[1;33m=\u001b[0m\u001b[1;34m\"b\"\u001b[0m\u001b[1;33m)\u001b[0m\u001b[1;33m)\u001b[0m\u001b[1;33m\u001b[0m\u001b[1;33m\u001b[0m\u001b[0m\n\u001b[0;32m      2\u001b[0m \u001b[0mdefault\u001b[0m\u001b[1;33m=\u001b[0m\u001b[0mpd\u001b[0m\u001b[1;33m.\u001b[0m\u001b[0mDataFrame\u001b[0m\u001b[1;33m(\u001b[0m\u001b[0mdf_eda\u001b[0m\u001b[1;33m[\u001b[0m\u001b[1;34m\"default payment next month\"\u001b[0m\u001b[1;33m]\u001b[0m\u001b[1;33m.\u001b[0m\u001b[0mvalue_counts\u001b[0m\u001b[1;33m(\u001b[0m\u001b[1;33m)\u001b[0m\u001b[1;33m)\u001b[0m\u001b[1;33m\u001b[0m\u001b[1;33m\u001b[0m\u001b[0m\n\u001b[1;32m----> 3\u001b[1;33m \u001b[0mper_value\u001b[0m\u001b[1;33m(\u001b[0m\u001b[0mdefault\u001b[0m\u001b[1;33m)\u001b[0m\u001b[1;33m\u001b[0m\u001b[1;33m\u001b[0m\u001b[0m\n\u001b[0m",
      "\u001b[1;31mNameError\u001b[0m: name 'per_value' is not defined"
     ]
    },
    {
     "data": {
      "image/png": "[encoded data removed]",
      "text/plain": [
       "<Figure size 640x480 with 1 Axes>"
      ]
     },
     "metadata": {},
     "output_type": "display_data"
    }
   ],
   "source": [
    "\n",
    "print(df_eda[\"default payment next month\"].value_counts().plot(kind='bar',rot=0,color=\"b\"))\n",
    "default=pd.DataFrame(df_eda[\"default payment next month\"].value_counts())\n",
    "per_value(default)"
   ]
  },
  {
   "cell_type": "markdown",
   "id": "15253d9a",
   "metadata": {},
   "source": [
    "22% of the people have defaulted . Most of the people have not defaulted ."
   ]
  },
  {
   "cell_type": "markdown",
   "id": "25b84f45",
   "metadata": {},
   "source": [
    "**Multivariate Analysis**"
   ]
  },
  {
   "cell_type": "markdown",
   "id": "d3df24f9",
   "metadata": {},
   "source": [
    "Here I have taken the individual variables and analyzed it with the target variable .\n"
   ]
  },
  {
   "cell_type": "markdown",
   "id": "22cce0d3",
   "metadata": {},
   "source": [
    " ## Limit Balance"
   ]
  },
  {
   "cell_type": "markdown",
   "id": "48c2a435",
   "metadata": {},
   "source": [
    "Let's see if there is any variation in the limit balances for people who hace"
   ]
  },
  {
   "cell_type": "code",
   "execution_count": 113,
   "id": "7a49b321",
   "metadata": {},
   "outputs": [
    {
     "data": {
      "text/plain": [
       "<seaborn.axisgrid.FacetGrid at 0x1db6804bc70>"
      ]
     },
     "execution_count": 113,
     "metadata": {},
     "output_type": "execute_result"
    },
    {
     "data": {
      "image/png": "[encoded data removed]",
      "text/plain": [
       "<Figure size 711.111x500 with 1 Axes>"
      ]
     },
     "metadata": {},
     "output_type": "display_data"
    }
   ],
   "source": [
    "palette = sns.color_palette([\"red\",\"green\"])\n",
    "sns.displot(df_eda, x=df_eda[\"LIMIT_BAL\"], hue=\"default payment next month\",palette=palette)"
   ]
  },
  {
   "cell_type": "markdown",
   "id": "6a1a158d",
   "metadata": {},
   "source": [
    "There is no relation with default and limit balance as the people who default are scattered accross different levels of credit limit balance"
   ]
  },
  {
   "cell_type": "markdown",
   "id": "28d33856",
   "metadata": {},
   "source": [
    "## Gender"
   ]
  },
  {
   "cell_type": "code",
   "execution_count": 53,
   "id": "10fa8daa",
   "metadata": {},
   "outputs": [
    {
     "data": {
      "text/plain": [
       "<AxesSubplot:xlabel='SEX', ylabel='count'>"
      ]
     },
     "execution_count": 53,
     "metadata": {},
     "output_type": "execute_result"
    },
    {
     "data": {
      "image/png": "[encoded data removed]",
      "text/plain": [
       "<Figure size 640x480 with 1 Axes>"
      ]
     },
     "metadata": {},
     "output_type": "display_data"
    }
   ],
   "source": [
    "palette = sns.color_palette(\"RdYlBu\")\n",
    "\n",
    "sns.countplot(x = df_eda[\"SEX\"], hue = 'default payment next month', data = df_eda, palette=palette)"
   ]
  },
  {
   "cell_type": "code",
   "execution_count": 114,
   "id": "5fbe54fa",
   "metadata": {},
   "outputs": [],
   "source": [
    "df_eda['default payment next month'].replace({0:\"Not defaulted\",1:\"Defaulted\"},inplace=True)\n",
    "\n",
    "default_pay=pd.DataFrame(df_eda['default payment next month'].groupby(df_eda['SEX']).value_counts())\n"
   ]
  },
  {
   "cell_type": "code",
   "execution_count": 115,
   "id": "0bb14324",
   "metadata": {},
   "outputs": [
    {
     "data": {
      "text/html": [
       "<div>\n",
       "<style scoped>\n",
       "    .dataframe tbody tr th:only-of-type {\n",
       "        vertical-align: middle;\n",
       "    }\n",
       "\n",
       "    .dataframe tbody tr th {\n",
       "        vertical-align: top;\n",
       "    }\n",
       "\n",
       "    .dataframe thead th {\n",
       "        text-align: right;\n",
       "    }\n",
       "</style>\n",
       "<table border=\"1\" class=\"dataframe\">\n",
       "  <thead>\n",
       "    <tr style=\"text-align: right;\">\n",
       "      <th></th>\n",
       "      <th></th>\n",
       "      <th>default payment next month</th>\n",
       "      <th>Percentage of Total</th>\n",
       "    </tr>\n",
       "    <tr>\n",
       "      <th>SEX</th>\n",
       "      <th>default payment next month</th>\n",
       "      <th></th>\n",
       "      <th></th>\n",
       "    </tr>\n",
       "  </thead>\n",
       "  <tbody>\n",
       "    <tr>\n",
       "      <th rowspan=\"2\" valign=\"top\">Men</th>\n",
       "      <th>Not defaulted</th>\n",
       "      <td>9015</td>\n",
       "      <td>75.83%</td>\n",
       "    </tr>\n",
       "    <tr>\n",
       "      <th>Defaulted</th>\n",
       "      <td>2873</td>\n",
       "      <td>24.17%</td>\n",
       "    </tr>\n",
       "    <tr>\n",
       "      <th rowspan=\"2\" valign=\"top\">Women</th>\n",
       "      <th>Not defaulted</th>\n",
       "      <td>14349</td>\n",
       "      <td>79.22%</td>\n",
       "    </tr>\n",
       "    <tr>\n",
       "      <th>Defaulted</th>\n",
       "      <td>3763</td>\n",
       "      <td>20.78%</td>\n",
       "    </tr>\n",
       "  </tbody>\n",
       "</table>\n",
       "</div>"
      ],
      "text/plain": [
       "                                  default payment next month  \\\n",
       "SEX   default payment next month                               \n",
       "Men   Not defaulted                                     9015   \n",
       "      Defaulted                                         2873   \n",
       "Women Not defaulted                                    14349   \n",
       "      Defaulted                                         3763   \n",
       "\n",
       "                                 Percentage of Total  \n",
       "SEX   default payment next month                      \n",
       "Men   Not defaulted                           75.83%  \n",
       "      Defaulted                               24.17%  \n",
       "Women Not defaulted                           79.22%  \n",
       "      Defaulted                               20.78%  "
      ]
     },
     "execution_count": 115,
     "metadata": {},
     "output_type": "execute_result"
    }
   ],
   "source": [
    "per_value2(default_pay)"
   ]
  },
  {
   "cell_type": "markdown",
   "id": "37676fd2",
   "metadata": {},
   "source": [
    "Relatively same %of people defaulted among men and women . while the proportion of men who defaulted is higher , the  higher value counts tend to slide towards women"
   ]
  },
  {
   "cell_type": "markdown",
   "id": "a52bf59d",
   "metadata": {},
   "source": [
    "## Education"
   ]
  },
  {
   "cell_type": "markdown",
   "id": "a1830ae0",
   "metadata": {},
   "source": [
    "Here we can see how the People defaulting and their educational levels are varying"
   ]
  },
  {
   "cell_type": "code",
   "execution_count": 117,
   "id": "edeb1db1",
   "metadata": {},
   "outputs": [
    {
     "data": {
      "text/plain": [
       "<AxesSubplot:xlabel='EDUCATION', ylabel='count'>"
      ]
     },
     "execution_count": 117,
     "metadata": {},
     "output_type": "execute_result"
    },
    {
     "data": {
      "image/png": "[encoded data removed]",
      "text/plain": [
       "<Figure size 640x480 with 1 Axes>"
      ]
     },
     "metadata": {},
     "output_type": "display_data"
    }
   ],
   "source": [
    "palette = sns.color_palette(\"RdYlBu\")\n",
    "\n",
    "sns.countplot(x = df_eda[\"EDUCATION\"], hue = 'default payment next month', data = df_eda, palette=palette)"
   ]
  },
  {
   "cell_type": "code",
   "execution_count": 119,
   "id": "d0f36035",
   "metadata": {},
   "outputs": [
    {
     "data": {
      "text/plain": [
       "<AxesSubplot:xlabel='default payment next month', ylabel='count'>"
      ]
     },
     "execution_count": 119,
     "metadata": {},
     "output_type": "execute_result"
    },
    {
     "data": {
      "image/png": "[encoded data removed]",
      "text/plain": [
       "<Figure size 640x480 with 1 Axes>"
      ]
     },
     "metadata": {},
     "output_type": "display_data"
    }
   ],
   "source": [
    "palette = sns.color_palette(\"RdYlBu\")\n",
    "sns.countplot(x = df_eda[\"default payment next month\"], hue = 'EDUCATION', data = df_eda,palette=palette)"
   ]
  },
  {
   "cell_type": "markdown",
   "id": "2f81ddea",
   "metadata": {},
   "source": [
    "The proportion of people who default seemed to be slightly higher for high school educated people.Let's find the count and percentage of it."
   ]
  },
  {
   "cell_type": "code",
   "execution_count": 121,
   "id": "26c4fa1f",
   "metadata": {},
   "outputs": [
    {
     "data": {
      "text/html": [
       "<div>\n",
       "<style scoped>\n",
       "    .dataframe tbody tr th:only-of-type {\n",
       "        vertical-align: middle;\n",
       "    }\n",
       "\n",
       "    .dataframe tbody tr th {\n",
       "        vertical-align: top;\n",
       "    }\n",
       "\n",
       "    .dataframe thead th {\n",
       "        text-align: right;\n",
       "    }\n",
       "</style>\n",
       "<table border=\"1\" class=\"dataframe\">\n",
       "  <thead>\n",
       "    <tr style=\"text-align: right;\">\n",
       "      <th></th>\n",
       "      <th></th>\n",
       "      <th>default payment next month</th>\n",
       "      <th>Percentage of Total</th>\n",
       "    </tr>\n",
       "    <tr>\n",
       "      <th>EDUCATION</th>\n",
       "      <th>default payment next month</th>\n",
       "      <th></th>\n",
       "      <th></th>\n",
       "    </tr>\n",
       "  </thead>\n",
       "  <tbody>\n",
       "    <tr>\n",
       "      <th rowspan=\"2\" valign=\"top\">Graduate School</th>\n",
       "      <th>Not defaulted</th>\n",
       "      <td>8549</td>\n",
       "      <td>80.77%</td>\n",
       "    </tr>\n",
       "    <tr>\n",
       "      <th>Defaulted</th>\n",
       "      <td>2036</td>\n",
       "      <td>19.23%</td>\n",
       "    </tr>\n",
       "    <tr>\n",
       "      <th rowspan=\"2\" valign=\"top\">High School</th>\n",
       "      <th>Not defaulted</th>\n",
       "      <td>3680</td>\n",
       "      <td>74.84%</td>\n",
       "    </tr>\n",
       "    <tr>\n",
       "      <th>Defaulted</th>\n",
       "      <td>1237</td>\n",
       "      <td>25.16%</td>\n",
       "    </tr>\n",
       "    <tr>\n",
       "      <th rowspan=\"2\" valign=\"top\">Others</th>\n",
       "      <th>Not defaulted</th>\n",
       "      <td>435</td>\n",
       "      <td>92.95%</td>\n",
       "    </tr>\n",
       "    <tr>\n",
       "      <th>Defaulted</th>\n",
       "      <td>33</td>\n",
       "      <td>7.05%</td>\n",
       "    </tr>\n",
       "    <tr>\n",
       "      <th rowspan=\"2\" valign=\"top\">University</th>\n",
       "      <th>Not defaulted</th>\n",
       "      <td>10700</td>\n",
       "      <td>76.27%</td>\n",
       "    </tr>\n",
       "    <tr>\n",
       "      <th>Defaulted</th>\n",
       "      <td>3330</td>\n",
       "      <td>23.73%</td>\n",
       "    </tr>\n",
       "  </tbody>\n",
       "</table>\n",
       "</div>"
      ],
      "text/plain": [
       "                                            default payment next month  \\\n",
       "EDUCATION       default payment next month                               \n",
       "Graduate School Not defaulted                                     8549   \n",
       "                Defaulted                                         2036   \n",
       "High School     Not defaulted                                     3680   \n",
       "                Defaulted                                         1237   \n",
       "Others          Not defaulted                                      435   \n",
       "                Defaulted                                           33   \n",
       "University      Not defaulted                                    10700   \n",
       "                Defaulted                                         3330   \n",
       "\n",
       "                                           Percentage of Total  \n",
       "EDUCATION       default payment next month                      \n",
       "Graduate School Not defaulted                           80.77%  \n",
       "                Defaulted                               19.23%  \n",
       "High School     Not defaulted                           74.84%  \n",
       "                Defaulted                               25.16%  \n",
       "Others          Not defaulted                           92.95%  \n",
       "                Defaulted                                7.05%  \n",
       "University      Not defaulted                           76.27%  \n",
       "                Defaulted                               23.73%  "
      ]
     },
     "execution_count": 121,
     "metadata": {},
     "output_type": "execute_result"
    }
   ],
   "source": [
    "edu=pd.DataFrame(df_eda['default payment next month'].groupby(df_eda['EDUCATION']).value_counts())\n",
    "per_value2(edu)"
   ]
  },
  {
   "cell_type": "markdown",
   "id": "7738c3e7",
   "metadata": {},
   "source": [
    "As seen from the vizuals there is a slightly higher % of people who have defaulted from those who had only high school education.And relatively same percentage of people defaulted from all educational levels. Even though other education levels are the lowest we can't say anything about it since we don't know how many educational levels it contains."
   ]
  },
  {
   "cell_type": "markdown",
   "id": "67f3e8c8",
   "metadata": {},
   "source": [
    "# MARRIAGE"
   ]
  },
  {
   "cell_type": "markdown",
   "id": "46628e4e",
   "metadata": {},
   "source": [
    "See if there is any relation between martial status and default"
   ]
  },
  {
   "cell_type": "code",
   "execution_count": 128,
   "id": "7235ad8b",
   "metadata": {},
   "outputs": [
    {
     "data": {
      "text/plain": [
       "<AxesSubplot:xlabel='MARRIAGE', ylabel='count'>"
      ]
     },
     "execution_count": 128,
     "metadata": {},
     "output_type": "execute_result"
    },
    {
     "data": {
      "image/png": "[encoded data removed]",
      "text/plain": [
       "<Figure size 640x480 with 1 Axes>"
      ]
     },
     "metadata": {},
     "output_type": "display_data"
    }
   ],
   "source": [
    "palette = sns.color_palette(\"RdYlBu\")\n",
    "sns.countplot(x = df_eda[\"MARRIAGE\"], hue = 'default payment next month', data = df_eda,palette=palette)"
   ]
  },
  {
   "cell_type": "code",
   "execution_count": 129,
   "id": "0dfc8f31",
   "metadata": {},
   "outputs": [
    {
     "data": {
      "text/plain": [
       "<AxesSubplot:xlabel='default payment next month', ylabel='count'>"
      ]
     },
     "execution_count": 129,
     "metadata": {},
     "output_type": "execute_result"
    },
    {
     "data": {
      "image/png": "[encoded data removed]",
      "text/plain": [
       "<Figure size 640x480 with 1 Axes>"
      ]
     },
     "metadata": {},
     "output_type": "display_data"
    }
   ],
   "source": [
    "palette = sns.color_palette(\"RdYlBu\")\n",
    "sns.countplot(x = df_eda[\"default payment next month\"], hue = 'MARRIAGE', data = df_eda,palette=palette)"
   ]
  },
  {
   "cell_type": "code",
   "execution_count": 127,
   "id": "848cd4d5",
   "metadata": {},
   "outputs": [
    {
     "data": {
      "text/html": [
       "<div>\n",
       "<style scoped>\n",
       "    .dataframe tbody tr th:only-of-type {\n",
       "        vertical-align: middle;\n",
       "    }\n",
       "\n",
       "    .dataframe tbody tr th {\n",
       "        vertical-align: top;\n",
       "    }\n",
       "\n",
       "    .dataframe thead th {\n",
       "        text-align: right;\n",
       "    }\n",
       "</style>\n",
       "<table border=\"1\" class=\"dataframe\">\n",
       "  <thead>\n",
       "    <tr style=\"text-align: right;\">\n",
       "      <th></th>\n",
       "      <th></th>\n",
       "      <th>default payment next month</th>\n",
       "      <th>Percentage of Total</th>\n",
       "    </tr>\n",
       "    <tr>\n",
       "      <th>MARRIAGE</th>\n",
       "      <th>default payment next month</th>\n",
       "      <th></th>\n",
       "      <th></th>\n",
       "    </tr>\n",
       "  </thead>\n",
       "  <tbody>\n",
       "    <tr>\n",
       "      <th rowspan=\"2\" valign=\"top\">Married</th>\n",
       "      <th>Not defaulted</th>\n",
       "      <td>10453</td>\n",
       "      <td>76.53%</td>\n",
       "    </tr>\n",
       "    <tr>\n",
       "      <th>Defaulted</th>\n",
       "      <td>3206</td>\n",
       "      <td>23.47%</td>\n",
       "    </tr>\n",
       "    <tr>\n",
       "      <th rowspan=\"2\" valign=\"top\">Others</th>\n",
       "      <th>Not defaulted</th>\n",
       "      <td>288</td>\n",
       "      <td>76.39%</td>\n",
       "    </tr>\n",
       "    <tr>\n",
       "      <th>Defaulted</th>\n",
       "      <td>89</td>\n",
       "      <td>23.61%</td>\n",
       "    </tr>\n",
       "    <tr>\n",
       "      <th rowspan=\"2\" valign=\"top\">Single</th>\n",
       "      <th>Not defaulted</th>\n",
       "      <td>12623</td>\n",
       "      <td>79.07%</td>\n",
       "    </tr>\n",
       "    <tr>\n",
       "      <th>Defaulted</th>\n",
       "      <td>3341</td>\n",
       "      <td>20.93%</td>\n",
       "    </tr>\n",
       "  </tbody>\n",
       "</table>\n",
       "</div>"
      ],
      "text/plain": [
       "                                     default payment next month  \\\n",
       "MARRIAGE default payment next month                               \n",
       "Married  Not defaulted                                    10453   \n",
       "         Defaulted                                         3206   \n",
       "Others   Not defaulted                                      288   \n",
       "         Defaulted                                           89   \n",
       "Single   Not defaulted                                    12623   \n",
       "         Defaulted                                         3341   \n",
       "\n",
       "                                    Percentage of Total  \n",
       "MARRIAGE default payment next month                      \n",
       "Married  Not defaulted                           76.53%  \n",
       "         Defaulted                               23.47%  \n",
       "Others   Not defaulted                           76.39%  \n",
       "         Defaulted                               23.61%  \n",
       "Single   Not defaulted                           79.07%  \n",
       "         Defaulted                               20.93%  "
      ]
     },
     "execution_count": 127,
     "metadata": {},
     "output_type": "execute_result"
    }
   ],
   "source": [
    "mar=pd.DataFrame(df_eda['default payment next month'].groupby(df_eda['MARRIAGE']).value_counts())\n",
    "per_value2(mar)"
   ]
  },
  {
   "cell_type": "markdown",
   "id": "c3376b82",
   "metadata": {},
   "source": [
    "People of all martial statuses have similar probability of default."
   ]
  },
  {
   "cell_type": "markdown",
   "id": "7602bf04",
   "metadata": {},
   "source": [
    "## Age"
   ]
  },
  {
   "cell_type": "code",
   "execution_count": null,
   "id": "9f300547",
   "metadata": {},
   "outputs": [],
   "source": [
    " sns.displot(df_eda, x=df_eda[\"AGE\"], hue=\"default payment next month\")"
   ]
  },
  {
   "cell_type": "markdown",
   "id": "2b41e875",
   "metadata": {},
   "source": [
    "The probability of default seems to be left skewed similar to the distribution of age.**But as the age of people increases there is less people in our data having credit card and also the probability of default is higher as age increases**. People in their early 20's are also having higher probability of default."
   ]
  },
  {
   "cell_type": "markdown",
   "id": "2ca087d4",
   "metadata": {},
   "source": [
    "# PayStatus over Months"
   ]
  },
  {
   "cell_type": "code",
   "execution_count": null,
   "id": "bcae62e0",
   "metadata": {},
   "outputs": [],
   "source": [
    "Paystatus"
   ]
  },
  {
   "cell_type": "markdown",
   "id": "6ea4996d",
   "metadata": {},
   "source": [
    "As we have seen from the above table, we do not have much info regarding the pay status for all 6 months when the payment is due for 1 month. so we can see the paystatus for differnet months and the proportion of people defaulting for different pay status accross months."
   ]
  },
  {
   "cell_type": "code",
   "execution_count": null,
   "id": "8149f025",
   "metadata": {},
   "outputs": [],
   "source": [
    "Paystatus"
   ]
  },
  {
   "cell_type": "code",
   "execution_count": null,
   "id": "b6cb63e3",
   "metadata": {},
   "outputs": [],
   "source": [
    "\n",
    "sns.countplot(x = df_eda[\"April\"], hue = 'default payment next month', data = df_eda)"
   ]
  },
  {
   "cell_type": "code",
   "execution_count": null,
   "id": "72b385c1",
   "metadata": {},
   "outputs": [],
   "source": [
    "\n",
    "sns.countplot(x = df_eda[\"May\"], hue = 'default payment next month', data = df_eda)"
   ]
  },
  {
   "cell_type": "code",
   "execution_count": null,
   "id": "eb225735",
   "metadata": {},
   "outputs": [],
   "source": [
    "sns.countplot(x = df_eda[\"June\"], hue = 'default payment next month', data = df_eda)"
   ]
  },
  {
   "cell_type": "code",
   "execution_count": null,
   "id": "55966c80",
   "metadata": {},
   "outputs": [],
   "source": [
    "sns.countplot(x = df_eda[\"July\"], hue = 'default payment next month', data = df_eda)"
   ]
  },
  {
   "cell_type": "code",
   "execution_count": null,
   "id": "3d2d1221",
   "metadata": {},
   "outputs": [],
   "source": [
    "sns.countplot(x = df_eda[\"August\"], hue = 'default payment next month', data = df_eda)"
   ]
  },
  {
   "cell_type": "code",
   "execution_count": null,
   "id": "e677ab96",
   "metadata": {},
   "outputs": [],
   "source": [
    "sns.countplot(x = df_eda[\"September\"], hue = 'default payment next month', data = df_eda)"
   ]
  },
  {
   "cell_type": "markdown",
   "id": "c2d47d14",
   "metadata": {},
   "source": [
    "since we do not have much info regarding paystatus and duly 1 month we can't say anything regarding it. But if we look at pay delay for two months and above for all the months , more number of people defaulted if people delayed payment of bill for a month beyond 2 months"
   ]
  },
  {
   "cell_type": "markdown",
   "id": "6a858c10",
   "metadata": {},
   "source": [
    "# Bill amount over the months "
   ]
  },
  {
   "cell_type": "code",
   "execution_count": null,
   "id": "81d79d69",
   "metadata": {},
   "outputs": [],
   "source": [
    "dr={'BILL_AMT1':'BA_April','BILL_AMT2':\"BA_May\",'BILL_AMT3':\"BA_June\",'BILL_AMT4':\"BA_July\",'BILL_AMT5':\"BA_August\",\"BILL_AMT6\":\"BA_September\"}\n",
    "df_eda.rename(columns =dr, inplace = True)"
   ]
  },
  {
   "cell_type": "code",
   "execution_count": null,
   "id": "00b9c721",
   "metadata": {},
   "outputs": [],
   "source": [
    "sns.displot(df_eda, x=df_eda[\"BA_April\"], hue=\"default payment next month\")"
   ]
  },
  {
   "cell_type": "code",
   "execution_count": null,
   "id": "d2b94e56",
   "metadata": {},
   "outputs": [],
   "source": [
    "sns.displot(df_eda, x=df_eda[\"BA_May\"], hue=\"default payment next month\")"
   ]
  },
  {
   "cell_type": "code",
   "execution_count": null,
   "id": "ffa23aca",
   "metadata": {},
   "outputs": [],
   "source": [
    "sns.displot(df_eda, x=df_eda[\"BA_June\"], hue=\"default payment next month\")"
   ]
  },
  {
   "cell_type": "code",
   "execution_count": null,
   "id": "d773cbbc",
   "metadata": {},
   "outputs": [],
   "source": [
    "sns.displot(df_eda, x=df_eda[\"BA_July\"], hue=\"default payment next month\")"
   ]
  },
  {
   "cell_type": "code",
   "execution_count": null,
   "id": "50771811",
   "metadata": {},
   "outputs": [],
   "source": [
    "sns.displot(df_eda, x=df_eda[\"BA_August\"], hue=\"default payment next month\")"
   ]
  },
  {
   "cell_type": "code",
   "execution_count": null,
   "id": "01c5a35c",
   "metadata": {},
   "outputs": [],
   "source": [
    "sns.displot(df_eda, x=df_eda[\"BA_September\"], hue=\"default payment next month\")"
   ]
  },
  {
   "cell_type": "markdown",
   "id": "ee6c0552",
   "metadata": {},
   "source": [
    "The bill amount for people tends to be left skewed along with the proportion of people defaulting. the bill amounts tend to \n",
    "stay within the limit of 0 to 200K."
   ]
  },
  {
   "cell_type": "markdown",
   "id": "3bc246fc",
   "metadata": {},
   "source": [
    "## Amount paid over Months"
   ]
  },
  {
   "cell_type": "code",
   "execution_count": null,
   "id": "7f3a69b1",
   "metadata": {},
   "outputs": [],
   "source": [
    "sns.displot(df_eda, x=df_eda[\"PA_April\"], hue=\"default payment next month\")"
   ]
  },
  {
   "cell_type": "code",
   "execution_count": null,
   "id": "75686d07",
   "metadata": {},
   "outputs": [],
   "source": [
    "sns.displot(df_eda, x=df_eda[\"PA_May\"], hue=\"default payment next month\")"
   ]
  },
  {
   "cell_type": "code",
   "execution_count": null,
   "id": "d079cb9d",
   "metadata": {},
   "outputs": [],
   "source": [
    "sns.displot(df_eda, x=df_eda[\"PA_July\"], hue=\"default payment next month\")"
   ]
  },
  {
   "cell_type": "code",
   "execution_count": null,
   "id": "080879bf",
   "metadata": {},
   "outputs": [],
   "source": [
    "sns.displot(df_eda, x=df_eda[\"PA_August\"], hue=\"default payment next month\")"
   ]
  },
  {
   "cell_type": "code",
   "execution_count": null,
   "id": "7b52b0ab",
   "metadata": {},
   "outputs": [],
   "source": [
    "sns.displot(df_eda, x=df_eda[\"PA_September\"], hue=\"default payment next month\")"
   ]
  },
  {
   "cell_type": "markdown",
   "id": "42196f35",
   "metadata": {},
   "source": [
    "The Payment amount is left skewed for all the months"
   ]
  },
  {
   "cell_type": "markdown",
   "id": "d036d2ba",
   "metadata": {},
   "source": [
    "**Analyzing the data by taking only the defaulted rows**"
   ]
  },
  {
   "cell_type": "markdown",
   "id": "2224add4",
   "metadata": {},
   "source": [
    "**Gender:**"
   ]
  },
  {
   "cell_type": "code",
   "execution_count": 130,
   "id": "1ec46158",
   "metadata": {},
   "outputs": [
    {
     "data": {
      "text/html": [
       "<div>\n",
       "<style scoped>\n",
       "    .dataframe tbody tr th:only-of-type {\n",
       "        vertical-align: middle;\n",
       "    }\n",
       "\n",
       "    .dataframe tbody tr th {\n",
       "        vertical-align: top;\n",
       "    }\n",
       "\n",
       "    .dataframe thead th {\n",
       "        text-align: right;\n",
       "    }\n",
       "</style>\n",
       "<table border=\"1\" class=\"dataframe\">\n",
       "  <thead>\n",
       "    <tr style=\"text-align: right;\">\n",
       "      <th></th>\n",
       "      <th></th>\n",
       "      <th>default payment next month</th>\n",
       "      <th>Percentage of Total</th>\n",
       "    </tr>\n",
       "    <tr>\n",
       "      <th>SEX</th>\n",
       "      <th>default payment next month</th>\n",
       "      <th></th>\n",
       "      <th></th>\n",
       "    </tr>\n",
       "  </thead>\n",
       "  <tbody>\n",
       "    <tr>\n",
       "      <th>Men</th>\n",
       "      <th>Defaulted</th>\n",
       "      <td>2873</td>\n",
       "      <td>43.29%</td>\n",
       "    </tr>\n",
       "    <tr>\n",
       "      <th>Women</th>\n",
       "      <th>Defaulted</th>\n",
       "      <td>3763</td>\n",
       "      <td>56.71%</td>\n",
       "    </tr>\n",
       "  </tbody>\n",
       "</table>\n",
       "</div>"
      ],
      "text/plain": [
       "                                  default payment next month  \\\n",
       "SEX   default payment next month                               \n",
       "Men   Defaulted                                         2873   \n",
       "Women Defaulted                                         3763   \n",
       "\n",
       "                                 Percentage of Total  \n",
       "SEX   default payment next month                      \n",
       "Men   Defaulted                               43.29%  \n",
       "Women Defaulted                               56.71%  "
      ]
     },
     "execution_count": 130,
     "metadata": {},
     "output_type": "execute_result"
    }
   ],
   "source": [
    "subset=df_eda[\"default payment next month\"]==\"Defaulted\"\n",
    "df_daf=df_eda[subset]\n",
    "per_value(pd.DataFrame(df_daf['default payment next month'].groupby(df_eda['SEX']).value_counts()))"
   ]
  },
  {
   "cell_type": "code",
   "execution_count": 57,
   "id": "45e4d7fc",
   "metadata": {},
   "outputs": [
    {
     "data": {
      "text/html": [
       "<div>\n",
       "<style scoped>\n",
       "    .dataframe tbody tr th:only-of-type {\n",
       "        vertical-align: middle;\n",
       "    }\n",
       "\n",
       "    .dataframe tbody tr th {\n",
       "        vertical-align: top;\n",
       "    }\n",
       "\n",
       "    .dataframe thead th {\n",
       "        text-align: right;\n",
       "    }\n",
       "</style>\n",
       "<table border=\"1\" class=\"dataframe\">\n",
       "  <thead>\n",
       "    <tr style=\"text-align: right;\">\n",
       "      <th></th>\n",
       "      <th></th>\n",
       "      <th>default payment next month</th>\n",
       "      <th>Percentage of Total</th>\n",
       "    </tr>\n",
       "    <tr>\n",
       "      <th>EDUCATION</th>\n",
       "      <th>default payment next month</th>\n",
       "      <th></th>\n",
       "      <th></th>\n",
       "    </tr>\n",
       "  </thead>\n",
       "  <tbody>\n",
       "    <tr>\n",
       "      <th>Graduate School</th>\n",
       "      <th>Defaulted</th>\n",
       "      <td>2036</td>\n",
       "      <td>30.68%</td>\n",
       "    </tr>\n",
       "    <tr>\n",
       "      <th>High School</th>\n",
       "      <th>Defaulted</th>\n",
       "      <td>1237</td>\n",
       "      <td>18.64%</td>\n",
       "    </tr>\n",
       "    <tr>\n",
       "      <th>Others</th>\n",
       "      <th>Defaulted</th>\n",
       "      <td>33</td>\n",
       "      <td>0.5%</td>\n",
       "    </tr>\n",
       "    <tr>\n",
       "      <th>University</th>\n",
       "      <th>Defaulted</th>\n",
       "      <td>3330</td>\n",
       "      <td>50.18%</td>\n",
       "    </tr>\n",
       "  </tbody>\n",
       "</table>\n",
       "</div>"
      ],
      "text/plain": [
       "                                            default payment next month  \\\n",
       "EDUCATION       default payment next month                               \n",
       "Graduate School Defaulted                                         2036   \n",
       "High School     Defaulted                                         1237   \n",
       "Others          Defaulted                                           33   \n",
       "University      Defaulted                                         3330   \n",
       "\n",
       "                                           Percentage of Total  \n",
       "EDUCATION       default payment next month                      \n",
       "Graduate School Defaulted                               30.68%  \n",
       "High School     Defaulted                               18.64%  \n",
       "Others          Defaulted                                 0.5%  \n",
       "University      Defaulted                               50.18%  "
      ]
     },
     "execution_count": 57,
     "metadata": {},
     "output_type": "execute_result"
    }
   ],
   "source": [
    "per_value(pd.DataFrame(df_daf['default payment next month'].groupby(df_eda['EDUCATION']).value_counts()))"
   ]
  },
  {
   "cell_type": "markdown",
   "id": "b0ed5284",
   "metadata": {},
   "source": [
    "Half of the people who defaulted have the education level at their university."
   ]
  },
  {
   "cell_type": "markdown",
   "id": "ba6b7b66",
   "metadata": {},
   "source": [
    "**Marriage**"
   ]
  },
  {
   "cell_type": "code",
   "execution_count": 58,
   "id": "fbcf401a",
   "metadata": {},
   "outputs": [
    {
     "data": {
      "text/html": [
       "<div>\n",
       "<style scoped>\n",
       "    .dataframe tbody tr th:only-of-type {\n",
       "        vertical-align: middle;\n",
       "    }\n",
       "\n",
       "    .dataframe tbody tr th {\n",
       "        vertical-align: top;\n",
       "    }\n",
       "\n",
       "    .dataframe thead th {\n",
       "        text-align: right;\n",
       "    }\n",
       "</style>\n",
       "<table border=\"1\" class=\"dataframe\">\n",
       "  <thead>\n",
       "    <tr style=\"text-align: right;\">\n",
       "      <th></th>\n",
       "      <th></th>\n",
       "      <th>default payment next month</th>\n",
       "      <th>Percentage of Total</th>\n",
       "    </tr>\n",
       "    <tr>\n",
       "      <th>MARRIAGE</th>\n",
       "      <th>default payment next month</th>\n",
       "      <th></th>\n",
       "      <th></th>\n",
       "    </tr>\n",
       "  </thead>\n",
       "  <tbody>\n",
       "    <tr>\n",
       "      <th>Married</th>\n",
       "      <th>Defaulted</th>\n",
       "      <td>3206</td>\n",
       "      <td>48.31%</td>\n",
       "    </tr>\n",
       "    <tr>\n",
       "      <th>Others</th>\n",
       "      <th>Defaulted</th>\n",
       "      <td>89</td>\n",
       "      <td>1.34%</td>\n",
       "    </tr>\n",
       "    <tr>\n",
       "      <th>Single</th>\n",
       "      <th>Defaulted</th>\n",
       "      <td>3341</td>\n",
       "      <td>50.35%</td>\n",
       "    </tr>\n",
       "  </tbody>\n",
       "</table>\n",
       "</div>"
      ],
      "text/plain": [
       "                                     default payment next month  \\\n",
       "MARRIAGE default payment next month                               \n",
       "Married  Defaulted                                         3206   \n",
       "Others   Defaulted                                           89   \n",
       "Single   Defaulted                                         3341   \n",
       "\n",
       "                                    Percentage of Total  \n",
       "MARRIAGE default payment next month                      \n",
       "Married  Defaulted                               48.31%  \n",
       "Others   Defaulted                                1.34%  \n",
       "Single   Defaulted                               50.35%  "
      ]
     },
     "execution_count": 58,
     "metadata": {},
     "output_type": "execute_result"
    }
   ],
   "source": [
    "per_value(pd.DataFrame(df_daf['default payment next month'].groupby(df_eda['MARRIAGE']).value_counts()))"
   ]
  },
  {
   "cell_type": "markdown",
   "id": "1a4862c5",
   "metadata": {},
   "source": [
    "**Marriage and Gender**"
   ]
  },
  {
   "cell_type": "code",
   "execution_count": 134,
   "id": "1c36e6ca",
   "metadata": {},
   "outputs": [
    {
     "data": {
      "text/html": [
       "<div>\n",
       "<style scoped>\n",
       "    .dataframe tbody tr th:only-of-type {\n",
       "        vertical-align: middle;\n",
       "    }\n",
       "\n",
       "    .dataframe tbody tr th {\n",
       "        vertical-align: top;\n",
       "    }\n",
       "\n",
       "    .dataframe thead th {\n",
       "        text-align: right;\n",
       "    }\n",
       "</style>\n",
       "<table border=\"1\" class=\"dataframe\">\n",
       "  <thead>\n",
       "    <tr style=\"text-align: right;\">\n",
       "      <th></th>\n",
       "      <th></th>\n",
       "      <th></th>\n",
       "      <th>default payment next month</th>\n",
       "      <th>Percentage of Total</th>\n",
       "    </tr>\n",
       "    <tr>\n",
       "      <th>MARRIAGE</th>\n",
       "      <th>SEX</th>\n",
       "      <th>default payment next month</th>\n",
       "      <th></th>\n",
       "      <th></th>\n",
       "    </tr>\n",
       "  </thead>\n",
       "  <tbody>\n",
       "    <tr>\n",
       "      <th rowspan=\"2\" valign=\"top\">Married</th>\n",
       "      <th>Men</th>\n",
       "      <th>Defaulted</th>\n",
       "      <td>1346</td>\n",
       "      <td>41.98%</td>\n",
       "    </tr>\n",
       "    <tr>\n",
       "      <th>Women</th>\n",
       "      <th>Defaulted</th>\n",
       "      <td>1860</td>\n",
       "      <td>58.02%</td>\n",
       "    </tr>\n",
       "    <tr>\n",
       "      <th rowspan=\"2\" valign=\"top\">Others</th>\n",
       "      <th>Men</th>\n",
       "      <th>Defaulted</th>\n",
       "      <td>42</td>\n",
       "      <td>47.19%</td>\n",
       "    </tr>\n",
       "    <tr>\n",
       "      <th>Women</th>\n",
       "      <th>Defaulted</th>\n",
       "      <td>47</td>\n",
       "      <td>52.81%</td>\n",
       "    </tr>\n",
       "    <tr>\n",
       "      <th rowspan=\"2\" valign=\"top\">Single</th>\n",
       "      <th>Men</th>\n",
       "      <th>Defaulted</th>\n",
       "      <td>1485</td>\n",
       "      <td>44.45%</td>\n",
       "    </tr>\n",
       "    <tr>\n",
       "      <th>Women</th>\n",
       "      <th>Defaulted</th>\n",
       "      <td>1856</td>\n",
       "      <td>55.55%</td>\n",
       "    </tr>\n",
       "  </tbody>\n",
       "</table>\n",
       "</div>"
      ],
      "text/plain": [
       "                                           default payment next month  \\\n",
       "MARRIAGE SEX   default payment next month                               \n",
       "Married  Men   Defaulted                                         1346   \n",
       "         Women Defaulted                                         1860   \n",
       "Others   Men   Defaulted                                           42   \n",
       "         Women Defaulted                                           47   \n",
       "Single   Men   Defaulted                                         1485   \n",
       "         Women Defaulted                                         1856   \n",
       "\n",
       "                                          Percentage of Total  \n",
       "MARRIAGE SEX   default payment next month                      \n",
       "Married  Men   Defaulted                               41.98%  \n",
       "         Women Defaulted                               58.02%  \n",
       "Others   Men   Defaulted                               47.19%  \n",
       "         Women Defaulted                               52.81%  \n",
       "Single   Men   Defaulted                               44.45%  \n",
       "         Women Defaulted                               55.55%  "
      ]
     },
     "execution_count": 134,
     "metadata": {},
     "output_type": "execute_result"
    }
   ],
   "source": [
    "per_value2(pd.DataFrame(df_daf['default payment next month'].groupby([df_eda['MARRIAGE'],df_eda['SEX']]).value_counts()))"
   ]
  },
  {
   "cell_type": "markdown",
   "id": "2720fede",
   "metadata": {},
   "source": [
    "Irrespective of martial status men and women are equeally likely of defaulting"
   ]
  },
  {
   "cell_type": "code",
   "execution_count": 61,
   "id": "01b41c2e",
   "metadata": {},
   "outputs": [
    {
     "data": {
      "text/html": [
       "<div>\n",
       "<style scoped>\n",
       "    .dataframe tbody tr th:only-of-type {\n",
       "        vertical-align: middle;\n",
       "    }\n",
       "\n",
       "    .dataframe tbody tr th {\n",
       "        vertical-align: top;\n",
       "    }\n",
       "\n",
       "    .dataframe thead th {\n",
       "        text-align: right;\n",
       "    }\n",
       "</style>\n",
       "<table border=\"1\" class=\"dataframe\">\n",
       "  <thead>\n",
       "    <tr style=\"text-align: right;\">\n",
       "      <th></th>\n",
       "      <th></th>\n",
       "      <th></th>\n",
       "      <th>default payment next month</th>\n",
       "      <th>Percentage of Total</th>\n",
       "    </tr>\n",
       "    <tr>\n",
       "      <th>EDUCATION</th>\n",
       "      <th>SEX</th>\n",
       "      <th>default payment next month</th>\n",
       "      <th></th>\n",
       "      <th></th>\n",
       "    </tr>\n",
       "  </thead>\n",
       "  <tbody>\n",
       "    <tr>\n",
       "      <th rowspan=\"2\" valign=\"top\">Graduate School</th>\n",
       "      <th>Men</th>\n",
       "      <th>Defaulted</th>\n",
       "      <td>906</td>\n",
       "      <td>44.5%</td>\n",
       "    </tr>\n",
       "    <tr>\n",
       "      <th>Women</th>\n",
       "      <th>Defaulted</th>\n",
       "      <td>1130</td>\n",
       "      <td>55.5%</td>\n",
       "    </tr>\n",
       "    <tr>\n",
       "      <th rowspan=\"2\" valign=\"top\">High School</th>\n",
       "      <th>Men</th>\n",
       "      <th>Defaulted</th>\n",
       "      <td>545</td>\n",
       "      <td>44.06%</td>\n",
       "    </tr>\n",
       "    <tr>\n",
       "      <th>Women</th>\n",
       "      <th>Defaulted</th>\n",
       "      <td>692</td>\n",
       "      <td>55.94%</td>\n",
       "    </tr>\n",
       "    <tr>\n",
       "      <th rowspan=\"2\" valign=\"top\">Others</th>\n",
       "      <th>Men</th>\n",
       "      <th>Defaulted</th>\n",
       "      <td>14</td>\n",
       "      <td>42.42%</td>\n",
       "    </tr>\n",
       "    <tr>\n",
       "      <th>Women</th>\n",
       "      <th>Defaulted</th>\n",
       "      <td>19</td>\n",
       "      <td>57.58%</td>\n",
       "    </tr>\n",
       "    <tr>\n",
       "      <th rowspan=\"2\" valign=\"top\">University</th>\n",
       "      <th>Men</th>\n",
       "      <th>Defaulted</th>\n",
       "      <td>1408</td>\n",
       "      <td>42.28%</td>\n",
       "    </tr>\n",
       "    <tr>\n",
       "      <th>Women</th>\n",
       "      <th>Defaulted</th>\n",
       "      <td>1922</td>\n",
       "      <td>57.72%</td>\n",
       "    </tr>\n",
       "  </tbody>\n",
       "</table>\n",
       "</div>"
      ],
      "text/plain": [
       "                                                  default payment next month  \\\n",
       "EDUCATION       SEX   default payment next month                               \n",
       "Graduate School Men   Defaulted                                          906   \n",
       "                Women Defaulted                                         1130   \n",
       "High School     Men   Defaulted                                          545   \n",
       "                Women Defaulted                                          692   \n",
       "Others          Men   Defaulted                                           14   \n",
       "                Women Defaulted                                           19   \n",
       "University      Men   Defaulted                                         1408   \n",
       "                Women Defaulted                                         1922   \n",
       "\n",
       "                                                 Percentage of Total  \n",
       "EDUCATION       SEX   default payment next month                      \n",
       "Graduate School Men   Defaulted                                44.5%  \n",
       "                Women Defaulted                                55.5%  \n",
       "High School     Men   Defaulted                               44.06%  \n",
       "                Women Defaulted                               55.94%  \n",
       "Others          Men   Defaulted                               42.42%  \n",
       "                Women Defaulted                               57.58%  \n",
       "University      Men   Defaulted                               42.28%  \n",
       "                Women Defaulted                               57.72%  "
      ]
     },
     "execution_count": 61,
     "metadata": {},
     "output_type": "execute_result"
    }
   ],
   "source": [
    "per_value2(pd.DataFrame(df_daf['default payment next month'].groupby([df_eda['EDUCATION'],df_eda['SEX']]).value_counts()))"
   ]
  },
  {
   "cell_type": "code",
   "execution_count": 136,
   "id": "c02529e2",
   "metadata": {},
   "outputs": [
    {
     "data": {
      "text/html": [
       "<div>\n",
       "<style scoped>\n",
       "    .dataframe tbody tr th:only-of-type {\n",
       "        vertical-align: middle;\n",
       "    }\n",
       "\n",
       "    .dataframe tbody tr th {\n",
       "        vertical-align: top;\n",
       "    }\n",
       "\n",
       "    .dataframe thead th {\n",
       "        text-align: right;\n",
       "    }\n",
       "</style>\n",
       "<table border=\"1\" class=\"dataframe\">\n",
       "  <thead>\n",
       "    <tr style=\"text-align: right;\">\n",
       "      <th></th>\n",
       "      <th></th>\n",
       "      <th></th>\n",
       "      <th>default payment next month</th>\n",
       "      <th>Percentage of Total</th>\n",
       "    </tr>\n",
       "    <tr>\n",
       "      <th>EDUCATION</th>\n",
       "      <th>SEX</th>\n",
       "      <th>default payment next month</th>\n",
       "      <th></th>\n",
       "      <th></th>\n",
       "    </tr>\n",
       "  </thead>\n",
       "  <tbody>\n",
       "    <tr>\n",
       "      <th rowspan=\"2\" valign=\"top\">Graduate School</th>\n",
       "      <th>Men</th>\n",
       "      <th>Defaulted</th>\n",
       "      <td>906</td>\n",
       "      <td>13.65%</td>\n",
       "    </tr>\n",
       "    <tr>\n",
       "      <th>Women</th>\n",
       "      <th>Defaulted</th>\n",
       "      <td>1130</td>\n",
       "      <td>17.03%</td>\n",
       "    </tr>\n",
       "    <tr>\n",
       "      <th rowspan=\"2\" valign=\"top\">High School</th>\n",
       "      <th>Men</th>\n",
       "      <th>Defaulted</th>\n",
       "      <td>545</td>\n",
       "      <td>8.21%</td>\n",
       "    </tr>\n",
       "    <tr>\n",
       "      <th>Women</th>\n",
       "      <th>Defaulted</th>\n",
       "      <td>692</td>\n",
       "      <td>10.43%</td>\n",
       "    </tr>\n",
       "    <tr>\n",
       "      <th rowspan=\"2\" valign=\"top\">Others</th>\n",
       "      <th>Men</th>\n",
       "      <th>Defaulted</th>\n",
       "      <td>14</td>\n",
       "      <td>0.21%</td>\n",
       "    </tr>\n",
       "    <tr>\n",
       "      <th>Women</th>\n",
       "      <th>Defaulted</th>\n",
       "      <td>19</td>\n",
       "      <td>0.29%</td>\n",
       "    </tr>\n",
       "    <tr>\n",
       "      <th rowspan=\"2\" valign=\"top\">University</th>\n",
       "      <th>Men</th>\n",
       "      <th>Defaulted</th>\n",
       "      <td>1408</td>\n",
       "      <td>21.22%</td>\n",
       "    </tr>\n",
       "    <tr>\n",
       "      <th>Women</th>\n",
       "      <th>Defaulted</th>\n",
       "      <td>1922</td>\n",
       "      <td>28.96%</td>\n",
       "    </tr>\n",
       "  </tbody>\n",
       "</table>\n",
       "</div>"
      ],
      "text/plain": [
       "                                                  default payment next month  \\\n",
       "EDUCATION       SEX   default payment next month                               \n",
       "Graduate School Men   Defaulted                                          906   \n",
       "                Women Defaulted                                         1130   \n",
       "High School     Men   Defaulted                                          545   \n",
       "                Women Defaulted                                          692   \n",
       "Others          Men   Defaulted                                           14   \n",
       "                Women Defaulted                                           19   \n",
       "University      Men   Defaulted                                         1408   \n",
       "                Women Defaulted                                         1922   \n",
       "\n",
       "                                                 Percentage of Total  \n",
       "EDUCATION       SEX   default payment next month                      \n",
       "Graduate School Men   Defaulted                               13.65%  \n",
       "                Women Defaulted                               17.03%  \n",
       "High School     Men   Defaulted                                8.21%  \n",
       "                Women Defaulted                               10.43%  \n",
       "Others          Men   Defaulted                                0.21%  \n",
       "                Women Defaulted                                0.29%  \n",
       "University      Men   Defaulted                               21.22%  \n",
       "                Women Defaulted                               28.96%  "
      ]
     },
     "execution_count": 136,
     "metadata": {},
     "output_type": "execute_result"
    }
   ],
   "source": [
    "per_value(pd.DataFrame(df_daf['default payment next month'].groupby([df_eda['EDUCATION'],df_eda['SEX']]).value_counts()))"
   ]
  },
  {
   "cell_type": "code",
   "execution_count": 70,
   "id": "ea533bea",
   "metadata": {},
   "outputs": [
    {
     "data": {
      "text/html": [
       "<div>\n",
       "<style scoped>\n",
       "    .dataframe tbody tr th:only-of-type {\n",
       "        vertical-align: middle;\n",
       "    }\n",
       "\n",
       "    .dataframe tbody tr th {\n",
       "        vertical-align: top;\n",
       "    }\n",
       "\n",
       "    .dataframe thead th {\n",
       "        text-align: right;\n",
       "    }\n",
       "</style>\n",
       "<table border=\"1\" class=\"dataframe\">\n",
       "  <thead>\n",
       "    <tr style=\"text-align: right;\">\n",
       "      <th></th>\n",
       "      <th></th>\n",
       "      <th></th>\n",
       "      <th>default payment next month</th>\n",
       "      <th>Percentage of Total</th>\n",
       "    </tr>\n",
       "    <tr>\n",
       "      <th>SEX</th>\n",
       "      <th>MARRIAGE</th>\n",
       "      <th>default payment next month</th>\n",
       "      <th></th>\n",
       "      <th></th>\n",
       "    </tr>\n",
       "  </thead>\n",
       "  <tbody>\n",
       "    <tr>\n",
       "      <th rowspan=\"3\" valign=\"top\">Men</th>\n",
       "      <th>Married</th>\n",
       "      <th>Defaulted</th>\n",
       "      <td>1346</td>\n",
       "      <td>46.85%</td>\n",
       "    </tr>\n",
       "    <tr>\n",
       "      <th>Others</th>\n",
       "      <th>Defaulted</th>\n",
       "      <td>42</td>\n",
       "      <td>1.46%</td>\n",
       "    </tr>\n",
       "    <tr>\n",
       "      <th>Single</th>\n",
       "      <th>Defaulted</th>\n",
       "      <td>1485</td>\n",
       "      <td>51.69%</td>\n",
       "    </tr>\n",
       "    <tr>\n",
       "      <th rowspan=\"3\" valign=\"top\">Women</th>\n",
       "      <th>Married</th>\n",
       "      <th>Defaulted</th>\n",
       "      <td>1860</td>\n",
       "      <td>49.43%</td>\n",
       "    </tr>\n",
       "    <tr>\n",
       "      <th>Others</th>\n",
       "      <th>Defaulted</th>\n",
       "      <td>47</td>\n",
       "      <td>1.25%</td>\n",
       "    </tr>\n",
       "    <tr>\n",
       "      <th>Single</th>\n",
       "      <th>Defaulted</th>\n",
       "      <td>1856</td>\n",
       "      <td>49.32%</td>\n",
       "    </tr>\n",
       "  </tbody>\n",
       "</table>\n",
       "</div>"
      ],
      "text/plain": [
       "                                           default payment next month  \\\n",
       "SEX   MARRIAGE default payment next month                               \n",
       "Men   Married  Defaulted                                         1346   \n",
       "      Others   Defaulted                                           42   \n",
       "      Single   Defaulted                                         1485   \n",
       "Women Married  Defaulted                                         1860   \n",
       "      Others   Defaulted                                           47   \n",
       "      Single   Defaulted                                         1856   \n",
       "\n",
       "                                          Percentage of Total  \n",
       "SEX   MARRIAGE default payment next month                      \n",
       "Men   Married  Defaulted                               46.85%  \n",
       "      Others   Defaulted                                1.46%  \n",
       "      Single   Defaulted                               51.69%  \n",
       "Women Married  Defaulted                               49.43%  \n",
       "      Others   Defaulted                                1.25%  \n",
       "      Single   Defaulted                               49.32%  "
      ]
     },
     "execution_count": 70,
     "metadata": {},
     "output_type": "execute_result"
    }
   ],
   "source": [
    "c=pd.DataFrame(df_daf['default payment next month'].groupby([df_eda['SEX'],df_eda['MARRIAGE']]).value_counts())\n",
    "per_valuei(c,3)"
   ]
  },
  {
   "cell_type": "code",
   "execution_count": 137,
   "id": "6dfef949",
   "metadata": {},
   "outputs": [
    {
     "data": {
      "text/html": [
       "<div>\n",
       "<style scoped>\n",
       "    .dataframe tbody tr th:only-of-type {\n",
       "        vertical-align: middle;\n",
       "    }\n",
       "\n",
       "    .dataframe tbody tr th {\n",
       "        vertical-align: top;\n",
       "    }\n",
       "\n",
       "    .dataframe thead th {\n",
       "        text-align: right;\n",
       "    }\n",
       "</style>\n",
       "<table border=\"1\" class=\"dataframe\">\n",
       "  <thead>\n",
       "    <tr style=\"text-align: right;\">\n",
       "      <th></th>\n",
       "      <th></th>\n",
       "      <th></th>\n",
       "      <th>default payment next month</th>\n",
       "      <th>Percentage of Total</th>\n",
       "    </tr>\n",
       "    <tr>\n",
       "      <th>SEX</th>\n",
       "      <th>MARRIAGE</th>\n",
       "      <th>default payment next month</th>\n",
       "      <th></th>\n",
       "      <th></th>\n",
       "    </tr>\n",
       "  </thead>\n",
       "  <tbody>\n",
       "    <tr>\n",
       "      <th rowspan=\"3\" valign=\"top\">Men</th>\n",
       "      <th>Married</th>\n",
       "      <th>Defaulted</th>\n",
       "      <td>1346</td>\n",
       "      <td>20.28%</td>\n",
       "    </tr>\n",
       "    <tr>\n",
       "      <th>Others</th>\n",
       "      <th>Defaulted</th>\n",
       "      <td>42</td>\n",
       "      <td>0.63%</td>\n",
       "    </tr>\n",
       "    <tr>\n",
       "      <th>Single</th>\n",
       "      <th>Defaulted</th>\n",
       "      <td>1485</td>\n",
       "      <td>22.38%</td>\n",
       "    </tr>\n",
       "    <tr>\n",
       "      <th rowspan=\"3\" valign=\"top\">Women</th>\n",
       "      <th>Married</th>\n",
       "      <th>Defaulted</th>\n",
       "      <td>1860</td>\n",
       "      <td>28.03%</td>\n",
       "    </tr>\n",
       "    <tr>\n",
       "      <th>Others</th>\n",
       "      <th>Defaulted</th>\n",
       "      <td>47</td>\n",
       "      <td>0.71%</td>\n",
       "    </tr>\n",
       "    <tr>\n",
       "      <th>Single</th>\n",
       "      <th>Defaulted</th>\n",
       "      <td>1856</td>\n",
       "      <td>27.97%</td>\n",
       "    </tr>\n",
       "  </tbody>\n",
       "</table>\n",
       "</div>"
      ],
      "text/plain": [
       "                                           default payment next month  \\\n",
       "SEX   MARRIAGE default payment next month                               \n",
       "Men   Married  Defaulted                                         1346   \n",
       "      Others   Defaulted                                           42   \n",
       "      Single   Defaulted                                         1485   \n",
       "Women Married  Defaulted                                         1860   \n",
       "      Others   Defaulted                                           47   \n",
       "      Single   Defaulted                                         1856   \n",
       "\n",
       "                                          Percentage of Total  \n",
       "SEX   MARRIAGE default payment next month                      \n",
       "Men   Married  Defaulted                               20.28%  \n",
       "      Others   Defaulted                                0.63%  \n",
       "      Single   Defaulted                               22.38%  \n",
       "Women Married  Defaulted                               28.03%  \n",
       "      Others   Defaulted                                0.71%  \n",
       "      Single   Defaulted                               27.97%  "
      ]
     },
     "execution_count": 137,
     "metadata": {},
     "output_type": "execute_result"
    }
   ],
   "source": [
    "per_value(pd.DataFrame(df_daf['default payment next month'].groupby([df_eda['SEX'],df_eda['MARRIAGE']]).value_counts()))"
   ]
  },
  {
   "cell_type": "markdown",
   "id": "68c52ccd",
   "metadata": {},
   "source": [
    "**Compare the entries which are not defaulted**"
   ]
  },
  {
   "cell_type": "code",
   "execution_count": 142,
   "id": "26038091",
   "metadata": {},
   "outputs": [],
   "source": [
    "subset=df_eda[\"default payment next month\"]==\"Not defaulted\"\n",
    "df_danf=df_eda[subset]"
   ]
  },
  {
   "cell_type": "code",
   "execution_count": 144,
   "id": "997add68",
   "metadata": {},
   "outputs": [
    {
     "data": {
      "text/html": [
       "<div>\n",
       "<style scoped>\n",
       "    .dataframe tbody tr th:only-of-type {\n",
       "        vertical-align: middle;\n",
       "    }\n",
       "\n",
       "    .dataframe tbody tr th {\n",
       "        vertical-align: top;\n",
       "    }\n",
       "\n",
       "    .dataframe thead th {\n",
       "        text-align: right;\n",
       "    }\n",
       "</style>\n",
       "<table border=\"1\" class=\"dataframe\">\n",
       "  <thead>\n",
       "    <tr style=\"text-align: right;\">\n",
       "      <th></th>\n",
       "      <th></th>\n",
       "      <th>default payment next month</th>\n",
       "      <th>Percentage of Total</th>\n",
       "    </tr>\n",
       "    <tr>\n",
       "      <th>SEX</th>\n",
       "      <th>default payment next month</th>\n",
       "      <th></th>\n",
       "      <th></th>\n",
       "    </tr>\n",
       "  </thead>\n",
       "  <tbody>\n",
       "    <tr>\n",
       "      <th>Men</th>\n",
       "      <th>Not defaulted</th>\n",
       "      <td>9015</td>\n",
       "      <td>38.59%</td>\n",
       "    </tr>\n",
       "    <tr>\n",
       "      <th>Women</th>\n",
       "      <th>Not defaulted</th>\n",
       "      <td>14349</td>\n",
       "      <td>61.41%</td>\n",
       "    </tr>\n",
       "  </tbody>\n",
       "</table>\n",
       "</div>"
      ],
      "text/plain": [
       "                                  default payment next month  \\\n",
       "SEX   default payment next month                               \n",
       "Men   Not defaulted                                     9015   \n",
       "Women Not defaulted                                    14349   \n",
       "\n",
       "                                 Percentage of Total  \n",
       "SEX   default payment next month                      \n",
       "Men   Not defaulted                           38.59%  \n",
       "Women Not defaulted                           61.41%  "
      ]
     },
     "execution_count": 144,
     "metadata": {},
     "output_type": "execute_result"
    }
   ],
   "source": [
    "per_value(pd.DataFrame(df_danf['default payment next month'].groupby(df_danf['SEX']).value_counts()))"
   ]
  },
  {
   "cell_type": "code",
   "execution_count": 145,
   "id": "b33703b9",
   "metadata": {},
   "outputs": [
    {
     "data": {
      "text/html": [
       "<div>\n",
       "<style scoped>\n",
       "    .dataframe tbody tr th:only-of-type {\n",
       "        vertical-align: middle;\n",
       "    }\n",
       "\n",
       "    .dataframe tbody tr th {\n",
       "        vertical-align: top;\n",
       "    }\n",
       "\n",
       "    .dataframe thead th {\n",
       "        text-align: right;\n",
       "    }\n",
       "</style>\n",
       "<table border=\"1\" class=\"dataframe\">\n",
       "  <thead>\n",
       "    <tr style=\"text-align: right;\">\n",
       "      <th></th>\n",
       "      <th></th>\n",
       "      <th>default payment next month</th>\n",
       "      <th>Percentage of Total</th>\n",
       "    </tr>\n",
       "    <tr>\n",
       "      <th>EDUCATION</th>\n",
       "      <th>default payment next month</th>\n",
       "      <th></th>\n",
       "      <th></th>\n",
       "    </tr>\n",
       "  </thead>\n",
       "  <tbody>\n",
       "    <tr>\n",
       "      <th>Graduate School</th>\n",
       "      <th>Not defaulted</th>\n",
       "      <td>8549</td>\n",
       "      <td>36.59%</td>\n",
       "    </tr>\n",
       "    <tr>\n",
       "      <th>High School</th>\n",
       "      <th>Not defaulted</th>\n",
       "      <td>3680</td>\n",
       "      <td>15.75%</td>\n",
       "    </tr>\n",
       "    <tr>\n",
       "      <th>Others</th>\n",
       "      <th>Not defaulted</th>\n",
       "      <td>435</td>\n",
       "      <td>1.86%</td>\n",
       "    </tr>\n",
       "    <tr>\n",
       "      <th>University</th>\n",
       "      <th>Not defaulted</th>\n",
       "      <td>10700</td>\n",
       "      <td>45.8%</td>\n",
       "    </tr>\n",
       "  </tbody>\n",
       "</table>\n",
       "</div>"
      ],
      "text/plain": [
       "                                            default payment next month  \\\n",
       "EDUCATION       default payment next month                               \n",
       "Graduate School Not defaulted                                     8549   \n",
       "High School     Not defaulted                                     3680   \n",
       "Others          Not defaulted                                      435   \n",
       "University      Not defaulted                                    10700   \n",
       "\n",
       "                                           Percentage of Total  \n",
       "EDUCATION       default payment next month                      \n",
       "Graduate School Not defaulted                           36.59%  \n",
       "High School     Not defaulted                           15.75%  \n",
       "Others          Not defaulted                            1.86%  \n",
       "University      Not defaulted                            45.8%  "
      ]
     },
     "execution_count": 145,
     "metadata": {},
     "output_type": "execute_result"
    }
   ],
   "source": [
    "per_value(pd.DataFrame(df_danf['default payment next month'].groupby(df_danf['EDUCATION']).value_counts()))"
   ]
  },
  {
   "cell_type": "code",
   "execution_count": 53,
   "id": "5eae9e20",
   "metadata": {},
   "outputs": [
    {
     "data": {
      "text/html": [
       "<div>\n",
       "<style scoped>\n",
       "    .dataframe tbody tr th:only-of-type {\n",
       "        vertical-align: middle;\n",
       "    }\n",
       "\n",
       "    .dataframe tbody tr th {\n",
       "        vertical-align: top;\n",
       "    }\n",
       "\n",
       "    .dataframe thead th {\n",
       "        text-align: right;\n",
       "    }\n",
       "</style>\n",
       "<table border=\"1\" class=\"dataframe\">\n",
       "  <thead>\n",
       "    <tr style=\"text-align: right;\">\n",
       "      <th></th>\n",
       "      <th></th>\n",
       "      <th>default payment next month</th>\n",
       "      <th>Percentage of Total</th>\n",
       "    </tr>\n",
       "    <tr>\n",
       "      <th>MARRIAGE</th>\n",
       "      <th>default payment next month</th>\n",
       "      <th></th>\n",
       "      <th></th>\n",
       "    </tr>\n",
       "  </thead>\n",
       "  <tbody>\n",
       "    <tr>\n",
       "      <th>Married</th>\n",
       "      <th>Not defaulted</th>\n",
       "      <td>10453</td>\n",
       "      <td>44.74%</td>\n",
       "    </tr>\n",
       "    <tr>\n",
       "      <th>Others</th>\n",
       "      <th>Not defaulted</th>\n",
       "      <td>288</td>\n",
       "      <td>1.23%</td>\n",
       "    </tr>\n",
       "    <tr>\n",
       "      <th>Single</th>\n",
       "      <th>Not defaulted</th>\n",
       "      <td>12623</td>\n",
       "      <td>54.03%</td>\n",
       "    </tr>\n",
       "  </tbody>\n",
       "</table>\n",
       "</div>"
      ],
      "text/plain": [
       "                                     default payment next month  \\\n",
       "MARRIAGE default payment next month                               \n",
       "Married  Not defaulted                                    10453   \n",
       "Others   Not defaulted                                      288   \n",
       "Single   Not defaulted                                    12623   \n",
       "\n",
       "                                    Percentage of Total  \n",
       "MARRIAGE default payment next month                      \n",
       "Married  Not defaulted                           44.74%  \n",
       "Others   Not defaulted                            1.23%  \n",
       "Single   Not defaulted                           54.03%  "
      ]
     },
     "execution_count": 53,
     "metadata": {},
     "output_type": "execute_result"
    }
   ],
   "source": [
    "per_value(pd.DataFrame(df_danf['default payment next month'].groupby(df_danf['MARRIAGE']).value_counts()))"
   ]
  },
  {
   "cell_type": "code",
   "execution_count": 71,
   "id": "44f365a4",
   "metadata": {},
   "outputs": [
    {
     "data": {
      "text/html": [
       "<div>\n",
       "<style scoped>\n",
       "    .dataframe tbody tr th:only-of-type {\n",
       "        vertical-align: middle;\n",
       "    }\n",
       "\n",
       "    .dataframe tbody tr th {\n",
       "        vertical-align: top;\n",
       "    }\n",
       "\n",
       "    .dataframe thead th {\n",
       "        text-align: right;\n",
       "    }\n",
       "</style>\n",
       "<table border=\"1\" class=\"dataframe\">\n",
       "  <thead>\n",
       "    <tr style=\"text-align: right;\">\n",
       "      <th></th>\n",
       "      <th></th>\n",
       "      <th></th>\n",
       "      <th>default payment next month</th>\n",
       "      <th>Percentage of Total</th>\n",
       "    </tr>\n",
       "    <tr>\n",
       "      <th>MARRIAGE</th>\n",
       "      <th>SEX</th>\n",
       "      <th>default payment next month</th>\n",
       "      <th></th>\n",
       "      <th></th>\n",
       "    </tr>\n",
       "  </thead>\n",
       "  <tbody>\n",
       "    <tr>\n",
       "      <th rowspan=\"2\" valign=\"top\">Married</th>\n",
       "      <th>Men</th>\n",
       "      <th>Not defaulted</th>\n",
       "      <td>3844</td>\n",
       "      <td>36.77%</td>\n",
       "    </tr>\n",
       "    <tr>\n",
       "      <th>Women</th>\n",
       "      <th>Not defaulted</th>\n",
       "      <td>6609</td>\n",
       "      <td>63.23%</td>\n",
       "    </tr>\n",
       "    <tr>\n",
       "      <th rowspan=\"2\" valign=\"top\">Others</th>\n",
       "      <th>Men</th>\n",
       "      <th>Not defaulted</th>\n",
       "      <td>103</td>\n",
       "      <td>35.76%</td>\n",
       "    </tr>\n",
       "    <tr>\n",
       "      <th>Women</th>\n",
       "      <th>Not defaulted</th>\n",
       "      <td>185</td>\n",
       "      <td>64.24%</td>\n",
       "    </tr>\n",
       "    <tr>\n",
       "      <th rowspan=\"2\" valign=\"top\">Single</th>\n",
       "      <th>Men</th>\n",
       "      <th>Not defaulted</th>\n",
       "      <td>5068</td>\n",
       "      <td>40.15%</td>\n",
       "    </tr>\n",
       "    <tr>\n",
       "      <th>Women</th>\n",
       "      <th>Not defaulted</th>\n",
       "      <td>7555</td>\n",
       "      <td>59.85%</td>\n",
       "    </tr>\n",
       "  </tbody>\n",
       "</table>\n",
       "</div>"
      ],
      "text/plain": [
       "                                           default payment next month  \\\n",
       "MARRIAGE SEX   default payment next month                               \n",
       "Married  Men   Not defaulted                                     3844   \n",
       "         Women Not defaulted                                     6609   \n",
       "Others   Men   Not defaulted                                      103   \n",
       "         Women Not defaulted                                      185   \n",
       "Single   Men   Not defaulted                                     5068   \n",
       "         Women Not defaulted                                     7555   \n",
       "\n",
       "                                          Percentage of Total  \n",
       "MARRIAGE SEX   default payment next month                      \n",
       "Married  Men   Not defaulted                           36.77%  \n",
       "         Women Not defaulted                           63.23%  \n",
       "Others   Men   Not defaulted                           35.76%  \n",
       "         Women Not defaulted                           64.24%  \n",
       "Single   Men   Not defaulted                           40.15%  \n",
       "         Women Not defaulted                           59.85%  "
      ]
     },
     "execution_count": 71,
     "metadata": {},
     "output_type": "execute_result"
    }
   ],
   "source": [
    "per_value2(pd.DataFrame(df_danf['default payment next month'].groupby([df_danf['MARRIAGE'],df_danf['SEX']]).value_counts()))"
   ]
  },
  {
   "cell_type": "code",
   "execution_count": 72,
   "id": "58b359dc",
   "metadata": {},
   "outputs": [
    {
     "data": {
      "text/html": [
       "<div>\n",
       "<style scoped>\n",
       "    .dataframe tbody tr th:only-of-type {\n",
       "        vertical-align: middle;\n",
       "    }\n",
       "\n",
       "    .dataframe tbody tr th {\n",
       "        vertical-align: top;\n",
       "    }\n",
       "\n",
       "    .dataframe thead th {\n",
       "        text-align: right;\n",
       "    }\n",
       "</style>\n",
       "<table border=\"1\" class=\"dataframe\">\n",
       "  <thead>\n",
       "    <tr style=\"text-align: right;\">\n",
       "      <th></th>\n",
       "      <th></th>\n",
       "      <th></th>\n",
       "      <th>default payment next month</th>\n",
       "      <th>Percentage of Total</th>\n",
       "    </tr>\n",
       "    <tr>\n",
       "      <th>EDUCATION</th>\n",
       "      <th>SEX</th>\n",
       "      <th>default payment next month</th>\n",
       "      <th></th>\n",
       "      <th></th>\n",
       "    </tr>\n",
       "  </thead>\n",
       "  <tbody>\n",
       "    <tr>\n",
       "      <th rowspan=\"2\" valign=\"top\">Graduate School</th>\n",
       "      <th>Men</th>\n",
       "      <th>Not defaulted</th>\n",
       "      <td>3448</td>\n",
       "      <td>40.33%</td>\n",
       "    </tr>\n",
       "    <tr>\n",
       "      <th>Women</th>\n",
       "      <th>Not defaulted</th>\n",
       "      <td>5101</td>\n",
       "      <td>59.67%</td>\n",
       "    </tr>\n",
       "    <tr>\n",
       "      <th rowspan=\"2\" valign=\"top\">High School</th>\n",
       "      <th>Men</th>\n",
       "      <th>Not defaulted</th>\n",
       "      <td>1445</td>\n",
       "      <td>39.27%</td>\n",
       "    </tr>\n",
       "    <tr>\n",
       "      <th>Women</th>\n",
       "      <th>Not defaulted</th>\n",
       "      <td>2235</td>\n",
       "      <td>60.73%</td>\n",
       "    </tr>\n",
       "    <tr>\n",
       "      <th rowspan=\"2\" valign=\"top\">Others</th>\n",
       "      <th>Men</th>\n",
       "      <th>Not defaulted</th>\n",
       "      <td>156</td>\n",
       "      <td>35.86%</td>\n",
       "    </tr>\n",
       "    <tr>\n",
       "      <th>Women</th>\n",
       "      <th>Not defaulted</th>\n",
       "      <td>279</td>\n",
       "      <td>64.14%</td>\n",
       "    </tr>\n",
       "    <tr>\n",
       "      <th rowspan=\"2\" valign=\"top\">University</th>\n",
       "      <th>Men</th>\n",
       "      <th>Not defaulted</th>\n",
       "      <td>3966</td>\n",
       "      <td>37.07%</td>\n",
       "    </tr>\n",
       "    <tr>\n",
       "      <th>Women</th>\n",
       "      <th>Not defaulted</th>\n",
       "      <td>6734</td>\n",
       "      <td>62.93%</td>\n",
       "    </tr>\n",
       "  </tbody>\n",
       "</table>\n",
       "</div>"
      ],
      "text/plain": [
       "                                                  default payment next month  \\\n",
       "EDUCATION       SEX   default payment next month                               \n",
       "Graduate School Men   Not defaulted                                     3448   \n",
       "                Women Not defaulted                                     5101   \n",
       "High School     Men   Not defaulted                                     1445   \n",
       "                Women Not defaulted                                     2235   \n",
       "Others          Men   Not defaulted                                      156   \n",
       "                Women Not defaulted                                      279   \n",
       "University      Men   Not defaulted                                     3966   \n",
       "                Women Not defaulted                                     6734   \n",
       "\n",
       "                                                 Percentage of Total  \n",
       "EDUCATION       SEX   default payment next month                      \n",
       "Graduate School Men   Not defaulted                           40.33%  \n",
       "                Women Not defaulted                           59.67%  \n",
       "High School     Men   Not defaulted                           39.27%  \n",
       "                Women Not defaulted                           60.73%  \n",
       "Others          Men   Not defaulted                           35.86%  \n",
       "                Women Not defaulted                           64.14%  \n",
       "University      Men   Not defaulted                           37.07%  \n",
       "                Women Not defaulted                           62.93%  "
      ]
     },
     "execution_count": 72,
     "metadata": {},
     "output_type": "execute_result"
    }
   ],
   "source": [
    "per_value2(pd.DataFrame(df_danf['default payment next month'].groupby([df_danf['EDUCATION'],df_danf['SEX']]).value_counts()))"
   ]
  },
  {
   "cell_type": "code",
   "execution_count": 73,
   "id": "0872402f",
   "metadata": {},
   "outputs": [
    {
     "data": {
      "text/html": [
       "<div>\n",
       "<style scoped>\n",
       "    .dataframe tbody tr th:only-of-type {\n",
       "        vertical-align: middle;\n",
       "    }\n",
       "\n",
       "    .dataframe tbody tr th {\n",
       "        vertical-align: top;\n",
       "    }\n",
       "\n",
       "    .dataframe thead th {\n",
       "        text-align: right;\n",
       "    }\n",
       "</style>\n",
       "<table border=\"1\" class=\"dataframe\">\n",
       "  <thead>\n",
       "    <tr style=\"text-align: right;\">\n",
       "      <th></th>\n",
       "      <th></th>\n",
       "      <th></th>\n",
       "      <th>default payment next month</th>\n",
       "      <th>Percentage of Total</th>\n",
       "    </tr>\n",
       "    <tr>\n",
       "      <th>SEX</th>\n",
       "      <th>MARRIAGE</th>\n",
       "      <th>default payment next month</th>\n",
       "      <th></th>\n",
       "      <th></th>\n",
       "    </tr>\n",
       "  </thead>\n",
       "  <tbody>\n",
       "    <tr>\n",
       "      <th rowspan=\"3\" valign=\"top\">Men</th>\n",
       "      <th>Married</th>\n",
       "      <th>Not defaulted</th>\n",
       "      <td>3844</td>\n",
       "      <td>42.64%</td>\n",
       "    </tr>\n",
       "    <tr>\n",
       "      <th>Others</th>\n",
       "      <th>Not defaulted</th>\n",
       "      <td>103</td>\n",
       "      <td>1.14%</td>\n",
       "    </tr>\n",
       "    <tr>\n",
       "      <th>Single</th>\n",
       "      <th>Not defaulted</th>\n",
       "      <td>5068</td>\n",
       "      <td>56.22%</td>\n",
       "    </tr>\n",
       "    <tr>\n",
       "      <th rowspan=\"3\" valign=\"top\">Women</th>\n",
       "      <th>Married</th>\n",
       "      <th>Not defaulted</th>\n",
       "      <td>6609</td>\n",
       "      <td>46.06%</td>\n",
       "    </tr>\n",
       "    <tr>\n",
       "      <th>Others</th>\n",
       "      <th>Not defaulted</th>\n",
       "      <td>185</td>\n",
       "      <td>1.29%</td>\n",
       "    </tr>\n",
       "    <tr>\n",
       "      <th>Single</th>\n",
       "      <th>Not defaulted</th>\n",
       "      <td>7555</td>\n",
       "      <td>52.65%</td>\n",
       "    </tr>\n",
       "  </tbody>\n",
       "</table>\n",
       "</div>"
      ],
      "text/plain": [
       "                                           default payment next month  \\\n",
       "SEX   MARRIAGE default payment next month                               \n",
       "Men   Married  Not defaulted                                     3844   \n",
       "      Others   Not defaulted                                      103   \n",
       "      Single   Not defaulted                                     5068   \n",
       "Women Married  Not defaulted                                     6609   \n",
       "      Others   Not defaulted                                      185   \n",
       "      Single   Not defaulted                                     7555   \n",
       "\n",
       "                                          Percentage of Total  \n",
       "SEX   MARRIAGE default payment next month                      \n",
       "Men   Married  Not defaulted                           42.64%  \n",
       "      Others   Not defaulted                            1.14%  \n",
       "      Single   Not defaulted                           56.22%  \n",
       "Women Married  Not defaulted                           46.06%  \n",
       "      Others   Not defaulted                            1.29%  \n",
       "      Single   Not defaulted                           52.65%  "
      ]
     },
     "execution_count": 73,
     "metadata": {},
     "output_type": "execute_result"
    }
   ],
   "source": [
    "c=pd.DataFrame(df_danf['default payment next month'].groupby([df_danf['SEX'],df_danf['MARRIAGE']]).value_counts())\n",
    "per_valuei(c,3)"
   ]
  },
  {
   "cell_type": "code",
   "execution_count": 80,
   "id": "b72f4be4",
   "metadata": {},
   "outputs": [],
   "source": [
    "subset_1=df_eda[\"SEX\"]==\"Men\"\n",
    "subset_2=df_eda[\"default payment next month\"]==\"Defaulted\"\n",
    "\n",
    "df_danf=df_eda[subset_1]\n",
    "df_danf=df_danf[subset_2]"
   ]
  },
  {
   "cell_type": "code",
   "execution_count": 81,
   "id": "47957dac",
   "metadata": {},
   "outputs": [
    {
     "data": {
      "text/html": [
       "<div>\n",
       "<style scoped>\n",
       "    .dataframe tbody tr th:only-of-type {\n",
       "        vertical-align: middle;\n",
       "    }\n",
       "\n",
       "    .dataframe tbody tr th {\n",
       "        vertical-align: top;\n",
       "    }\n",
       "\n",
       "    .dataframe thead th {\n",
       "        text-align: right;\n",
       "    }\n",
       "</style>\n",
       "<table border=\"1\" class=\"dataframe\">\n",
       "  <thead>\n",
       "    <tr style=\"text-align: right;\">\n",
       "      <th></th>\n",
       "      <th></th>\n",
       "      <th>default payment next month</th>\n",
       "      <th>Percentage of Total</th>\n",
       "    </tr>\n",
       "    <tr>\n",
       "      <th>MARRIAGE</th>\n",
       "      <th>default payment next month</th>\n",
       "      <th></th>\n",
       "      <th></th>\n",
       "    </tr>\n",
       "  </thead>\n",
       "  <tbody>\n",
       "    <tr>\n",
       "      <th>Married</th>\n",
       "      <th>Defaulted</th>\n",
       "      <td>1346</td>\n",
       "      <td>46.85%</td>\n",
       "    </tr>\n",
       "    <tr>\n",
       "      <th>Others</th>\n",
       "      <th>Defaulted</th>\n",
       "      <td>42</td>\n",
       "      <td>1.46%</td>\n",
       "    </tr>\n",
       "    <tr>\n",
       "      <th>Single</th>\n",
       "      <th>Defaulted</th>\n",
       "      <td>1485</td>\n",
       "      <td>51.69%</td>\n",
       "    </tr>\n",
       "  </tbody>\n",
       "</table>\n",
       "</div>"
      ],
      "text/plain": [
       "                                     default payment next month  \\\n",
       "MARRIAGE default payment next month                               \n",
       "Married  Defaulted                                         1346   \n",
       "Others   Defaulted                                           42   \n",
       "Single   Defaulted                                         1485   \n",
       "\n",
       "                                    Percentage of Total  \n",
       "MARRIAGE default payment next month                      \n",
       "Married  Defaulted                               46.85%  \n",
       "Others   Defaulted                                1.46%  \n",
       "Single   Defaulted                               51.69%  "
      ]
     },
     "execution_count": 81,
     "metadata": {},
     "output_type": "execute_result"
    }
   ],
   "source": [
    "c=pd.DataFrame(df_danf['default payment next month'].groupby([df_danf['MARRIAGE']]).value_counts())\n",
    "per_value(c)"
   ]
  },
  {
   "cell_type": "code",
   "execution_count": 82,
   "id": "51068cbb",
   "metadata": {},
   "outputs": [
    {
     "data": {
      "text/html": [
       "<div>\n",
       "<style scoped>\n",
       "    .dataframe tbody tr th:only-of-type {\n",
       "        vertical-align: middle;\n",
       "    }\n",
       "\n",
       "    .dataframe tbody tr th {\n",
       "        vertical-align: top;\n",
       "    }\n",
       "\n",
       "    .dataframe thead th {\n",
       "        text-align: right;\n",
       "    }\n",
       "</style>\n",
       "<table border=\"1\" class=\"dataframe\">\n",
       "  <thead>\n",
       "    <tr style=\"text-align: right;\">\n",
       "      <th></th>\n",
       "      <th></th>\n",
       "      <th>default payment next month</th>\n",
       "      <th>Percentage of Total</th>\n",
       "    </tr>\n",
       "    <tr>\n",
       "      <th>EDUCATION</th>\n",
       "      <th>default payment next month</th>\n",
       "      <th></th>\n",
       "      <th></th>\n",
       "    </tr>\n",
       "  </thead>\n",
       "  <tbody>\n",
       "    <tr>\n",
       "      <th>Graduate School</th>\n",
       "      <th>Defaulted</th>\n",
       "      <td>906</td>\n",
       "      <td>31.53%</td>\n",
       "    </tr>\n",
       "    <tr>\n",
       "      <th>High School</th>\n",
       "      <th>Defaulted</th>\n",
       "      <td>545</td>\n",
       "      <td>18.97%</td>\n",
       "    </tr>\n",
       "    <tr>\n",
       "      <th>Others</th>\n",
       "      <th>Defaulted</th>\n",
       "      <td>14</td>\n",
       "      <td>0.49%</td>\n",
       "    </tr>\n",
       "    <tr>\n",
       "      <th>University</th>\n",
       "      <th>Defaulted</th>\n",
       "      <td>1408</td>\n",
       "      <td>49.01%</td>\n",
       "    </tr>\n",
       "  </tbody>\n",
       "</table>\n",
       "</div>"
      ],
      "text/plain": [
       "                                            default payment next month  \\\n",
       "EDUCATION       default payment next month                               \n",
       "Graduate School Defaulted                                          906   \n",
       "High School     Defaulted                                          545   \n",
       "Others          Defaulted                                           14   \n",
       "University      Defaulted                                         1408   \n",
       "\n",
       "                                           Percentage of Total  \n",
       "EDUCATION       default payment next month                      \n",
       "Graduate School Defaulted                               31.53%  \n",
       "High School     Defaulted                               18.97%  \n",
       "Others          Defaulted                                0.49%  \n",
       "University      Defaulted                               49.01%  "
      ]
     },
     "execution_count": 82,
     "metadata": {},
     "output_type": "execute_result"
    }
   ],
   "source": [
    "c=pd.DataFrame(df_danf['default payment next month'].groupby([df_danf['EDUCATION']]).value_counts())\n",
    "per_value(c)"
   ]
  },
  {
   "cell_type": "code",
   "execution_count": 54,
   "id": "b497c2e3",
   "metadata": {},
   "outputs": [
    {
     "data": {
      "text/html": [
       "<div>\n",
       "<style scoped>\n",
       "    .dataframe tbody tr th:only-of-type {\n",
       "        vertical-align: middle;\n",
       "    }\n",
       "\n",
       "    .dataframe tbody tr th {\n",
       "        vertical-align: top;\n",
       "    }\n",
       "\n",
       "    .dataframe thead th {\n",
       "        text-align: right;\n",
       "    }\n",
       "</style>\n",
       "<table border=\"1\" class=\"dataframe\">\n",
       "  <thead>\n",
       "    <tr style=\"text-align: right;\">\n",
       "      <th></th>\n",
       "      <th>April</th>\n",
       "      <th>May</th>\n",
       "      <th>June</th>\n",
       "      <th>July</th>\n",
       "      <th>August</th>\n",
       "      <th>September</th>\n",
       "    </tr>\n",
       "  </thead>\n",
       "  <tbody>\n",
       "    <tr>\n",
       "      <th>0</th>\n",
       "      <td>1888</td>\n",
       "      <td>2503.0</td>\n",
       "      <td>2751</td>\n",
       "      <td>3016</td>\n",
       "      <td>3195.0</td>\n",
       "      <td>3069.0</td>\n",
       "    </tr>\n",
       "    <tr>\n",
       "      <th>2</th>\n",
       "      <td>1844</td>\n",
       "      <td>2184.0</td>\n",
       "      <td>1969</td>\n",
       "      <td>1653</td>\n",
       "      <td>1423.0</td>\n",
       "      <td>1401.0</td>\n",
       "    </tr>\n",
       "    <tr>\n",
       "      <th>1</th>\n",
       "      <td>1252</td>\n",
       "      <td>5.0</td>\n",
       "      <td>1</td>\n",
       "      <td>1</td>\n",
       "      <td>NaN</td>\n",
       "      <td>NaN</td>\n",
       "    </tr>\n",
       "    <tr>\n",
       "      <th>-1</th>\n",
       "      <td>954</td>\n",
       "      <td>966.0</td>\n",
       "      <td>926</td>\n",
       "      <td>904</td>\n",
       "      <td>897.0</td>\n",
       "      <td>975.0</td>\n",
       "    </tr>\n",
       "    <tr>\n",
       "      <th>-2</th>\n",
       "      <td>365</td>\n",
       "      <td>691.0</td>\n",
       "      <td>757</td>\n",
       "      <td>837</td>\n",
       "      <td>895.0</td>\n",
       "      <td>981.0</td>\n",
       "    </tr>\n",
       "    <tr>\n",
       "      <th>3</th>\n",
       "      <td>244</td>\n",
       "      <td>201.0</td>\n",
       "      <td>138</td>\n",
       "      <td>110</td>\n",
       "      <td>113.0</td>\n",
       "      <td>118.0</td>\n",
       "    </tr>\n",
       "    <tr>\n",
       "      <th>4</th>\n",
       "      <td>52</td>\n",
       "      <td>50.0</td>\n",
       "      <td>44</td>\n",
       "      <td>46</td>\n",
       "      <td>51.0</td>\n",
       "      <td>31.0</td>\n",
       "    </tr>\n",
       "    <tr>\n",
       "      <th>5</th>\n",
       "      <td>13</td>\n",
       "      <td>15.0</td>\n",
       "      <td>12</td>\n",
       "      <td>18</td>\n",
       "      <td>10.0</td>\n",
       "      <td>7.0</td>\n",
       "    </tr>\n",
       "    <tr>\n",
       "      <th>8</th>\n",
       "      <td>11</td>\n",
       "      <td>NaN</td>\n",
       "      <td>2</td>\n",
       "      <td>1</td>\n",
       "      <td>1.0</td>\n",
       "      <td>2.0</td>\n",
       "    </tr>\n",
       "    <tr>\n",
       "      <th>7</th>\n",
       "      <td>7</td>\n",
       "      <td>12.0</td>\n",
       "      <td>22</td>\n",
       "      <td>48</td>\n",
       "      <td>48.0</td>\n",
       "      <td>38.0</td>\n",
       "    </tr>\n",
       "    <tr>\n",
       "      <th>6</th>\n",
       "      <td>6</td>\n",
       "      <td>9.0</td>\n",
       "      <td>14</td>\n",
       "      <td>2</td>\n",
       "      <td>3.0</td>\n",
       "      <td>14.0</td>\n",
       "    </tr>\n",
       "  </tbody>\n",
       "</table>\n",
       "</div>"
      ],
      "text/plain": [
       "    April     May  June  July  August  September\n",
       " 0   1888  2503.0  2751  3016  3195.0     3069.0\n",
       " 2   1844  2184.0  1969  1653  1423.0     1401.0\n",
       " 1   1252     5.0     1     1     NaN        NaN\n",
       "-1    954   966.0   926   904   897.0      975.0\n",
       "-2    365   691.0   757   837   895.0      981.0\n",
       " 3    244   201.0   138   110   113.0      118.0\n",
       " 4     52    50.0    44    46    51.0       31.0\n",
       " 5     13    15.0    12    18    10.0        7.0\n",
       " 8     11     NaN     2     1     1.0        2.0\n",
       " 7      7    12.0    22    48    48.0       38.0\n",
       " 6      6     9.0    14     2     3.0       14.0"
      ]
     },
     "execution_count": 54,
     "metadata": {},
     "output_type": "execute_result"
    }
   ],
   "source": [
    "a=pd.DataFrame(df_daf[[\"April\"]].value_counts(),columns=[\"April\"])\n",
    "b=pd.DataFrame(df_daf[[\"May\"]].value_counts(),columns=[\"May\"])\n",
    "c=pd.DataFrame(df_daf[[\"June\"]].value_counts(),columns=[\"June\"])\n",
    "d=pd.DataFrame(df_daf[[\"July\"]].value_counts(),columns=[\"July\"])\n",
    "e=pd.DataFrame(df_daf[[\"August\"]].value_counts(),columns=[\"August\"])\n",
    "f=pd.DataFrame(df_daf[[\"September\"]].value_counts(),columns=[\"September\"])\n",
    "g=df[[\"default payment next month\"]]\n",
    "Paystatus=pd.concat([a,b,c,d,e,f],axis=1)\n",
    "Paystatus"
   ]
  },
  {
   "cell_type": "markdown",
   "id": "2891a960",
   "metadata": {},
   "source": [
    "**Model evaluation without scaled data**"
   ]
  },
  {
   "cell_type": "markdown",
   "id": "2e18e002",
   "metadata": {},
   "source": [
    "lets fit the models to see its performance without scaling the numerical variables and only encoding the categorical columns"
   ]
  },
  {
   "cell_type": "code",
   "execution_count": 149,
   "id": "76fea9c1",
   "metadata": {},
   "outputs": [
    {
     "data": {
      "text/plain": [
       "Index(['LIMIT_BAL', 'SEX', 'EDUCATION', 'MARRIAGE', 'AGE', 'April', 'May',\n",
       "       'June', 'July', 'August', 'September', 'BA_April', 'BA_May', 'BA_June',\n",
       "       'BA_July', 'BA_August', 'BA_September', 'PA_April', 'PA_May', 'PA_June',\n",
       "       'PA_July', 'PA_August', 'PA_September'],\n",
       "      dtype='object')"
      ]
     },
     "execution_count": 149,
     "metadata": {},
     "output_type": "execute_result"
    }
   ],
   "source": [
    "y=df['default payment next month']\n",
    "X=df.drop(columns='default payment next month',axis=1)\n",
    "X['MARRIAGE'].replace({\"Single\":1,\"Married\":0,\"Others\":2},inplace=True)\n",
    "X[\"EDUCATION\"].replace({\"University\" :0,'Graduate School':1,'High School':2,'Others':3},inplace=True)\n",
    "X[\"SEX\"].replace({\"Men\" :0,'Women':1},inplace=True)\n",
    "X.columns"
   ]
  },
  {
   "cell_type": "code",
   "execution_count": 156,
   "id": "38e97634",
   "metadata": {},
   "outputs": [],
   "source": [
    "X_train, X_test, y_train, y_test = train_test_split(X,y, random_state = 10, test_size = 0.3)"
   ]
  },
  {
   "cell_type": "markdown",
   "id": "9bc2922a",
   "metadata": {},
   "source": [
    "**KNN Regressor**"
   ]
  },
  {
   "cell_type": "code",
   "execution_count": 155,
   "id": "e099e096",
   "metadata": {},
   "outputs": [
    {
     "data": {
      "text/html": [
       "<div>\n",
       "<style scoped>\n",
       "    .dataframe tbody tr th:only-of-type {\n",
       "        vertical-align: middle;\n",
       "    }\n",
       "\n",
       "    .dataframe tbody tr th {\n",
       "        vertical-align: top;\n",
       "    }\n",
       "\n",
       "    .dataframe thead th {\n",
       "        text-align: right;\n",
       "    }\n",
       "</style>\n",
       "<table border=\"1\" class=\"dataframe\">\n",
       "  <thead>\n",
       "    <tr style=\"text-align: right;\">\n",
       "      <th></th>\n",
       "      <th>K-Value</th>\n",
       "      <th>Accuracy of train data</th>\n",
       "      <th>Accuracy of test data</th>\n",
       "      <th>Difference in accuracy</th>\n",
       "      <th>Recall</th>\n",
       "      <th>Precision</th>\n",
       "    </tr>\n",
       "  </thead>\n",
       "  <tbody>\n",
       "    <tr>\n",
       "      <th>0</th>\n",
       "      <td>35</td>\n",
       "      <td>0.784619</td>\n",
       "      <td>0.775889</td>\n",
       "      <td>0.008730</td>\n",
       "      <td>0.021624</td>\n",
       "      <td>0.501661</td>\n",
       "    </tr>\n",
       "    <tr>\n",
       "      <th>1</th>\n",
       "      <td>36</td>\n",
       "      <td>0.785238</td>\n",
       "      <td>0.774333</td>\n",
       "      <td>0.010905</td>\n",
       "      <td>0.023963</td>\n",
       "      <td>0.481268</td>\n",
       "    </tr>\n",
       "    <tr>\n",
       "      <th>2</th>\n",
       "      <td>37</td>\n",
       "      <td>0.784524</td>\n",
       "      <td>0.775889</td>\n",
       "      <td>0.008635</td>\n",
       "      <td>0.021338</td>\n",
       "      <td>0.501684</td>\n",
       "    </tr>\n",
       "    <tr>\n",
       "      <th>3</th>\n",
       "      <td>38</td>\n",
       "      <td>0.784238</td>\n",
       "      <td>0.774667</td>\n",
       "      <td>0.009571</td>\n",
       "      <td>0.023236</td>\n",
       "      <td>0.485030</td>\n",
       "    </tr>\n",
       "    <tr>\n",
       "      <th>4</th>\n",
       "      <td>39</td>\n",
       "      <td>0.783619</td>\n",
       "      <td>0.775222</td>\n",
       "      <td>0.008397</td>\n",
       "      <td>0.019923</td>\n",
       "      <td>0.491166</td>\n",
       "    </tr>\n",
       "  </tbody>\n",
       "</table>\n",
       "</div>"
      ],
      "text/plain": [
       "   K-Value  Accuracy of train data  Accuracy of test data  \\\n",
       "0       35                0.784619               0.775889   \n",
       "1       36                0.785238               0.774333   \n",
       "2       37                0.784524               0.775889   \n",
       "3       38                0.784238               0.774667   \n",
       "4       39                0.783619               0.775222   \n",
       "\n",
       "   Difference in accuracy    Recall  Precision  \n",
       "0                0.008730  0.021624   0.501661  \n",
       "1                0.010905  0.023963   0.481268  \n",
       "2                0.008635  0.021338   0.501684  \n",
       "3                0.009571  0.023236   0.485030  \n",
       "4                0.008397  0.019923   0.491166  "
      ]
     },
     "execution_count": 155,
     "metadata": {},
     "output_type": "execute_result"
    }
   ],
   "source": [
    "S=35\n",
    "E=40\n",
    "K_list=list()\n",
    "ac_train=list()\n",
    "ac_test=list()\n",
    "ac_diff=list()\n",
    "precision=list()\n",
    "recall=list()\n",
    "TP=list()\n",
    "TN=list()\n",
    "FP=list()\n",
    "FN=list()\n",
    "TPR=list()\n",
    "FPR=list()\n",
    "Accuracy=list()\n",
    "for i in range(S,E):\n",
    "    model = KNeighborsClassifier(n_neighbors = i)\n",
    "    K_list.append(i)\n",
    "    model.fit(X_train, y_train)  \n",
    "    pred=model.predict(X_train) \n",
    "    accuracy_train = np.sum(y_train== pred) / len(y_train)\n",
    "    ac_train.append(accuracy_train)\n",
    "    pred=model.predict(X_test) \n",
    "    accuracy_test = np.sum(y_test== pred) / len(y_test)\n",
    "    ac_test.append(accuracy_test)\n",
    "    diff=accuracy_train-accuracy_test\n",
    "    ac_diff.append(diff)\n",
    "    z=confusion_matrix(y_test, pred)\n",
    "    precision.append(z[0,0] / (z[0,0] + z[1,0]))\n",
    "    recall.append(z[0,0] / (z[0,0] + z[1,1]))\n",
    "    TP.append(z[0,0])\n",
    "    TN.append(z[0,1])\n",
    "    FP.append(z[1,0])\n",
    "    FN.append(z[1,1])\n",
    "    TPR.append(z[0,0]/(z[0,0]+z[1,1]))\n",
    "    FPR.append(z[1,0]/(z[1,0]+z[0,1]))\n",
    "    \n",
    "        \n",
    "cm={\"K-Value\":K_list,\"TP\":TP,\"TN\":TN,\"FP\":FP,\"FN\":FN,\"TPR\":TPR,\"FPR\":FPR}\n",
    "ConfusionMatrix=pd.DataFrame(cm)\n",
    "dafr={\"K-Value\":K_list,\"Accuracy of train data\":ac_train,\"Accuracy of test data\":ac_test,\"Difference in accuracy\":ac_diff,\"Recall\":recall,\"Precision\":precision}\n",
    "data_of_K=pd.DataFrame(dafr)\n",
    "data_of_K"
   ]
  },
  {
   "cell_type": "markdown",
   "id": "12fcb115",
   "metadata": {},
   "source": [
    "**Decision Tree Classifier**"
   ]
  },
  {
   "cell_type": "code",
   "execution_count": 154,
   "id": "168524d4",
   "metadata": {},
   "outputs": [
    {
     "data": {
      "text/html": [
       "<div>\n",
       "<style scoped>\n",
       "    .dataframe tbody tr th:only-of-type {\n",
       "        vertical-align: middle;\n",
       "    }\n",
       "\n",
       "    .dataframe tbody tr th {\n",
       "        vertical-align: top;\n",
       "    }\n",
       "\n",
       "    .dataframe thead th {\n",
       "        text-align: right;\n",
       "    }\n",
       "</style>\n",
       "<table border=\"1\" class=\"dataframe\">\n",
       "  <thead>\n",
       "    <tr style=\"text-align: right;\">\n",
       "      <th></th>\n",
       "      <th>Depth</th>\n",
       "      <th>Accuracy of train data</th>\n",
       "      <th>Accuracy of test data</th>\n",
       "      <th>Difference in accuracy</th>\n",
       "      <th>Recall</th>\n",
       "      <th>Precision</th>\n",
       "    </tr>\n",
       "  </thead>\n",
       "  <tbody>\n",
       "    <tr>\n",
       "      <th>0</th>\n",
       "      <td>1</td>\n",
       "      <td>0.819095</td>\n",
       "      <td>0.820778</td>\n",
       "      <td>-0.001683</td>\n",
       "      <td>0.089888</td>\n",
       "      <td>0.719393</td>\n",
       "    </tr>\n",
       "    <tr>\n",
       "      <th>1</th>\n",
       "      <td>2</td>\n",
       "      <td>0.820000</td>\n",
       "      <td>0.820444</td>\n",
       "      <td>-0.000444</td>\n",
       "      <td>0.086538</td>\n",
       "      <td>0.729452</td>\n",
       "    </tr>\n",
       "    <tr>\n",
       "      <th>2</th>\n",
       "      <td>3</td>\n",
       "      <td>0.822857</td>\n",
       "      <td>0.820556</td>\n",
       "      <td>0.002302</td>\n",
       "      <td>0.100609</td>\n",
       "      <td>0.686057</td>\n",
       "    </tr>\n",
       "    <tr>\n",
       "      <th>3</th>\n",
       "      <td>4</td>\n",
       "      <td>0.824238</td>\n",
       "      <td>0.820222</td>\n",
       "      <td>0.004016</td>\n",
       "      <td>0.098483</td>\n",
       "      <td>0.689753</td>\n",
       "    </tr>\n",
       "  </tbody>\n",
       "</table>\n",
       "</div>"
      ],
      "text/plain": [
       "   Depth  Accuracy of train data  Accuracy of test data  \\\n",
       "0      1                0.819095               0.820778   \n",
       "1      2                0.820000               0.820444   \n",
       "2      3                0.822857               0.820556   \n",
       "3      4                0.824238               0.820222   \n",
       "\n",
       "   Difference in accuracy    Recall  Precision  \n",
       "0               -0.001683  0.089888   0.719393  \n",
       "1               -0.000444  0.086538   0.729452  \n",
       "2                0.002302  0.100609   0.686057  \n",
       "3                0.004016  0.098483   0.689753  "
      ]
     },
     "execution_count": 154,
     "metadata": {},
     "output_type": "execute_result"
    }
   ],
   "source": [
    "S=1\n",
    "E=5\n",
    "K_list=list()\n",
    "ac_train=list()\n",
    "ac_test=list()\n",
    "ac_diff=list()\n",
    "precision=list()\n",
    "recall=list()\n",
    "TP=list()\n",
    "TN=list()\n",
    "FP=list()\n",
    "FN=list()\n",
    "TPR=list()\n",
    "FPR=list()\n",
    "for i in range(S,E):\n",
    "    model = DecisionTreeClassifier(max_depth = i,criterion=\"gini\")\n",
    "    K_list.append(i)\n",
    "    model.fit(X_train, y_train)  \n",
    "    pred=model.predict(X_train) \n",
    "    accuracy_train = np.sum(y_train== pred) / len(y_train)\n",
    "    ac_train.append(accuracy_train)\n",
    "    pred=model.predict(X_test) \n",
    "    accuracy_test = np.sum(y_test== pred) / len(y_test)\n",
    "    ac_test.append(accuracy_test)\n",
    "    diff=accuracy_train-accuracy_test\n",
    "    ac_diff.append(diff)\n",
    "    z=confusion_matrix(y_test, pred)\n",
    "    precision.append(z[0,0] / (z[0,0] + z[1,0]))\n",
    "    recall.append(z[0,0] / (z[0,0] + z[1,1]))\n",
    "    TP.append(z[0,0])\n",
    "    TN.append(z[0,1])\n",
    "    FP.append(z[1,0])\n",
    "    FN.append(z[1,1])\n",
    "    TPR.append(z[0,0]/(z[0,0]+z[1,1]))\n",
    "    FPR.append(z[1,0]/(z[1,0]+z[0,1]))\n",
    "    \n",
    "        \n",
    "cm={\"Depth\":K_list,\"TP\":TP,\"TN\":TN,\"FP\":FP,\"FN\":FN,\"TPR\":TPR,\"FPR\":FPR}\n",
    "ConfusionMatrix=pd.DataFrame(cm)\n",
    "dafr={\"Depth\":K_list,\"Accuracy of train data\":ac_train,\"Accuracy of test data\":ac_test,\"Difference in accuracy\":ac_diff,\"Recall\":recall,\"Precision\":precision}\n",
    "data_of_K=pd.DataFrame(dafr)\n",
    "data_of_K"
   ]
  },
  {
   "cell_type": "code",
   "execution_count": null,
   "id": "06f980a4",
   "metadata": {},
   "outputs": [],
   "source": []
  }
 ],
 "metadata": {
  "kernelspec": {
   "display_name": "Python 3 (ipykernel)",
   "language": "python",
   "name": "python3"
  },
  "language_info": {
   "codemirror_mode": {
    "name": "ipython",
    "version": 3
   },
   "file_extension": ".py",
   "mimetype": "text/x-python",
   "name": "python",
   "nbconvert_exporter": "python",
   "pygments_lexer": "ipython3",
   "version": "3.9.13"
  },
  "toc": {
   "base_numbering": "2",
   "nav_menu": {},
   "number_sections": true,
   "sideBar": true,
   "skip_h1_title": false,
   "title_cell": "Table of Contents",
   "title_sidebar": "Contents",
   "toc_cell": false,
   "toc_position": {
    "height": "calc(100% - 180px)",
    "left": "10px",
    "top": "150px",
    "width": "290.225px"
   },
   "toc_section_display": true,
   "toc_window_display": false
  }
 },
 "nbformat": 4,
 "nbformat_minor": 5
}
