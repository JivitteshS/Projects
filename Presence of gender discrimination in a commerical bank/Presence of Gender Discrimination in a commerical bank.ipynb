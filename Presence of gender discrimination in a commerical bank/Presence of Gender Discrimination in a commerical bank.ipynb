{
 "cells": [
  {
   "cell_type": "code",
   "execution_count": 128,
   "id": "53aa6e46",
   "metadata": {},
   "outputs": [],
   "source": [
    "import numpy as np\n",
    "import pandas as pd\n",
    "import matplotlib.pyplot as plt\n",
    "import seaborn as sns\n",
    "import warnings\n",
    "warnings.filterwarnings('ignore')\n",
    "from scipy import stats\n",
    "from statsmodels.formula.api import ols\n",
    "from scipy.stats import f_oneway\n",
    "from sklearn.preprocessing import OneHotEncoder\n",
    "import statsmodels.api as sm"
   ]
  },
  {
   "cell_type": "code",
   "execution_count": 129,
   "id": "572f25c4",
   "metadata": {},
   "outputs": [],
   "source": [
    "df=pd.read_excel(\"Bank Salaries.xlsx\")"
   ]
  },
  {
   "cell_type": "code",
   "execution_count": 130,
   "id": "2ac11654",
   "metadata": {},
   "outputs": [
    {
     "data": {
      "text/html": [
       "<div>\n",
       "<style scoped>\n",
       "    .dataframe tbody tr th:only-of-type {\n",
       "        vertical-align: middle;\n",
       "    }\n",
       "\n",
       "    .dataframe tbody tr th {\n",
       "        vertical-align: top;\n",
       "    }\n",
       "\n",
       "    .dataframe thead th {\n",
       "        text-align: right;\n",
       "    }\n",
       "</style>\n",
       "<table border=\"1\" class=\"dataframe\">\n",
       "  <thead>\n",
       "    <tr style=\"text-align: right;\">\n",
       "      <th></th>\n",
       "      <th>Employee</th>\n",
       "      <th>Education</th>\n",
       "      <th>Grade</th>\n",
       "      <th>Years1</th>\n",
       "      <th>Years2</th>\n",
       "      <th>Age</th>\n",
       "      <th>Gender</th>\n",
       "      <th>PC Job</th>\n",
       "      <th>Salary</th>\n",
       "    </tr>\n",
       "  </thead>\n",
       "  <tbody>\n",
       "    <tr>\n",
       "      <th>0</th>\n",
       "      <td>1</td>\n",
       "      <td>3</td>\n",
       "      <td>1</td>\n",
       "      <td>3</td>\n",
       "      <td>1</td>\n",
       "      <td>26</td>\n",
       "      <td>Male</td>\n",
       "      <td>No</td>\n",
       "      <td>32000.0</td>\n",
       "    </tr>\n",
       "    <tr>\n",
       "      <th>1</th>\n",
       "      <td>2</td>\n",
       "      <td>1</td>\n",
       "      <td>1</td>\n",
       "      <td>14</td>\n",
       "      <td>1</td>\n",
       "      <td>38</td>\n",
       "      <td>Female</td>\n",
       "      <td>No</td>\n",
       "      <td>39100.0</td>\n",
       "    </tr>\n",
       "    <tr>\n",
       "      <th>2</th>\n",
       "      <td>3</td>\n",
       "      <td>1</td>\n",
       "      <td>1</td>\n",
       "      <td>12</td>\n",
       "      <td>0</td>\n",
       "      <td>35</td>\n",
       "      <td>Female</td>\n",
       "      <td>No</td>\n",
       "      <td>33200.0</td>\n",
       "    </tr>\n",
       "    <tr>\n",
       "      <th>3</th>\n",
       "      <td>4</td>\n",
       "      <td>2</td>\n",
       "      <td>1</td>\n",
       "      <td>8</td>\n",
       "      <td>7</td>\n",
       "      <td>40</td>\n",
       "      <td>Female</td>\n",
       "      <td>No</td>\n",
       "      <td>30600.0</td>\n",
       "    </tr>\n",
       "    <tr>\n",
       "      <th>4</th>\n",
       "      <td>5</td>\n",
       "      <td>3</td>\n",
       "      <td>1</td>\n",
       "      <td>3</td>\n",
       "      <td>0</td>\n",
       "      <td>28</td>\n",
       "      <td>Male</td>\n",
       "      <td>No</td>\n",
       "      <td>29000.0</td>\n",
       "    </tr>\n",
       "    <tr>\n",
       "      <th>...</th>\n",
       "      <td>...</td>\n",
       "      <td>...</td>\n",
       "      <td>...</td>\n",
       "      <td>...</td>\n",
       "      <td>...</td>\n",
       "      <td>...</td>\n",
       "      <td>...</td>\n",
       "      <td>...</td>\n",
       "      <td>...</td>\n",
       "    </tr>\n",
       "    <tr>\n",
       "      <th>203</th>\n",
       "      <td>204</td>\n",
       "      <td>3</td>\n",
       "      <td>6</td>\n",
       "      <td>34</td>\n",
       "      <td>0</td>\n",
       "      <td>60</td>\n",
       "      <td>Male</td>\n",
       "      <td>No</td>\n",
       "      <td>95000.0</td>\n",
       "    </tr>\n",
       "    <tr>\n",
       "      <th>204</th>\n",
       "      <td>205</td>\n",
       "      <td>5</td>\n",
       "      <td>6</td>\n",
       "      <td>36</td>\n",
       "      <td>0</td>\n",
       "      <td>61</td>\n",
       "      <td>Male</td>\n",
       "      <td>No</td>\n",
       "      <td>97000.0</td>\n",
       "    </tr>\n",
       "    <tr>\n",
       "      <th>205</th>\n",
       "      <td>206</td>\n",
       "      <td>5</td>\n",
       "      <td>6</td>\n",
       "      <td>32</td>\n",
       "      <td>0</td>\n",
       "      <td>62</td>\n",
       "      <td>Male</td>\n",
       "      <td>No</td>\n",
       "      <td>88000.0</td>\n",
       "    </tr>\n",
       "    <tr>\n",
       "      <th>206</th>\n",
       "      <td>207</td>\n",
       "      <td>5</td>\n",
       "      <td>6</td>\n",
       "      <td>35</td>\n",
       "      <td>0</td>\n",
       "      <td>59</td>\n",
       "      <td>Male</td>\n",
       "      <td>No</td>\n",
       "      <td>94000.0</td>\n",
       "    </tr>\n",
       "    <tr>\n",
       "      <th>207</th>\n",
       "      <td>208</td>\n",
       "      <td>5</td>\n",
       "      <td>6</td>\n",
       "      <td>33</td>\n",
       "      <td>0</td>\n",
       "      <td>62</td>\n",
       "      <td>Female</td>\n",
       "      <td>No</td>\n",
       "      <td>30000.0</td>\n",
       "    </tr>\n",
       "  </tbody>\n",
       "</table>\n",
       "<p>208 rows × 9 columns</p>\n",
       "</div>"
      ],
      "text/plain": [
       "     Employee  Education  Grade  Years1  Years2  Age  Gender PC Job   Salary\n",
       "0           1          3      1       3       1   26    Male     No  32000.0\n",
       "1           2          1      1      14       1   38  Female     No  39100.0\n",
       "2           3          1      1      12       0   35  Female     No  33200.0\n",
       "3           4          2      1       8       7   40  Female     No  30600.0\n",
       "4           5          3      1       3       0   28    Male     No  29000.0\n",
       "..        ...        ...    ...     ...     ...  ...     ...    ...      ...\n",
       "203       204          3      6      34       0   60    Male     No  95000.0\n",
       "204       205          5      6      36       0   61    Male     No  97000.0\n",
       "205       206          5      6      32       0   62    Male     No  88000.0\n",
       "206       207          5      6      35       0   59    Male     No  94000.0\n",
       "207       208          5      6      33       0   62  Female     No  30000.0\n",
       "\n",
       "[208 rows x 9 columns]"
      ]
     },
     "execution_count": 130,
     "metadata": {},
     "output_type": "execute_result"
    }
   ],
   "source": [
    "df"
   ]
  },
  {
   "cell_type": "markdown",
   "id": "ebf3c8e1",
   "metadata": {},
   "source": [
    "# Univariate Analysis"
   ]
  },
  {
   "cell_type": "code",
   "execution_count": 50,
   "id": "f766f094",
   "metadata": {},
   "outputs": [
    {
     "data": {
      "text/plain": [
       "<AxesSubplot:>"
      ]
     },
     "execution_count": 50,
     "metadata": {},
     "output_type": "execute_result"
    },
    {
     "data": {
      "image/png": "[encoded data removed]",
      "text/plain": [
       "<Figure size 640x480 with 1 Axes>"
      ]
     },
     "metadata": {},
     "output_type": "display_data"
    }
   ],
   "source": [
    "df[\"Education\"].value_counts().plot(kind='bar',rot=0,color=\"g\")"
   ]
  },
  {
   "cell_type": "code",
   "execution_count": 51,
   "id": "c63bac0a",
   "metadata": {},
   "outputs": [
    {
     "data": {
      "text/plain": [
       "5    66\n",
       "3    63\n",
       "1    36\n",
       "2    35\n",
       "4     8\n",
       "Name: Education, dtype: int64"
      ]
     },
     "execution_count": 51,
     "metadata": {},
     "output_type": "execute_result"
    }
   ],
   "source": [
    "df[\"Education\"].value_counts()"
   ]
  },
  {
   "cell_type": "code",
   "execution_count": 52,
   "id": "2b7dd514",
   "metadata": {},
   "outputs": [
    {
     "data": {
      "text/plain": [
       "<AxesSubplot:>"
      ]
     },
     "execution_count": 52,
     "metadata": {},
     "output_type": "execute_result"
    },
    {
     "data": {
      "image/png": "[encoded data removed]",
      "text/plain": [
       "<Figure size 640x480 with 1 Axes>"
      ]
     },
     "metadata": {},
     "output_type": "display_data"
    }
   ],
   "source": [
    "df[\"Grade\"].value_counts().plot(kind='bar',rot=0,color=\"g\")"
   ]
  },
  {
   "cell_type": "code",
   "execution_count": 53,
   "id": "21d61d09",
   "metadata": {},
   "outputs": [
    {
     "data": {
      "text/plain": [
       "<AxesSubplot:>"
      ]
     },
     "execution_count": 53,
     "metadata": {},
     "output_type": "execute_result"
    },
    {
     "data": {
      "image/png": "[encoded data removed]",
      "text/plain": [
       "<Figure size 640x480 with 1 Axes>"
      ]
     },
     "metadata": {},
     "output_type": "display_data"
    }
   ],
   "source": [
    "df[\"Gender\"].value_counts().plot(kind='bar',rot=0,color=\"g\")"
   ]
  },
  {
   "cell_type": "code",
   "execution_count": 54,
   "id": "d9fea8ba",
   "metadata": {},
   "outputs": [
    {
     "data": {
      "text/plain": [
       "<AxesSubplot:>"
      ]
     },
     "execution_count": 54,
     "metadata": {},
     "output_type": "execute_result"
    },
    {
     "data": {
      "image/png": "[encoded data removed]",
      "text/plain": [
       "<Figure size 640x480 with 1 Axes>"
      ]
     },
     "metadata": {},
     "output_type": "display_data"
    }
   ],
   "source": [
    "df[\"PC Job\"].value_counts().plot(kind='bar',rot=0,color=\"g\")"
   ]
  },
  {
   "cell_type": "code",
   "execution_count": 55,
   "id": "aeb01520",
   "metadata": {},
   "outputs": [
    {
     "data": {
      "text/plain": [
       "PC Job\n",
       "No        189\n",
       "Yes        19\n",
       "dtype: int64"
      ]
     },
     "execution_count": 55,
     "metadata": {},
     "output_type": "execute_result"
    }
   ],
   "source": [
    "df[[\"PC Job\"]].value_counts()"
   ]
  },
  {
   "cell_type": "code",
   "execution_count": 56,
   "id": "0a963a05",
   "metadata": {},
   "outputs": [
    {
     "data": {
      "text/plain": [
       "<AxesSubplot:xlabel='Salary', ylabel='Density'>"
      ]
     },
     "execution_count": 56,
     "metadata": {},
     "output_type": "execute_result"
    },
    {
     "data": {
      "image/png": "[encoded data removed]",
      "text/plain": [
       "<Figure size 640x480 with 1 Axes>"
      ]
     },
     "metadata": {},
     "output_type": "display_data"
    }
   ],
   "source": [
    "sns.distplot(df['Salary'], hist=True)"
   ]
  },
  {
   "cell_type": "code",
   "execution_count": 57,
   "id": "bb976e84",
   "metadata": {},
   "outputs": [
    {
     "data": {
      "text/plain": [
       "<AxesSubplot:xlabel='Age', ylabel='Density'>"
      ]
     },
     "execution_count": 57,
     "metadata": {},
     "output_type": "execute_result"
    },
    {
     "data": {
      "image/png": "[encoded data removed]",
      "text/plain": [
       "<Figure size 640x480 with 1 Axes>"
      ]
     },
     "metadata": {},
     "output_type": "display_data"
    }
   ],
   "source": [
    "sns.distplot(df['Age'], hist=True)"
   ]
  },
  {
   "cell_type": "code",
   "execution_count": 58,
   "id": "0cad82ec",
   "metadata": {},
   "outputs": [
    {
     "data": {
      "text/plain": [
       "<seaborn.axisgrid.FacetGrid at 0x22368af8220>"
      ]
     },
     "execution_count": 58,
     "metadata": {},
     "output_type": "execute_result"
    },
    {
     "data": {
      "image/png": "[encoded data removed]",
      "text/plain": [
       "<Figure size 500x500 with 1 Axes>"
      ]
     },
     "metadata": {},
     "output_type": "display_data"
    }
   ],
   "source": [
    "sns.displot(df[\"Years1\"])"
   ]
  },
  {
   "cell_type": "code",
   "execution_count": 59,
   "id": "9a8454c8",
   "metadata": {},
   "outputs": [
    {
     "data": {
      "text/plain": [
       "<seaborn.axisgrid.FacetGrid at 0x223678b9070>"
      ]
     },
     "execution_count": 59,
     "metadata": {},
     "output_type": "execute_result"
    },
    {
     "data": {
      "image/png": "[encoded data removed]",
      "text/plain": [
       "<Figure size 500x500 with 1 Axes>"
      ]
     },
     "metadata": {},
     "output_type": "display_data"
    }
   ],
   "source": [
    "sns.displot(df[\"Years2\"])"
   ]
  },
  {
   "cell_type": "markdown",
   "id": "1b4ff152",
   "metadata": {},
   "source": [
    "## Bivariate Analysis:"
   ]
  },
  {
   "cell_type": "markdown",
   "id": "2de0b834",
   "metadata": {},
   "source": [
    "### Education and Salary"
   ]
  },
  {
   "cell_type": "code",
   "execution_count": 60,
   "id": "5cc905b0",
   "metadata": {},
   "outputs": [
    {
     "data": {
      "text/plain": [
       "<BarContainer object of 5 artists>"
      ]
     },
     "execution_count": 60,
     "metadata": {},
     "output_type": "execute_result"
    },
    {
     "data": {
      "image/png": "[encoded data removed]",
      "text/plain": [
       "<Figure size 640x480 with 1 Axes>"
      ]
     },
     "metadata": {},
     "output_type": "display_data"
    }
   ],
   "source": [
    "avg_salary = df.groupby('Education')['Salary'].mean()\n",
    "\n",
    "# Create the bar plot using matplotlib\n",
    "plt.bar(avg_salary.index, avg_salary.values)"
   ]
  },
  {
   "cell_type": "markdown",
   "id": "d2d96dc3",
   "metadata": {},
   "source": [
    "There is a slow gradual rise in average salary as the Education level increases"
   ]
  },
  {
   "cell_type": "markdown",
   "id": "1c87389e",
   "metadata": {},
   "source": [
    "### Grade and Salary"
   ]
  },
  {
   "cell_type": "code",
   "execution_count": 61,
   "id": "902614fb",
   "metadata": {},
   "outputs": [
    {
     "data": {
      "text/plain": [
       "<BarContainer object of 6 artists>"
      ]
     },
     "execution_count": 61,
     "metadata": {},
     "output_type": "execute_result"
    },
    {
     "data": {
      "image/png": "[encoded data removed]",
      "text/plain": [
       "<Figure size 640x480 with 1 Axes>"
      ]
     },
     "metadata": {},
     "output_type": "display_data"
    }
   ],
   "source": [
    "avg_salary = df.groupby('Grade')['Salary'].mean()\n",
    "\n",
    "# Create the bar plot using matplotlib\n",
    "plt.bar(avg_salary.index, avg_salary.values)"
   ]
  },
  {
   "cell_type": "markdown",
   "id": "b5af85c5",
   "metadata": {},
   "source": [
    "The salary increases with increase in grade."
   ]
  },
  {
   "cell_type": "code",
   "execution_count": 62,
   "id": "acb9a9e8",
   "metadata": {},
   "outputs": [
    {
     "data": {
      "text/html": [
       "<div>\n",
       "<style scoped>\n",
       "    .dataframe tbody tr th:only-of-type {\n",
       "        vertical-align: middle;\n",
       "    }\n",
       "\n",
       "    .dataframe tbody tr th {\n",
       "        vertical-align: top;\n",
       "    }\n",
       "\n",
       "    .dataframe thead th {\n",
       "        text-align: right;\n",
       "    }\n",
       "</style>\n",
       "<table border=\"1\" class=\"dataframe\">\n",
       "  <thead>\n",
       "    <tr style=\"text-align: right;\">\n",
       "      <th></th>\n",
       "      <th>Years1</th>\n",
       "      <th>Salary</th>\n",
       "    </tr>\n",
       "  </thead>\n",
       "  <tbody>\n",
       "    <tr>\n",
       "      <th>Years1</th>\n",
       "      <td>1.00000</td>\n",
       "      <td>0.61561</td>\n",
       "    </tr>\n",
       "    <tr>\n",
       "      <th>Salary</th>\n",
       "      <td>0.61561</td>\n",
       "      <td>1.00000</td>\n",
       "    </tr>\n",
       "  </tbody>\n",
       "</table>\n",
       "</div>"
      ],
      "text/plain": [
       "         Years1   Salary\n",
       "Years1  1.00000  0.61561\n",
       "Salary  0.61561  1.00000"
      ]
     },
     "execution_count": 62,
     "metadata": {},
     "output_type": "execute_result"
    }
   ],
   "source": [
    "df[[\"Years1\",\"Salary\"]].corr()"
   ]
  },
  {
   "cell_type": "code",
   "execution_count": 63,
   "id": "07dba747",
   "metadata": {},
   "outputs": [
    {
     "data": {
      "text/plain": [
       "<AxesSubplot:xlabel='Years1', ylabel='Salary'>"
      ]
     },
     "execution_count": 63,
     "metadata": {},
     "output_type": "execute_result"
    },
    {
     "data": {
      "image/png": "[encoded data removed]",
      "text/plain": [
       "<Figure size 640x480 with 1 Axes>"
      ]
     },
     "metadata": {},
     "output_type": "display_data"
    }
   ],
   "source": [
    "sns.scatterplot(x=df[\"Years1\"], y=df[\"Salary\"])"
   ]
  },
  {
   "cell_type": "code",
   "execution_count": 64,
   "id": "30c43fbe",
   "metadata": {},
   "outputs": [
    {
     "data": {
      "text/html": [
       "<div>\n",
       "<style scoped>\n",
       "    .dataframe tbody tr th:only-of-type {\n",
       "        vertical-align: middle;\n",
       "    }\n",
       "\n",
       "    .dataframe tbody tr th {\n",
       "        vertical-align: top;\n",
       "    }\n",
       "\n",
       "    .dataframe thead th {\n",
       "        text-align: right;\n",
       "    }\n",
       "</style>\n",
       "<table border=\"1\" class=\"dataframe\">\n",
       "  <thead>\n",
       "    <tr style=\"text-align: right;\">\n",
       "      <th></th>\n",
       "      <th>Age</th>\n",
       "      <th>Salary</th>\n",
       "    </tr>\n",
       "  </thead>\n",
       "  <tbody>\n",
       "    <tr>\n",
       "      <th>Age</th>\n",
       "      <td>1.000000</td>\n",
       "      <td>0.383798</td>\n",
       "    </tr>\n",
       "    <tr>\n",
       "      <th>Salary</th>\n",
       "      <td>0.383798</td>\n",
       "      <td>1.000000</td>\n",
       "    </tr>\n",
       "  </tbody>\n",
       "</table>\n",
       "</div>"
      ],
      "text/plain": [
       "             Age    Salary\n",
       "Age     1.000000  0.383798\n",
       "Salary  0.383798  1.000000"
      ]
     },
     "execution_count": 64,
     "metadata": {},
     "output_type": "execute_result"
    }
   ],
   "source": [
    "df[['Age',\"Salary\"]].corr()"
   ]
  },
  {
   "cell_type": "code",
   "execution_count": 65,
   "id": "31be1a9a",
   "metadata": {},
   "outputs": [
    {
     "data": {
      "text/plain": [
       "<AxesSubplot:xlabel='Age', ylabel='Salary'>"
      ]
     },
     "execution_count": 65,
     "metadata": {},
     "output_type": "execute_result"
    },
    {
     "data": {
      "image/png": "[encoded data removed]",
      "text/plain": [
       "<Figure size 640x480 with 1 Axes>"
      ]
     },
     "metadata": {},
     "output_type": "display_data"
    }
   ],
   "source": [
    "sns.scatterplot(x=df[\"Age\"], y=df[\"Salary\"])"
   ]
  },
  {
   "cell_type": "markdown",
   "id": "15a772b1",
   "metadata": {},
   "source": [
    "### Gender and Salary"
   ]
  },
  {
   "cell_type": "code",
   "execution_count": null,
   "id": "acd04449",
   "metadata": {},
   "outputs": [],
   "source": []
  },
  {
   "cell_type": "code",
   "execution_count": 66,
   "id": "87cff137",
   "metadata": {},
   "outputs": [
    {
     "data": {
      "text/plain": [
       "<BarContainer object of 2 artists>"
      ]
     },
     "execution_count": 66,
     "metadata": {},
     "output_type": "execute_result"
    },
    {
     "data": {
      "image/png": "[encoded data removed]",
      "text/plain": [
       "<Figure size 640x480 with 1 Axes>"
      ]
     },
     "metadata": {},
     "output_type": "display_data"
    }
   ],
   "source": [
    "avg_salary = df.groupby('Gender')['Salary'].mean()\n",
    "\n",
    "# Create the bar plot using matplotlib\n",
    "plt.bar(avg_salary.index, avg_salary.values)"
   ]
  },
  {
   "cell_type": "code",
   "execution_count": 67,
   "id": "3ef064ff",
   "metadata": {},
   "outputs": [
    {
     "data": {
      "text/plain": [
       "Gender\n",
       "Female    37209.928571\n",
       "Male      45505.441176\n",
       "Name: Salary, dtype: float64"
      ]
     },
     "execution_count": 67,
     "metadata": {},
     "output_type": "execute_result"
    }
   ],
   "source": [
    "df.groupby('Gender')['Salary'].mean()"
   ]
  },
  {
   "cell_type": "code",
   "execution_count": 68,
   "id": "dbaab8f5",
   "metadata": {},
   "outputs": [
    {
     "data": {
      "text/plain": [
       "<AxesSubplot:xlabel='Years2', ylabel='Salary'>"
      ]
     },
     "execution_count": 68,
     "metadata": {},
     "output_type": "execute_result"
    },
    {
     "data": {
      "image/png": "[encoded data removed]",
      "text/plain": [
       "<Figure size 640x480 with 1 Axes>"
      ]
     },
     "metadata": {},
     "output_type": "display_data"
    }
   ],
   "source": [
    "sns.scatterplot(x=df[\"Years2\"], y=df[\"Salary\"])"
   ]
  },
  {
   "cell_type": "code",
   "execution_count": 69,
   "id": "3dda9c2d",
   "metadata": {},
   "outputs": [
    {
     "data": {
      "text/plain": [
       "<BarContainer object of 2 artists>"
      ]
     },
     "execution_count": 69,
     "metadata": {},
     "output_type": "execute_result"
    },
    {
     "data": {
      "image/png": "[encoded data removed]",
      "text/plain": [
       "<Figure size 640x480 with 1 Axes>"
      ]
     },
     "metadata": {},
     "output_type": "display_data"
    }
   ],
   "source": [
    "avg_salary = df.groupby('PC Job')['Salary'].mean()\n",
    "\n",
    "# Create the bar plot using matplotlib\n",
    "plt.bar(avg_salary.index, avg_salary.values)"
   ]
  },
  {
   "cell_type": "markdown",
   "id": "7d9dab77",
   "metadata": {},
   "source": [
    "There is no difference in averag salary for PC Job "
   ]
  },
  {
   "cell_type": "code",
   "execution_count": 70,
   "id": "a8395ab0",
   "metadata": {},
   "outputs": [
    {
     "data": {
      "text/plain": [
       "PC Job\n",
       "No     39883.386243\n",
       "Yes    40305.263158\n",
       "Name: Salary, dtype: float64"
      ]
     },
     "execution_count": 70,
     "metadata": {},
     "output_type": "execute_result"
    }
   ],
   "source": [
    "df.groupby('PC Job')['Salary'].mean()"
   ]
  },
  {
   "cell_type": "code",
   "execution_count": null,
   "id": "91b6dfdb",
   "metadata": {},
   "outputs": [],
   "source": []
  },
  {
   "cell_type": "code",
   "execution_count": null,
   "id": "464fa3a2",
   "metadata": {},
   "outputs": [],
   "source": []
  },
  {
   "cell_type": "markdown",
   "id": "5b999561",
   "metadata": {},
   "source": [
    "### Mulitvariate Analysis"
   ]
  },
  {
   "cell_type": "code",
   "execution_count": 71,
   "id": "93241b85",
   "metadata": {},
   "outputs": [
    {
     "data": {
      "text/html": [
       "<div>\n",
       "<style scoped>\n",
       "    .dataframe tbody tr th:only-of-type {\n",
       "        vertical-align: middle;\n",
       "    }\n",
       "\n",
       "    .dataframe tbody tr th {\n",
       "        vertical-align: top;\n",
       "    }\n",
       "\n",
       "    .dataframe thead tr th {\n",
       "        text-align: left;\n",
       "    }\n",
       "\n",
       "    .dataframe thead tr:last-of-type th {\n",
       "        text-align: right;\n",
       "    }\n",
       "</style>\n",
       "<table border=\"1\" class=\"dataframe\">\n",
       "  <thead>\n",
       "    <tr>\n",
       "      <th></th>\n",
       "      <th colspan=\"2\" halign=\"left\">Salary</th>\n",
       "    </tr>\n",
       "    <tr>\n",
       "      <th>Gender</th>\n",
       "      <th>Female</th>\n",
       "      <th>Male</th>\n",
       "    </tr>\n",
       "    <tr>\n",
       "      <th>Grade</th>\n",
       "      <th></th>\n",
       "      <th></th>\n",
       "    </tr>\n",
       "  </thead>\n",
       "  <tbody>\n",
       "    <tr>\n",
       "      <th>1</th>\n",
       "      <td>32649.0</td>\n",
       "      <td>31079.0</td>\n",
       "    </tr>\n",
       "    <tr>\n",
       "      <th>2</th>\n",
       "      <td>34865.0</td>\n",
       "      <td>34217.0</td>\n",
       "    </tr>\n",
       "    <tr>\n",
       "      <th>3</th>\n",
       "      <td>38536.0</td>\n",
       "      <td>39329.0</td>\n",
       "    </tr>\n",
       "    <tr>\n",
       "      <th>4</th>\n",
       "      <td>44351.0</td>\n",
       "      <td>43845.0</td>\n",
       "    </tr>\n",
       "    <tr>\n",
       "      <th>5</th>\n",
       "      <td>51100.0</td>\n",
       "      <td>49750.0</td>\n",
       "    </tr>\n",
       "    <tr>\n",
       "      <th>6</th>\n",
       "      <td>30000.0</td>\n",
       "      <td>70923.0</td>\n",
       "    </tr>\n",
       "  </tbody>\n",
       "</table>\n",
       "</div>"
      ],
      "text/plain": [
       "         Salary         \n",
       "Gender   Female     Male\n",
       "Grade                   \n",
       "1       32649.0  31079.0\n",
       "2       34865.0  34217.0\n",
       "3       38536.0  39329.0\n",
       "4       44351.0  43845.0\n",
       "5       51100.0  49750.0\n",
       "6       30000.0  70923.0"
      ]
     },
     "execution_count": 71,
     "metadata": {},
     "output_type": "execute_result"
    }
   ],
   "source": [
    "df.pivot_table(index=['Grade'],columns=[\"Gender\"], values=['Salary'], aggfunc=np.mean).round(0)"
   ]
  },
  {
   "cell_type": "code",
   "execution_count": 72,
   "id": "b1ca80a5",
   "metadata": {},
   "outputs": [
    {
     "data": {
      "text/html": [
       "<div>\n",
       "<style scoped>\n",
       "    .dataframe tbody tr th:only-of-type {\n",
       "        vertical-align: middle;\n",
       "    }\n",
       "\n",
       "    .dataframe tbody tr th {\n",
       "        vertical-align: top;\n",
       "    }\n",
       "\n",
       "    .dataframe thead th {\n",
       "        text-align: right;\n",
       "    }\n",
       "</style>\n",
       "<table border=\"1\" class=\"dataframe\">\n",
       "  <thead>\n",
       "    <tr style=\"text-align: right;\">\n",
       "      <th></th>\n",
       "      <th>Salary</th>\n",
       "    </tr>\n",
       "    <tr>\n",
       "      <th>Grade</th>\n",
       "      <th></th>\n",
       "    </tr>\n",
       "  </thead>\n",
       "  <tbody>\n",
       "    <tr>\n",
       "      <th>1</th>\n",
       "      <td>32335.0</td>\n",
       "    </tr>\n",
       "    <tr>\n",
       "      <th>2</th>\n",
       "      <td>34665.0</td>\n",
       "    </tr>\n",
       "    <tr>\n",
       "      <th>3</th>\n",
       "      <td>38665.0</td>\n",
       "    </tr>\n",
       "    <tr>\n",
       "      <th>4</th>\n",
       "      <td>44152.0</td>\n",
       "    </tr>\n",
       "    <tr>\n",
       "      <th>5</th>\n",
       "      <td>50329.0</td>\n",
       "    </tr>\n",
       "    <tr>\n",
       "      <th>6</th>\n",
       "      <td>68000.0</td>\n",
       "    </tr>\n",
       "  </tbody>\n",
       "</table>\n",
       "</div>"
      ],
      "text/plain": [
       "        Salary\n",
       "Grade         \n",
       "1      32335.0\n",
       "2      34665.0\n",
       "3      38665.0\n",
       "4      44152.0\n",
       "5      50329.0\n",
       "6      68000.0"
      ]
     },
     "execution_count": 72,
     "metadata": {},
     "output_type": "execute_result"
    }
   ],
   "source": [
    "df.pivot_table(index=['Grade'], values=['Salary'], aggfunc=np.mean).round(0)"
   ]
  },
  {
   "cell_type": "markdown",
   "id": "901856f5",
   "metadata": {},
   "source": [
    "Men and women have similar level in average salaries across all education levels expect at level 6 where men have a very high average salary."
   ]
  },
  {
   "cell_type": "markdown",
   "id": "55eb44e1",
   "metadata": {},
   "source": [
    "At Grade 6 men are getting salary way higher than women."
   ]
  },
  {
   "cell_type": "code",
   "execution_count": 73,
   "id": "f8730fd4",
   "metadata": {},
   "outputs": [
    {
     "data": {
      "text/html": [
       "<div>\n",
       "<style scoped>\n",
       "    .dataframe tbody tr th:only-of-type {\n",
       "        vertical-align: middle;\n",
       "    }\n",
       "\n",
       "    .dataframe tbody tr th {\n",
       "        vertical-align: top;\n",
       "    }\n",
       "\n",
       "    .dataframe thead tr th {\n",
       "        text-align: left;\n",
       "    }\n",
       "\n",
       "    .dataframe thead tr:last-of-type th {\n",
       "        text-align: right;\n",
       "    }\n",
       "</style>\n",
       "<table border=\"1\" class=\"dataframe\">\n",
       "  <thead>\n",
       "    <tr>\n",
       "      <th></th>\n",
       "      <th colspan=\"2\" halign=\"left\">Salary</th>\n",
       "    </tr>\n",
       "    <tr>\n",
       "      <th>Gender</th>\n",
       "      <th>Female</th>\n",
       "      <th>Male</th>\n",
       "    </tr>\n",
       "    <tr>\n",
       "      <th>Education</th>\n",
       "      <th></th>\n",
       "      <th></th>\n",
       "    </tr>\n",
       "  </thead>\n",
       "  <tbody>\n",
       "    <tr>\n",
       "      <th>1</th>\n",
       "      <td>35176.060606</td>\n",
       "      <td>39933.333333</td>\n",
       "    </tr>\n",
       "    <tr>\n",
       "      <th>2</th>\n",
       "      <td>35131.034483</td>\n",
       "      <td>31970.000000</td>\n",
       "    </tr>\n",
       "    <tr>\n",
       "      <th>3</th>\n",
       "      <td>36716.279070</td>\n",
       "      <td>39247.500000</td>\n",
       "    </tr>\n",
       "    <tr>\n",
       "      <th>4</th>\n",
       "      <td>39500.000000</td>\n",
       "      <td>44666.666667</td>\n",
       "    </tr>\n",
       "    <tr>\n",
       "      <th>5</th>\n",
       "      <td>41782.666667</td>\n",
       "      <td>51772.222222</td>\n",
       "    </tr>\n",
       "  </tbody>\n",
       "</table>\n",
       "</div>"
      ],
      "text/plain": [
       "                 Salary              \n",
       "Gender           Female          Male\n",
       "Education                            \n",
       "1          35176.060606  39933.333333\n",
       "2          35131.034483  31970.000000\n",
       "3          36716.279070  39247.500000\n",
       "4          39500.000000  44666.666667\n",
       "5          41782.666667  51772.222222"
      ]
     },
     "execution_count": 73,
     "metadata": {},
     "output_type": "execute_result"
    }
   ],
   "source": [
    "df.pivot_table(index=['Education'],columns=[\"Gender\"], values=['Salary'], aggfunc='mean')"
   ]
  },
  {
   "cell_type": "code",
   "execution_count": 74,
   "id": "06aae2f1",
   "metadata": {},
   "outputs": [
    {
     "data": {
      "text/html": [
       "<div>\n",
       "<style scoped>\n",
       "    .dataframe tbody tr th:only-of-type {\n",
       "        vertical-align: middle;\n",
       "    }\n",
       "\n",
       "    .dataframe tbody tr th {\n",
       "        vertical-align: top;\n",
       "    }\n",
       "\n",
       "    .dataframe thead th {\n",
       "        text-align: right;\n",
       "    }\n",
       "</style>\n",
       "<table border=\"1\" class=\"dataframe\">\n",
       "  <thead>\n",
       "    <tr style=\"text-align: right;\">\n",
       "      <th></th>\n",
       "      <th>Salary</th>\n",
       "    </tr>\n",
       "    <tr>\n",
       "      <th>Education</th>\n",
       "      <th></th>\n",
       "    </tr>\n",
       "  </thead>\n",
       "  <tbody>\n",
       "    <tr>\n",
       "      <th>1</th>\n",
       "      <td>35572.500000</td>\n",
       "    </tr>\n",
       "    <tr>\n",
       "      <th>2</th>\n",
       "      <td>34589.142857</td>\n",
       "    </tr>\n",
       "    <tr>\n",
       "      <th>3</th>\n",
       "      <td>37519.841270</td>\n",
       "    </tr>\n",
       "    <tr>\n",
       "      <th>4</th>\n",
       "      <td>41437.500000</td>\n",
       "    </tr>\n",
       "    <tr>\n",
       "      <th>5</th>\n",
       "      <td>47231.515152</td>\n",
       "    </tr>\n",
       "  </tbody>\n",
       "</table>\n",
       "</div>"
      ],
      "text/plain": [
       "                 Salary\n",
       "Education              \n",
       "1          35572.500000\n",
       "2          34589.142857\n",
       "3          37519.841270\n",
       "4          41437.500000\n",
       "5          47231.515152"
      ]
     },
     "execution_count": 74,
     "metadata": {},
     "output_type": "execute_result"
    }
   ],
   "source": [
    "df.pivot_table(index=['Education'], values=['Salary'], aggfunc='mean')"
   ]
  },
  {
   "cell_type": "markdown",
   "id": "35c1e915",
   "metadata": {},
   "source": [
    "Male are having higher average salary than the overall average salary. whereas women average salary is less than or equeal to the overall average salary"
   ]
  },
  {
   "cell_type": "markdown",
   "id": "559b01e2",
   "metadata": {},
   "source": [
    "### Scatter plot for male years1 and salary"
   ]
  },
  {
   "cell_type": "code",
   "execution_count": 75,
   "id": "3f6ced4b",
   "metadata": {},
   "outputs": [
    {
     "data": {
      "text/html": [
       "<div>\n",
       "<style scoped>\n",
       "    .dataframe tbody tr th:only-of-type {\n",
       "        vertical-align: middle;\n",
       "    }\n",
       "\n",
       "    .dataframe tbody tr th {\n",
       "        vertical-align: top;\n",
       "    }\n",
       "\n",
       "    .dataframe thead th {\n",
       "        text-align: right;\n",
       "    }\n",
       "</style>\n",
       "<table border=\"1\" class=\"dataframe\">\n",
       "  <thead>\n",
       "    <tr style=\"text-align: right;\">\n",
       "      <th></th>\n",
       "      <th>Years1</th>\n",
       "      <th>Salary</th>\n",
       "    </tr>\n",
       "  </thead>\n",
       "  <tbody>\n",
       "    <tr>\n",
       "      <th>Years1</th>\n",
       "      <td>1.000000</td>\n",
       "      <td>0.887698</td>\n",
       "    </tr>\n",
       "    <tr>\n",
       "      <th>Salary</th>\n",
       "      <td>0.887698</td>\n",
       "      <td>1.000000</td>\n",
       "    </tr>\n",
       "  </tbody>\n",
       "</table>\n",
       "</div>"
      ],
      "text/plain": [
       "          Years1    Salary\n",
       "Years1  1.000000  0.887698\n",
       "Salary  0.887698  1.000000"
      ]
     },
     "execution_count": 75,
     "metadata": {},
     "output_type": "execute_result"
    }
   ],
   "source": [
    "male=df[\"Gender\"]==\"Male\"\n",
    "male=df[male]\n",
    "male[[\"Years1\",\"Salary\"]].corr()"
   ]
  },
  {
   "cell_type": "code",
   "execution_count": 76,
   "id": "3360327a",
   "metadata": {},
   "outputs": [
    {
     "data": {
      "text/plain": [
       "<AxesSubplot:xlabel='Years1', ylabel='Salary'>"
      ]
     },
     "execution_count": 76,
     "metadata": {},
     "output_type": "execute_result"
    },
    {
     "data": {
      "image/png": "[encoded data removed]",
      "text/plain": [
       "<Figure size 640x480 with 1 Axes>"
      ]
     },
     "metadata": {},
     "output_type": "display_data"
    }
   ],
   "source": [
    "sns.scatterplot(x=male[\"Years1\"], y=male[\"Salary\"])"
   ]
  },
  {
   "cell_type": "code",
   "execution_count": 77,
   "id": "1cbf9bd7",
   "metadata": {},
   "outputs": [
    {
     "data": {
      "text/html": [
       "<div>\n",
       "<style scoped>\n",
       "    .dataframe tbody tr th:only-of-type {\n",
       "        vertical-align: middle;\n",
       "    }\n",
       "\n",
       "    .dataframe tbody tr th {\n",
       "        vertical-align: top;\n",
       "    }\n",
       "\n",
       "    .dataframe thead th {\n",
       "        text-align: right;\n",
       "    }\n",
       "</style>\n",
       "<table border=\"1\" class=\"dataframe\">\n",
       "  <thead>\n",
       "    <tr style=\"text-align: right;\">\n",
       "      <th></th>\n",
       "      <th>Years1</th>\n",
       "      <th>Salary</th>\n",
       "    </tr>\n",
       "  </thead>\n",
       "  <tbody>\n",
       "    <tr>\n",
       "      <th>Years1</th>\n",
       "      <td>1.000000</td>\n",
       "      <td>0.235411</td>\n",
       "    </tr>\n",
       "    <tr>\n",
       "      <th>Salary</th>\n",
       "      <td>0.235411</td>\n",
       "      <td>1.000000</td>\n",
       "    </tr>\n",
       "  </tbody>\n",
       "</table>\n",
       "</div>"
      ],
      "text/plain": [
       "          Years1    Salary\n",
       "Years1  1.000000  0.235411\n",
       "Salary  0.235411  1.000000"
      ]
     },
     "execution_count": 77,
     "metadata": {},
     "output_type": "execute_result"
    }
   ],
   "source": [
    "female=df[\"Gender\"]==\"Female\"\n",
    "female=df[female]\n",
    "female[[\"Years1\",\"Salary\"]].corr()"
   ]
  },
  {
   "cell_type": "code",
   "execution_count": 78,
   "id": "f3140220",
   "metadata": {},
   "outputs": [
    {
     "data": {
      "text/plain": [
       "<AxesSubplot:xlabel='Years1', ylabel='Salary'>"
      ]
     },
     "execution_count": 78,
     "metadata": {},
     "output_type": "execute_result"
    },
    {
     "data": {
      "image/png": "[encoded data removed]",
      "text/plain": [
       "<Figure size 640x480 with 1 Axes>"
      ]
     },
     "metadata": {},
     "output_type": "display_data"
    }
   ],
   "source": [
    "sns.scatterplot(x=female[\"Years1\"], y=female[\"Salary\"])"
   ]
  },
  {
   "cell_type": "code",
   "execution_count": 79,
   "id": "8820493b",
   "metadata": {},
   "outputs": [
    {
     "data": {
      "text/html": [
       "<div>\n",
       "<style scoped>\n",
       "    .dataframe tbody tr th:only-of-type {\n",
       "        vertical-align: middle;\n",
       "    }\n",
       "\n",
       "    .dataframe tbody tr th {\n",
       "        vertical-align: top;\n",
       "    }\n",
       "\n",
       "    .dataframe thead th {\n",
       "        text-align: right;\n",
       "    }\n",
       "</style>\n",
       "<table border=\"1\" class=\"dataframe\">\n",
       "  <thead>\n",
       "    <tr style=\"text-align: right;\">\n",
       "      <th></th>\n",
       "      <th>Age</th>\n",
       "      <th>Salary</th>\n",
       "    </tr>\n",
       "  </thead>\n",
       "  <tbody>\n",
       "    <tr>\n",
       "      <th>Age</th>\n",
       "      <td>1.000000</td>\n",
       "      <td>0.660464</td>\n",
       "    </tr>\n",
       "    <tr>\n",
       "      <th>Salary</th>\n",
       "      <td>0.660464</td>\n",
       "      <td>1.000000</td>\n",
       "    </tr>\n",
       "  </tbody>\n",
       "</table>\n",
       "</div>"
      ],
      "text/plain": [
       "             Age    Salary\n",
       "Age     1.000000  0.660464\n",
       "Salary  0.660464  1.000000"
      ]
     },
     "execution_count": 79,
     "metadata": {},
     "output_type": "execute_result"
    }
   ],
   "source": [
    "male=df[\"Gender\"]==\"Male\"\n",
    "male=df[male]\n",
    "male[[\"Age\",\"Salary\"]].corr()"
   ]
  },
  {
   "cell_type": "code",
   "execution_count": 80,
   "id": "942f5ed4",
   "metadata": {},
   "outputs": [
    {
     "data": {
      "text/plain": [
       "<AxesSubplot:xlabel='Age', ylabel='Salary'>"
      ]
     },
     "execution_count": 80,
     "metadata": {},
     "output_type": "execute_result"
    },
    {
     "data": {
      "image/png": "[encoded data removed]",
      "text/plain": [
       "<Figure size 640x480 with 1 Axes>"
      ]
     },
     "metadata": {},
     "output_type": "display_data"
    }
   ],
   "source": [
    "sns.scatterplot(x=male[\"Age\"], y=male[\"Salary\"])"
   ]
  },
  {
   "cell_type": "code",
   "execution_count": 81,
   "id": "6169ef25",
   "metadata": {},
   "outputs": [
    {
     "data": {
      "text/html": [
       "<div>\n",
       "<style scoped>\n",
       "    .dataframe tbody tr th:only-of-type {\n",
       "        vertical-align: middle;\n",
       "    }\n",
       "\n",
       "    .dataframe tbody tr th {\n",
       "        vertical-align: top;\n",
       "    }\n",
       "\n",
       "    .dataframe thead th {\n",
       "        text-align: right;\n",
       "    }\n",
       "</style>\n",
       "<table border=\"1\" class=\"dataframe\">\n",
       "  <thead>\n",
       "    <tr style=\"text-align: right;\">\n",
       "      <th></th>\n",
       "      <th>Age</th>\n",
       "      <th>Salary</th>\n",
       "    </tr>\n",
       "  </thead>\n",
       "  <tbody>\n",
       "    <tr>\n",
       "      <th>Age</th>\n",
       "      <td>1.000000</td>\n",
       "      <td>0.137023</td>\n",
       "    </tr>\n",
       "    <tr>\n",
       "      <th>Salary</th>\n",
       "      <td>0.137023</td>\n",
       "      <td>1.000000</td>\n",
       "    </tr>\n",
       "  </tbody>\n",
       "</table>\n",
       "</div>"
      ],
      "text/plain": [
       "             Age    Salary\n",
       "Age     1.000000  0.137023\n",
       "Salary  0.137023  1.000000"
      ]
     },
     "execution_count": 81,
     "metadata": {},
     "output_type": "execute_result"
    }
   ],
   "source": [
    "Female=df[\"Gender\"]==\"Female\"\n",
    "Female=df[Female]\n",
    "Female[[\"Age\",\"Salary\"]].corr()"
   ]
  },
  {
   "cell_type": "code",
   "execution_count": 82,
   "id": "9aef8ba1",
   "metadata": {},
   "outputs": [
    {
     "data": {
      "text/plain": [
       "<AxesSubplot:xlabel='Age', ylabel='Salary'>"
      ]
     },
     "execution_count": 82,
     "metadata": {},
     "output_type": "execute_result"
    },
    {
     "data": {
      "image/png": "[encoded data removed]",
      "text/plain": [
       "<Figure size 640x480 with 1 Axes>"
      ]
     },
     "metadata": {},
     "output_type": "display_data"
    }
   ],
   "source": [
    "sns.scatterplot(x=Female[\"Age\"], y=Female[\"Salary\"])"
   ]
  },
  {
   "cell_type": "markdown",
   "id": "6b56d65a",
   "metadata": {},
   "source": [
    "Male's Age has a better correlation with salary compared to the female's age"
   ]
  },
  {
   "cell_type": "markdown",
   "id": "59ca3f56",
   "metadata": {},
   "source": [
    "### Age,Grade and Salary"
   ]
  },
  {
   "cell_type": "code",
   "execution_count": 83,
   "id": "91460a64",
   "metadata": {},
   "outputs": [
    {
     "data": {
      "text/html": [
       "<div>\n",
       "<style scoped>\n",
       "    .dataframe tbody tr th:only-of-type {\n",
       "        vertical-align: middle;\n",
       "    }\n",
       "\n",
       "    .dataframe tbody tr th {\n",
       "        vertical-align: top;\n",
       "    }\n",
       "\n",
       "    .dataframe thead tr th {\n",
       "        text-align: left;\n",
       "    }\n",
       "\n",
       "    .dataframe thead tr:last-of-type th {\n",
       "        text-align: right;\n",
       "    }\n",
       "</style>\n",
       "<table border=\"1\" class=\"dataframe\">\n",
       "  <thead>\n",
       "    <tr>\n",
       "      <th></th>\n",
       "      <th colspan=\"2\" halign=\"left\">Age</th>\n",
       "      <th colspan=\"2\" halign=\"left\">Salary</th>\n",
       "    </tr>\n",
       "    <tr>\n",
       "      <th>Gender</th>\n",
       "      <th>Female</th>\n",
       "      <th>Male</th>\n",
       "      <th>Female</th>\n",
       "      <th>Male</th>\n",
       "    </tr>\n",
       "    <tr>\n",
       "      <th>Grade</th>\n",
       "      <th></th>\n",
       "      <th></th>\n",
       "      <th></th>\n",
       "      <th></th>\n",
       "    </tr>\n",
       "  </thead>\n",
       "  <tbody>\n",
       "    <tr>\n",
       "      <th>1</th>\n",
       "      <td>40.458333</td>\n",
       "      <td>35.833333</td>\n",
       "      <td>32649.166667</td>\n",
       "      <td>31079.166667</td>\n",
       "    </tr>\n",
       "    <tr>\n",
       "      <th>2</th>\n",
       "      <td>40.034483</td>\n",
       "      <td>32.538462</td>\n",
       "      <td>34865.172414</td>\n",
       "      <td>34216.923077</td>\n",
       "    </tr>\n",
       "    <tr>\n",
       "      <th>3</th>\n",
       "      <td>40.361111</td>\n",
       "      <td>33.571429</td>\n",
       "      <td>38535.555556</td>\n",
       "      <td>39328.571429</td>\n",
       "    </tr>\n",
       "    <tr>\n",
       "      <th>4</th>\n",
       "      <td>43.294118</td>\n",
       "      <td>36.000000</td>\n",
       "      <td>44350.588235</td>\n",
       "      <td>43845.454545</td>\n",
       "    </tr>\n",
       "    <tr>\n",
       "      <th>5</th>\n",
       "      <td>41.111111</td>\n",
       "      <td>39.666667</td>\n",
       "      <td>51100.000000</td>\n",
       "      <td>49750.000000</td>\n",
       "    </tr>\n",
       "    <tr>\n",
       "      <th>6</th>\n",
       "      <td>62.000000</td>\n",
       "      <td>55.230769</td>\n",
       "      <td>30000.000000</td>\n",
       "      <td>70923.076923</td>\n",
       "    </tr>\n",
       "  </tbody>\n",
       "</table>\n",
       "</div>"
      ],
      "text/plain": [
       "              Age                   Salary              \n",
       "Gender     Female       Male        Female          Male\n",
       "Grade                                                   \n",
       "1       40.458333  35.833333  32649.166667  31079.166667\n",
       "2       40.034483  32.538462  34865.172414  34216.923077\n",
       "3       40.361111  33.571429  38535.555556  39328.571429\n",
       "4       43.294118  36.000000  44350.588235  43845.454545\n",
       "5       41.111111  39.666667  51100.000000  49750.000000\n",
       "6       62.000000  55.230769  30000.000000  70923.076923"
      ]
     },
     "execution_count": 83,
     "metadata": {},
     "output_type": "execute_result"
    }
   ],
   "source": [
    "df.pivot_table(index=['Grade'],columns=[\"Gender\"] ,values=['Age','Salary'], aggfunc=np.mean)"
   ]
  },
  {
   "cell_type": "code",
   "execution_count": 84,
   "id": "22ec1403",
   "metadata": {},
   "outputs": [
    {
     "data": {
      "text/html": [
       "<div>\n",
       "<style scoped>\n",
       "    .dataframe tbody tr th:only-of-type {\n",
       "        vertical-align: middle;\n",
       "    }\n",
       "\n",
       "    .dataframe tbody tr th {\n",
       "        vertical-align: top;\n",
       "    }\n",
       "\n",
       "    .dataframe thead th {\n",
       "        text-align: right;\n",
       "    }\n",
       "</style>\n",
       "<table border=\"1\" class=\"dataframe\">\n",
       "  <thead>\n",
       "    <tr style=\"text-align: right;\">\n",
       "      <th></th>\n",
       "      <th>Salary</th>\n",
       "    </tr>\n",
       "    <tr>\n",
       "      <th>Grade</th>\n",
       "      <th></th>\n",
       "    </tr>\n",
       "  </thead>\n",
       "  <tbody>\n",
       "    <tr>\n",
       "      <th>1</th>\n",
       "      <td>32335.166667</td>\n",
       "    </tr>\n",
       "    <tr>\n",
       "      <th>2</th>\n",
       "      <td>34664.523810</td>\n",
       "    </tr>\n",
       "    <tr>\n",
       "      <th>3</th>\n",
       "      <td>38664.651163</td>\n",
       "    </tr>\n",
       "    <tr>\n",
       "      <th>4</th>\n",
       "      <td>44152.142857</td>\n",
       "    </tr>\n",
       "    <tr>\n",
       "      <th>5</th>\n",
       "      <td>50328.571429</td>\n",
       "    </tr>\n",
       "    <tr>\n",
       "      <th>6</th>\n",
       "      <td>68000.000000</td>\n",
       "    </tr>\n",
       "  </tbody>\n",
       "</table>\n",
       "</div>"
      ],
      "text/plain": [
       "             Salary\n",
       "Grade              \n",
       "1      32335.166667\n",
       "2      34664.523810\n",
       "3      38664.651163\n",
       "4      44152.142857\n",
       "5      50328.571429\n",
       "6      68000.000000"
      ]
     },
     "execution_count": 84,
     "metadata": {},
     "output_type": "execute_result"
    }
   ],
   "source": [
    "df.pivot_table(index=['Grade'],values=['Salary'], aggfunc=np.mean)"
   ]
  },
  {
   "cell_type": "markdown",
   "id": "9b9acd3f",
   "metadata": {},
   "source": [
    "The average salary for women and men is similar to the overall average salary for men and women combined. But the age of women in each education level is higher when compared to that of men whom are recieving similar level of salaries."
   ]
  },
  {
   "cell_type": "markdown",
   "id": "251fcb7d",
   "metadata": {},
   "source": [
    "Is there a significant difference in salary for grades"
   ]
  },
  {
   "cell_type": "markdown",
   "id": "9ce4ff1a",
   "metadata": {},
   "source": [
    "#### PC Job, Gender and Salary"
   ]
  },
  {
   "cell_type": "code",
   "execution_count": 85,
   "id": "93bea917",
   "metadata": {},
   "outputs": [
    {
     "data": {
      "text/html": [
       "<div>\n",
       "<style scoped>\n",
       "    .dataframe tbody tr th:only-of-type {\n",
       "        vertical-align: middle;\n",
       "    }\n",
       "\n",
       "    .dataframe tbody tr th {\n",
       "        vertical-align: top;\n",
       "    }\n",
       "\n",
       "    .dataframe thead tr th {\n",
       "        text-align: left;\n",
       "    }\n",
       "\n",
       "    .dataframe thead tr:last-of-type th {\n",
       "        text-align: right;\n",
       "    }\n",
       "</style>\n",
       "<table border=\"1\" class=\"dataframe\">\n",
       "  <thead>\n",
       "    <tr>\n",
       "      <th></th>\n",
       "      <th colspan=\"2\" halign=\"left\">Salary</th>\n",
       "    </tr>\n",
       "    <tr>\n",
       "      <th>Gender</th>\n",
       "      <th>Female</th>\n",
       "      <th>Male</th>\n",
       "    </tr>\n",
       "    <tr>\n",
       "      <th>PC Job</th>\n",
       "      <th></th>\n",
       "      <th></th>\n",
       "    </tr>\n",
       "  </thead>\n",
       "  <tbody>\n",
       "    <tr>\n",
       "      <th>No</th>\n",
       "      <td>36723.884298</td>\n",
       "      <td>45505.441176</td>\n",
       "    </tr>\n",
       "    <tr>\n",
       "      <th>Yes</th>\n",
       "      <td>40305.263158</td>\n",
       "      <td>NaN</td>\n",
       "    </tr>\n",
       "  </tbody>\n",
       "</table>\n",
       "</div>"
      ],
      "text/plain": [
       "              Salary              \n",
       "Gender        Female          Male\n",
       "PC Job                            \n",
       "No      36723.884298  45505.441176\n",
       "Yes     40305.263158           NaN"
      ]
     },
     "execution_count": 85,
     "metadata": {},
     "output_type": "execute_result"
    }
   ],
   "source": [
    "df.pivot_table(index=['PC Job'],columns=[\"Gender\"] ,values=['Salary'], aggfunc=np.mean)"
   ]
  },
  {
   "cell_type": "code",
   "execution_count": 86,
   "id": "6c2a74f9",
   "metadata": {},
   "outputs": [],
   "source": [
    "one=df[df[\"Grade\"]==1]\n",
    "two=df[df[\"Grade\"]==2]\n",
    "three=df[df[\"Grade\"]==3]\n",
    "four=df[df[\"Grade\"]==4]\n",
    "five=df[df[\"Grade\"]==5]\n",
    "six=df[df[\"Grade\"]==6]"
   ]
  },
  {
   "cell_type": "markdown",
   "id": "75b64268",
   "metadata": {},
   "source": [
    "* **H0:**There is no signigicant difference in salary accross all Grades\n",
    "* **H1:**THere is significant differnece in salary for alteast one grade"
   ]
  },
  {
   "cell_type": "code",
   "execution_count": 87,
   "id": "aa5c38e3",
   "metadata": {},
   "outputs": [
    {
     "data": {
      "text/plain": [
       "F_onewayResult(statistic=96.63593130412356, pvalue=1.2308833620708183e-51)"
      ]
     },
     "execution_count": 87,
     "metadata": {},
     "output_type": "execute_result"
    }
   ],
   "source": [
    "f_oneway(one[\"Salary\"],two[\"Salary\"],three[\"Salary\"],four[\"Salary\"],five[\"Salary\"],six[\"Salary\"])"
   ]
  },
  {
   "cell_type": "markdown",
   "id": "68bedd6a",
   "metadata": {},
   "source": [
    "The p value is less than alpha so we reject h0 that there is no signigicant difference in salary accross all Grades"
   ]
  },
  {
   "cell_type": "markdown",
   "id": "36c0347d",
   "metadata": {},
   "source": [
    "### Is there a significant difference in salary for jobs related to computer and non computer"
   ]
  },
  {
   "cell_type": "code",
   "execution_count": 88,
   "id": "c2e5ade2",
   "metadata": {},
   "outputs": [],
   "source": [
    "yes=df[df[\"PC Job\"]==\"No\"]\n",
    "no=df[df[\"PC Job\"]==\"Yes\"]"
   ]
  },
  {
   "cell_type": "markdown",
   "id": "7ee97b66",
   "metadata": {},
   "source": [
    "* **H0:** There is no significant difference in salary among PC Jobs\n",
    "* **H1:** There is significant difference in salary"
   ]
  },
  {
   "cell_type": "code",
   "execution_count": 89,
   "id": "c4686fbb",
   "metadata": {},
   "outputs": [
    {
     "data": {
      "text/plain": [
       "F_onewayResult(statistic=0.02413744542951999, pvalue=0.8766878273046056)"
      ]
     },
     "execution_count": 89,
     "metadata": {},
     "output_type": "execute_result"
    }
   ],
   "source": [
    "f_oneway(yes[\"Salary\"],no[\"Salary\"])"
   ]
  },
  {
   "cell_type": "markdown",
   "id": "afcd52a9",
   "metadata": {},
   "source": [
    "The p value is greater than alpha so we can reject null hypothesis and accept null hypotheses that there is no significant difference in salary for differnet PC jobs."
   ]
  },
  {
   "cell_type": "markdown",
   "id": "33cc83a6",
   "metadata": {},
   "source": [
    "### Is there a significant difference in education level and salary"
   ]
  },
  {
   "cell_type": "code",
   "execution_count": 90,
   "id": "b1bd4c67",
   "metadata": {},
   "outputs": [],
   "source": [
    "one=df[df[\"Education\"]==1]\n",
    "two=df[df[\"Education\"]==2]\n",
    "three=df[df[\"Education\"]==3]\n",
    "four=df[df[\"Education\"]==4]\n",
    "five=df[df[\"Education\"]==5]"
   ]
  },
  {
   "cell_type": "markdown",
   "id": "5b0704b1",
   "metadata": {},
   "source": [
    "* **H0:** There is no signigicant difference in salary across all Education levels\n",
    "* **H1:** THere is significant differnece in salary for alteast one eduacation level"
   ]
  },
  {
   "cell_type": "code",
   "execution_count": 91,
   "id": "fc644ce7",
   "metadata": {},
   "outputs": [
    {
     "data": {
      "text/plain": [
       "F_onewayResult(statistic=13.730011731533411, pvalue=6.301811369525473e-10)"
      ]
     },
     "execution_count": 91,
     "metadata": {},
     "output_type": "execute_result"
    }
   ],
   "source": [
    "f_oneway(one[\"Salary\"],two[\"Salary\"],three[\"Salary\"],four[\"Salary\"],five[\"Salary\"])"
   ]
  },
  {
   "cell_type": "markdown",
   "id": "5d6111ca",
   "metadata": {},
   "source": [
    "The p value is less than alpha so we reject H0 and state that there is significant difference in salary for atleast one education level."
   ]
  },
  {
   "cell_type": "markdown",
   "id": "a5ed3cb5",
   "metadata": {},
   "source": [
    "### Is there a significant difference in grade level and salary"
   ]
  },
  {
   "cell_type": "code",
   "execution_count": 92,
   "id": "966cb380",
   "metadata": {},
   "outputs": [],
   "source": [
    "one=df[df[\"Grade\"]==1]\n",
    "two=df[df[\"Grade\"]==2]\n",
    "three=df[df[\"Grade\"]==3]\n",
    "four=df[df[\"Grade\"]==4]\n",
    "five=df[df[\"Grade\"]==5]\n",
    "six=df[df[\"Grade\"]==6]"
   ]
  },
  {
   "cell_type": "markdown",
   "id": "4e455bdf",
   "metadata": {},
   "source": [
    "* **H0:** There is no signigicant difference in salary across all Grade levels\n",
    "* **H1:** THere is significant differnece in salary for alteast one Grade level"
   ]
  },
  {
   "cell_type": "code",
   "execution_count": 93,
   "id": "080e4ea5",
   "metadata": {},
   "outputs": [
    {
     "data": {
      "text/plain": [
       "F_onewayResult(statistic=96.63593130412356, pvalue=1.2308833620708183e-51)"
      ]
     },
     "execution_count": 93,
     "metadata": {},
     "output_type": "execute_result"
    }
   ],
   "source": [
    "f_oneway(one[\"Salary\"],two[\"Salary\"],three[\"Salary\"],four[\"Salary\"],five[\"Salary\"],six[\"Salary\"])"
   ]
  },
  {
   "cell_type": "markdown",
   "id": "ee75e9e9",
   "metadata": {},
   "source": [
    "The p value is less than alpha so we reject H0 and state that there is significant difference in salary for atleast one level of grade."
   ]
  },
  {
   "cell_type": "markdown",
   "id": "60eb066e",
   "metadata": {},
   "source": [
    "### Is significant difference in mean of salary for male and female"
   ]
  },
  {
   "cell_type": "code",
   "execution_count": 94,
   "id": "239f10d6",
   "metadata": {},
   "outputs": [
    {
     "data": {
      "text/plain": [
       "F_onewayResult(statistic=28.115061001620237, pvalue=2.9354470815211695e-07)"
      ]
     },
     "execution_count": 94,
     "metadata": {},
     "output_type": "execute_result"
    }
   ],
   "source": [
    "male=df[df[\"Gender\"]==\"Male\"]\n",
    "male[[\"Salary\"]]\n",
    "female=df[df[\"Gender\"]==\"Female\"]\n",
    "female[[\"Salary\"]]\n",
    "f_oneway(male[\"Salary\"],female[\"Salary\"])"
   ]
  },
  {
   "cell_type": "markdown",
   "id": "6672bf02",
   "metadata": {},
   "source": [
    "* **H0:** There is no signigicant difference in salary for genders\n",
    "* **H1:** THere is significant differnece in salary for the genders"
   ]
  },
  {
   "cell_type": "markdown",
   "id": "a8429970",
   "metadata": {},
   "source": [
    "p value is less than alpha so we reject Null Hypothesis stating that there is significant difference in the saalry for genders."
   ]
  },
  {
   "cell_type": "code",
   "execution_count": 95,
   "id": "9daf9391",
   "metadata": {},
   "outputs": [],
   "source": [
    "df_scale=df"
   ]
  },
  {
   "cell_type": "code",
   "execution_count": 96,
   "id": "a54a24e5",
   "metadata": {},
   "outputs": [],
   "source": [
    "e=df[[\"PC Job\"]]\n",
    "encode=OneHotEncoder()\n",
    "n=encode.fit_transform(e)\n",
    "n.toarray()\n",
    "encode.get_feature_names_out()\n",
    "encode=pd.DataFrame(n.toarray(),columns=encode.get_feature_names_out())"
   ]
  },
  {
   "cell_type": "code",
   "execution_count": 97,
   "id": "2cc752be",
   "metadata": {},
   "outputs": [],
   "source": [
    "df_scale.drop(columns=\"PC Job\",inplace=True)"
   ]
  },
  {
   "cell_type": "code",
   "execution_count": 98,
   "id": "8e70d840",
   "metadata": {},
   "outputs": [],
   "source": [
    "df_scale=pd.concat([df_scale,encode],axis=1)"
   ]
  },
  {
   "cell_type": "code",
   "execution_count": 99,
   "id": "aa5dc29a",
   "metadata": {},
   "outputs": [
    {
     "data": {
      "text/html": [
       "<div>\n",
       "<style scoped>\n",
       "    .dataframe tbody tr th:only-of-type {\n",
       "        vertical-align: middle;\n",
       "    }\n",
       "\n",
       "    .dataframe tbody tr th {\n",
       "        vertical-align: top;\n",
       "    }\n",
       "\n",
       "    .dataframe thead th {\n",
       "        text-align: right;\n",
       "    }\n",
       "</style>\n",
       "<table border=\"1\" class=\"dataframe\">\n",
       "  <thead>\n",
       "    <tr style=\"text-align: right;\">\n",
       "      <th></th>\n",
       "      <th>Employee</th>\n",
       "      <th>Education</th>\n",
       "      <th>Grade</th>\n",
       "      <th>Years1</th>\n",
       "      <th>Years2</th>\n",
       "      <th>Age</th>\n",
       "      <th>Gender</th>\n",
       "      <th>Salary</th>\n",
       "      <th>PC Job_No</th>\n",
       "      <th>PC Job_Yes</th>\n",
       "    </tr>\n",
       "  </thead>\n",
       "  <tbody>\n",
       "    <tr>\n",
       "      <th>0</th>\n",
       "      <td>1</td>\n",
       "      <td>3</td>\n",
       "      <td>1</td>\n",
       "      <td>3</td>\n",
       "      <td>1</td>\n",
       "      <td>26</td>\n",
       "      <td>Male</td>\n",
       "      <td>32000.0</td>\n",
       "      <td>1.0</td>\n",
       "      <td>0.0</td>\n",
       "    </tr>\n",
       "    <tr>\n",
       "      <th>1</th>\n",
       "      <td>2</td>\n",
       "      <td>1</td>\n",
       "      <td>1</td>\n",
       "      <td>14</td>\n",
       "      <td>1</td>\n",
       "      <td>38</td>\n",
       "      <td>Female</td>\n",
       "      <td>39100.0</td>\n",
       "      <td>1.0</td>\n",
       "      <td>0.0</td>\n",
       "    </tr>\n",
       "    <tr>\n",
       "      <th>2</th>\n",
       "      <td>3</td>\n",
       "      <td>1</td>\n",
       "      <td>1</td>\n",
       "      <td>12</td>\n",
       "      <td>0</td>\n",
       "      <td>35</td>\n",
       "      <td>Female</td>\n",
       "      <td>33200.0</td>\n",
       "      <td>1.0</td>\n",
       "      <td>0.0</td>\n",
       "    </tr>\n",
       "    <tr>\n",
       "      <th>3</th>\n",
       "      <td>4</td>\n",
       "      <td>2</td>\n",
       "      <td>1</td>\n",
       "      <td>8</td>\n",
       "      <td>7</td>\n",
       "      <td>40</td>\n",
       "      <td>Female</td>\n",
       "      <td>30600.0</td>\n",
       "      <td>1.0</td>\n",
       "      <td>0.0</td>\n",
       "    </tr>\n",
       "    <tr>\n",
       "      <th>4</th>\n",
       "      <td>5</td>\n",
       "      <td>3</td>\n",
       "      <td>1</td>\n",
       "      <td>3</td>\n",
       "      <td>0</td>\n",
       "      <td>28</td>\n",
       "      <td>Male</td>\n",
       "      <td>29000.0</td>\n",
       "      <td>1.0</td>\n",
       "      <td>0.0</td>\n",
       "    </tr>\n",
       "    <tr>\n",
       "      <th>...</th>\n",
       "      <td>...</td>\n",
       "      <td>...</td>\n",
       "      <td>...</td>\n",
       "      <td>...</td>\n",
       "      <td>...</td>\n",
       "      <td>...</td>\n",
       "      <td>...</td>\n",
       "      <td>...</td>\n",
       "      <td>...</td>\n",
       "      <td>...</td>\n",
       "    </tr>\n",
       "    <tr>\n",
       "      <th>203</th>\n",
       "      <td>204</td>\n",
       "      <td>3</td>\n",
       "      <td>6</td>\n",
       "      <td>34</td>\n",
       "      <td>0</td>\n",
       "      <td>60</td>\n",
       "      <td>Male</td>\n",
       "      <td>95000.0</td>\n",
       "      <td>1.0</td>\n",
       "      <td>0.0</td>\n",
       "    </tr>\n",
       "    <tr>\n",
       "      <th>204</th>\n",
       "      <td>205</td>\n",
       "      <td>5</td>\n",
       "      <td>6</td>\n",
       "      <td>36</td>\n",
       "      <td>0</td>\n",
       "      <td>61</td>\n",
       "      <td>Male</td>\n",
       "      <td>97000.0</td>\n",
       "      <td>1.0</td>\n",
       "      <td>0.0</td>\n",
       "    </tr>\n",
       "    <tr>\n",
       "      <th>205</th>\n",
       "      <td>206</td>\n",
       "      <td>5</td>\n",
       "      <td>6</td>\n",
       "      <td>32</td>\n",
       "      <td>0</td>\n",
       "      <td>62</td>\n",
       "      <td>Male</td>\n",
       "      <td>88000.0</td>\n",
       "      <td>1.0</td>\n",
       "      <td>0.0</td>\n",
       "    </tr>\n",
       "    <tr>\n",
       "      <th>206</th>\n",
       "      <td>207</td>\n",
       "      <td>5</td>\n",
       "      <td>6</td>\n",
       "      <td>35</td>\n",
       "      <td>0</td>\n",
       "      <td>59</td>\n",
       "      <td>Male</td>\n",
       "      <td>94000.0</td>\n",
       "      <td>1.0</td>\n",
       "      <td>0.0</td>\n",
       "    </tr>\n",
       "    <tr>\n",
       "      <th>207</th>\n",
       "      <td>208</td>\n",
       "      <td>5</td>\n",
       "      <td>6</td>\n",
       "      <td>33</td>\n",
       "      <td>0</td>\n",
       "      <td>62</td>\n",
       "      <td>Female</td>\n",
       "      <td>30000.0</td>\n",
       "      <td>1.0</td>\n",
       "      <td>0.0</td>\n",
       "    </tr>\n",
       "  </tbody>\n",
       "</table>\n",
       "<p>208 rows × 10 columns</p>\n",
       "</div>"
      ],
      "text/plain": [
       "     Employee  Education  Grade  Years1  Years2  Age  Gender   Salary  \\\n",
       "0           1          3      1       3       1   26    Male  32000.0   \n",
       "1           2          1      1      14       1   38  Female  39100.0   \n",
       "2           3          1      1      12       0   35  Female  33200.0   \n",
       "3           4          2      1       8       7   40  Female  30600.0   \n",
       "4           5          3      1       3       0   28    Male  29000.0   \n",
       "..        ...        ...    ...     ...     ...  ...     ...      ...   \n",
       "203       204          3      6      34       0   60    Male  95000.0   \n",
       "204       205          5      6      36       0   61    Male  97000.0   \n",
       "205       206          5      6      32       0   62    Male  88000.0   \n",
       "206       207          5      6      35       0   59    Male  94000.0   \n",
       "207       208          5      6      33       0   62  Female  30000.0   \n",
       "\n",
       "     PC Job_No  PC Job_Yes  \n",
       "0          1.0         0.0  \n",
       "1          1.0         0.0  \n",
       "2          1.0         0.0  \n",
       "3          1.0         0.0  \n",
       "4          1.0         0.0  \n",
       "..         ...         ...  \n",
       "203        1.0         0.0  \n",
       "204        1.0         0.0  \n",
       "205        1.0         0.0  \n",
       "206        1.0         0.0  \n",
       "207        1.0         0.0  \n",
       "\n",
       "[208 rows x 10 columns]"
      ]
     },
     "execution_count": 99,
     "metadata": {},
     "output_type": "execute_result"
    }
   ],
   "source": [
    "df_scale"
   ]
  },
  {
   "cell_type": "code",
   "execution_count": 100,
   "id": "6bdd84b1",
   "metadata": {},
   "outputs": [],
   "source": [
    "df_scale[\"Gender\"].replace({\"Male\":0,\"Female\":1},inplace=True)"
   ]
  },
  {
   "cell_type": "code",
   "execution_count": 101,
   "id": "57b517d0",
   "metadata": {},
   "outputs": [],
   "source": [
    "df_scale.drop(columns=\"Employee\",inplace=True)"
   ]
  },
  {
   "cell_type": "code",
   "execution_count": 102,
   "id": "a867ca2c",
   "metadata": {},
   "outputs": [
    {
     "data": {
      "text/html": [
       "<div>\n",
       "<style scoped>\n",
       "    .dataframe tbody tr th:only-of-type {\n",
       "        vertical-align: middle;\n",
       "    }\n",
       "\n",
       "    .dataframe tbody tr th {\n",
       "        vertical-align: top;\n",
       "    }\n",
       "\n",
       "    .dataframe thead th {\n",
       "        text-align: right;\n",
       "    }\n",
       "</style>\n",
       "<table border=\"1\" class=\"dataframe\">\n",
       "  <thead>\n",
       "    <tr style=\"text-align: right;\">\n",
       "      <th></th>\n",
       "      <th>Education</th>\n",
       "      <th>Grade</th>\n",
       "      <th>Years1</th>\n",
       "      <th>Years2</th>\n",
       "      <th>Age</th>\n",
       "      <th>Gender</th>\n",
       "      <th>Salary</th>\n",
       "      <th>PC Job_No</th>\n",
       "      <th>PC Job_Yes</th>\n",
       "    </tr>\n",
       "  </thead>\n",
       "  <tbody>\n",
       "    <tr>\n",
       "      <th>0</th>\n",
       "      <td>3</td>\n",
       "      <td>1</td>\n",
       "      <td>3</td>\n",
       "      <td>1</td>\n",
       "      <td>26</td>\n",
       "      <td>0</td>\n",
       "      <td>32000.0</td>\n",
       "      <td>1.0</td>\n",
       "      <td>0.0</td>\n",
       "    </tr>\n",
       "    <tr>\n",
       "      <th>1</th>\n",
       "      <td>1</td>\n",
       "      <td>1</td>\n",
       "      <td>14</td>\n",
       "      <td>1</td>\n",
       "      <td>38</td>\n",
       "      <td>1</td>\n",
       "      <td>39100.0</td>\n",
       "      <td>1.0</td>\n",
       "      <td>0.0</td>\n",
       "    </tr>\n",
       "    <tr>\n",
       "      <th>2</th>\n",
       "      <td>1</td>\n",
       "      <td>1</td>\n",
       "      <td>12</td>\n",
       "      <td>0</td>\n",
       "      <td>35</td>\n",
       "      <td>1</td>\n",
       "      <td>33200.0</td>\n",
       "      <td>1.0</td>\n",
       "      <td>0.0</td>\n",
       "    </tr>\n",
       "    <tr>\n",
       "      <th>3</th>\n",
       "      <td>2</td>\n",
       "      <td>1</td>\n",
       "      <td>8</td>\n",
       "      <td>7</td>\n",
       "      <td>40</td>\n",
       "      <td>1</td>\n",
       "      <td>30600.0</td>\n",
       "      <td>1.0</td>\n",
       "      <td>0.0</td>\n",
       "    </tr>\n",
       "    <tr>\n",
       "      <th>4</th>\n",
       "      <td>3</td>\n",
       "      <td>1</td>\n",
       "      <td>3</td>\n",
       "      <td>0</td>\n",
       "      <td>28</td>\n",
       "      <td>0</td>\n",
       "      <td>29000.0</td>\n",
       "      <td>1.0</td>\n",
       "      <td>0.0</td>\n",
       "    </tr>\n",
       "    <tr>\n",
       "      <th>...</th>\n",
       "      <td>...</td>\n",
       "      <td>...</td>\n",
       "      <td>...</td>\n",
       "      <td>...</td>\n",
       "      <td>...</td>\n",
       "      <td>...</td>\n",
       "      <td>...</td>\n",
       "      <td>...</td>\n",
       "      <td>...</td>\n",
       "    </tr>\n",
       "    <tr>\n",
       "      <th>203</th>\n",
       "      <td>3</td>\n",
       "      <td>6</td>\n",
       "      <td>34</td>\n",
       "      <td>0</td>\n",
       "      <td>60</td>\n",
       "      <td>0</td>\n",
       "      <td>95000.0</td>\n",
       "      <td>1.0</td>\n",
       "      <td>0.0</td>\n",
       "    </tr>\n",
       "    <tr>\n",
       "      <th>204</th>\n",
       "      <td>5</td>\n",
       "      <td>6</td>\n",
       "      <td>36</td>\n",
       "      <td>0</td>\n",
       "      <td>61</td>\n",
       "      <td>0</td>\n",
       "      <td>97000.0</td>\n",
       "      <td>1.0</td>\n",
       "      <td>0.0</td>\n",
       "    </tr>\n",
       "    <tr>\n",
       "      <th>205</th>\n",
       "      <td>5</td>\n",
       "      <td>6</td>\n",
       "      <td>32</td>\n",
       "      <td>0</td>\n",
       "      <td>62</td>\n",
       "      <td>0</td>\n",
       "      <td>88000.0</td>\n",
       "      <td>1.0</td>\n",
       "      <td>0.0</td>\n",
       "    </tr>\n",
       "    <tr>\n",
       "      <th>206</th>\n",
       "      <td>5</td>\n",
       "      <td>6</td>\n",
       "      <td>35</td>\n",
       "      <td>0</td>\n",
       "      <td>59</td>\n",
       "      <td>0</td>\n",
       "      <td>94000.0</td>\n",
       "      <td>1.0</td>\n",
       "      <td>0.0</td>\n",
       "    </tr>\n",
       "    <tr>\n",
       "      <th>207</th>\n",
       "      <td>5</td>\n",
       "      <td>6</td>\n",
       "      <td>33</td>\n",
       "      <td>0</td>\n",
       "      <td>62</td>\n",
       "      <td>1</td>\n",
       "      <td>30000.0</td>\n",
       "      <td>1.0</td>\n",
       "      <td>0.0</td>\n",
       "    </tr>\n",
       "  </tbody>\n",
       "</table>\n",
       "<p>208 rows × 9 columns</p>\n",
       "</div>"
      ],
      "text/plain": [
       "     Education  Grade  Years1  Years2  Age  Gender   Salary  PC Job_No  \\\n",
       "0            3      1       3       1   26       0  32000.0        1.0   \n",
       "1            1      1      14       1   38       1  39100.0        1.0   \n",
       "2            1      1      12       0   35       1  33200.0        1.0   \n",
       "3            2      1       8       7   40       1  30600.0        1.0   \n",
       "4            3      1       3       0   28       0  29000.0        1.0   \n",
       "..         ...    ...     ...     ...  ...     ...      ...        ...   \n",
       "203          3      6      34       0   60       0  95000.0        1.0   \n",
       "204          5      6      36       0   61       0  97000.0        1.0   \n",
       "205          5      6      32       0   62       0  88000.0        1.0   \n",
       "206          5      6      35       0   59       0  94000.0        1.0   \n",
       "207          5      6      33       0   62       1  30000.0        1.0   \n",
       "\n",
       "     PC Job_Yes  \n",
       "0           0.0  \n",
       "1           0.0  \n",
       "2           0.0  \n",
       "3           0.0  \n",
       "4           0.0  \n",
       "..          ...  \n",
       "203         0.0  \n",
       "204         0.0  \n",
       "205         0.0  \n",
       "206         0.0  \n",
       "207         0.0  \n",
       "\n",
       "[208 rows x 9 columns]"
      ]
     },
     "execution_count": 102,
     "metadata": {},
     "output_type": "execute_result"
    }
   ],
   "source": [
    "df_scale"
   ]
  },
  {
   "cell_type": "markdown",
   "id": "dcff37e1",
   "metadata": {},
   "source": [
    "### Fitted a linear regression model with gender only"
   ]
  },
  {
   "cell_type": "code",
   "execution_count": 103,
   "id": "c4d5baf1",
   "metadata": {},
   "outputs": [
    {
     "data": {
      "text/html": [
       "<table class=\"simpletable\">\n",
       "<caption>OLS Regression Results</caption>\n",
       "<tr>\n",
       "  <th>Dep. Variable:</th>         <td>Salary</td>      <th>  R-squared:         </th> <td>   0.120</td>\n",
       "</tr>\n",
       "<tr>\n",
       "  <th>Model:</th>                   <td>OLS</td>       <th>  Adj. R-squared:    </th> <td>   0.116</td>\n",
       "</tr>\n",
       "<tr>\n",
       "  <th>Method:</th>             <td>Least Squares</td>  <th>  F-statistic:       </th> <td>   28.12</td>\n",
       "</tr>\n",
       "<tr>\n",
       "  <th>Date:</th>             <td>Sun, 25 Jun 2023</td> <th>  Prob (F-statistic):</th> <td>2.94e-07</td>\n",
       "</tr>\n",
       "<tr>\n",
       "  <th>Time:</th>                 <td>10:51:31</td>     <th>  Log-Likelihood:    </th> <td> -2221.7</td>\n",
       "</tr>\n",
       "<tr>\n",
       "  <th>No. Observations:</th>      <td>   208</td>      <th>  AIC:               </th> <td>   4447.</td>\n",
       "</tr>\n",
       "<tr>\n",
       "  <th>Df Residuals:</th>          <td>   206</td>      <th>  BIC:               </th> <td>   4454.</td>\n",
       "</tr>\n",
       "<tr>\n",
       "  <th>Df Model:</th>              <td>     1</td>      <th>                     </th>     <td> </td>   \n",
       "</tr>\n",
       "<tr>\n",
       "  <th>Covariance Type:</th>      <td>nonrobust</td>    <th>                     </th>     <td> </td>   \n",
       "</tr>\n",
       "</table>\n",
       "<table class=\"simpletable\">\n",
       "<tr>\n",
       "     <td></td>       <th>coef</th>     <th>std err</th>      <th>t</th>      <th>P>|t|</th>  <th>[0.025</th>    <th>0.975]</th>  \n",
       "</tr>\n",
       "<tr>\n",
       "  <th>const</th>  <td> 4.551e+04</td> <td> 1283.530</td> <td>   35.453</td> <td> 0.000</td> <td>  4.3e+04</td> <td>  4.8e+04</td>\n",
       "</tr>\n",
       "<tr>\n",
       "  <th>Gender</th> <td>-8295.5126</td> <td> 1564.493</td> <td>   -5.302</td> <td> 0.000</td> <td>-1.14e+04</td> <td>-5211.041</td>\n",
       "</tr>\n",
       "</table>\n",
       "<table class=\"simpletable\">\n",
       "<tr>\n",
       "  <th>Omnibus:</th>       <td>106.281</td> <th>  Durbin-Watson:     </th> <td>   0.631</td> \n",
       "</tr>\n",
       "<tr>\n",
       "  <th>Prob(Omnibus):</th> <td> 0.000</td>  <th>  Jarque-Bera (JB):  </th> <td> 541.694</td> \n",
       "</tr>\n",
       "<tr>\n",
       "  <th>Skew:</th>          <td> 1.985</td>  <th>  Prob(JB):          </th> <td>2.36e-118</td>\n",
       "</tr>\n",
       "<tr>\n",
       "  <th>Kurtosis:</th>      <td> 9.837</td>  <th>  Cond. No.          </th> <td>    3.26</td> \n",
       "</tr>\n",
       "</table><br/><br/>Notes:<br/>[1] Standard Errors assume that the covariance matrix of the errors is correctly specified."
      ],
      "text/plain": [
       "<class 'statsmodels.iolib.summary.Summary'>\n",
       "\"\"\"\n",
       "                            OLS Regression Results                            \n",
       "==============================================================================\n",
       "Dep. Variable:                 Salary   R-squared:                       0.120\n",
       "Model:                            OLS   Adj. R-squared:                  0.116\n",
       "Method:                 Least Squares   F-statistic:                     28.12\n",
       "Date:                Sun, 25 Jun 2023   Prob (F-statistic):           2.94e-07\n",
       "Time:                        10:51:31   Log-Likelihood:                -2221.7\n",
       "No. Observations:                 208   AIC:                             4447.\n",
       "Df Residuals:                     206   BIC:                             4454.\n",
       "Df Model:                           1                                         \n",
       "Covariance Type:            nonrobust                                         \n",
       "==============================================================================\n",
       "                 coef    std err          t      P>|t|      [0.025      0.975]\n",
       "------------------------------------------------------------------------------\n",
       "const       4.551e+04   1283.530     35.453      0.000     4.3e+04     4.8e+04\n",
       "Gender     -8295.5126   1564.493     -5.302      0.000   -1.14e+04   -5211.041\n",
       "==============================================================================\n",
       "Omnibus:                      106.281   Durbin-Watson:                   0.631\n",
       "Prob(Omnibus):                  0.000   Jarque-Bera (JB):              541.694\n",
       "Skew:                           1.985   Prob(JB):                    2.36e-118\n",
       "Kurtosis:                       9.837   Cond. No.                         3.26\n",
       "==============================================================================\n",
       "\n",
       "Notes:\n",
       "[1] Standard Errors assume that the covariance matrix of the errors is correctly specified.\n",
       "\"\"\""
      ]
     },
     "execution_count": 103,
     "metadata": {},
     "output_type": "execute_result"
    }
   ],
   "source": [
    "y=df_scale[[\"Salary\"]]\n",
    "X=df_scale[[\"Gender\"]]\n",
    "X=sm.add_constant(X)\n",
    "model= sm.OLS(y,X).fit()\n",
    "model.summary()"
   ]
  },
  {
   "cell_type": "markdown",
   "id": "e200f395",
   "metadata": {},
   "source": [
    "#### Fitted a linear regression model with Gender ,Education Level ,Age,Years1,Grade"
   ]
  },
  {
   "cell_type": "code",
   "execution_count": 104,
   "id": "f611b12e",
   "metadata": {},
   "outputs": [
    {
     "data": {
      "text/html": [
       "<table class=\"simpletable\">\n",
       "<caption>OLS Regression Results</caption>\n",
       "<tr>\n",
       "  <th>Dep. Variable:</th>         <td>Salary</td>      <th>  R-squared:         </th> <td>   0.728</td>\n",
       "</tr>\n",
       "<tr>\n",
       "  <th>Model:</th>                   <td>OLS</td>       <th>  Adj. R-squared:    </th> <td>   0.721</td>\n",
       "</tr>\n",
       "<tr>\n",
       "  <th>Method:</th>             <td>Least Squares</td>  <th>  F-statistic:       </th> <td>   107.9</td>\n",
       "</tr>\n",
       "<tr>\n",
       "  <th>Date:</th>             <td>Sun, 25 Jun 2023</td> <th>  Prob (F-statistic):</th> <td>4.34e-55</td>\n",
       "</tr>\n",
       "<tr>\n",
       "  <th>Time:</th>                 <td>10:51:31</td>     <th>  Log-Likelihood:    </th> <td> -2099.7</td>\n",
       "</tr>\n",
       "<tr>\n",
       "  <th>No. Observations:</th>      <td>   208</td>      <th>  AIC:               </th> <td>   4211.</td>\n",
       "</tr>\n",
       "<tr>\n",
       "  <th>Df Residuals:</th>          <td>   202</td>      <th>  BIC:               </th> <td>   4232.</td>\n",
       "</tr>\n",
       "<tr>\n",
       "  <th>Df Model:</th>              <td>     5</td>      <th>                     </th>     <td> </td>   \n",
       "</tr>\n",
       "<tr>\n",
       "  <th>Covariance Type:</th>      <td>nonrobust</td>    <th>                     </th>     <td> </td>   \n",
       "</tr>\n",
       "</table>\n",
       "<table class=\"simpletable\">\n",
       "<tr>\n",
       "      <td></td>         <th>coef</th>     <th>std err</th>      <th>t</th>      <th>P>|t|</th>  <th>[0.025</th>    <th>0.975]</th>  \n",
       "</tr>\n",
       "<tr>\n",
       "  <th>const</th>     <td> 2.173e+04</td> <td> 2443.416</td> <td>    8.895</td> <td> 0.000</td> <td> 1.69e+04</td> <td> 2.66e+04</td>\n",
       "</tr>\n",
       "<tr>\n",
       "  <th>Gender</th>    <td>-2966.2565</td> <td>  964.363</td> <td>   -3.076</td> <td> 0.002</td> <td>-4867.767</td> <td>-1064.746</td>\n",
       "</tr>\n",
       "<tr>\n",
       "  <th>Education</th> <td>  997.9834</td> <td>  405.281</td> <td>    2.462</td> <td> 0.015</td> <td>  198.860</td> <td> 1797.107</td>\n",
       "</tr>\n",
       "<tr>\n",
       "  <th>Age</th>       <td>   36.4128</td> <td>   56.562</td> <td>    0.644</td> <td> 0.520</td> <td>  -75.116</td> <td>  147.941</td>\n",
       "</tr>\n",
       "<tr>\n",
       "  <th>Years1</th>    <td>  612.9408</td> <td>   90.629</td> <td>    6.763</td> <td> 0.000</td> <td>  434.241</td> <td>  791.640</td>\n",
       "</tr>\n",
       "<tr>\n",
       "  <th>Grade</th>     <td> 3490.5142</td> <td>  419.569</td> <td>    8.319</td> <td> 0.000</td> <td> 2663.217</td> <td> 4317.812</td>\n",
       "</tr>\n",
       "</table>\n",
       "<table class=\"simpletable\">\n",
       "<tr>\n",
       "  <th>Omnibus:</th>       <td>50.875</td> <th>  Durbin-Watson:     </th> <td>   1.650</td> \n",
       "</tr>\n",
       "<tr>\n",
       "  <th>Prob(Omnibus):</th> <td> 0.000</td> <th>  Jarque-Bera (JB):  </th> <td> 994.844</td> \n",
       "</tr>\n",
       "<tr>\n",
       "  <th>Skew:</th>          <td> 0.060</td> <th>  Prob(JB):          </th> <td>9.38e-217</td>\n",
       "</tr>\n",
       "<tr>\n",
       "  <th>Kurtosis:</th>      <td>13.713</td> <th>  Cond. No.          </th> <td>    260.</td> \n",
       "</tr>\n",
       "</table><br/><br/>Notes:<br/>[1] Standard Errors assume that the covariance matrix of the errors is correctly specified."
      ],
      "text/plain": [
       "<class 'statsmodels.iolib.summary.Summary'>\n",
       "\"\"\"\n",
       "                            OLS Regression Results                            \n",
       "==============================================================================\n",
       "Dep. Variable:                 Salary   R-squared:                       0.728\n",
       "Model:                            OLS   Adj. R-squared:                  0.721\n",
       "Method:                 Least Squares   F-statistic:                     107.9\n",
       "Date:                Sun, 25 Jun 2023   Prob (F-statistic):           4.34e-55\n",
       "Time:                        10:51:31   Log-Likelihood:                -2099.7\n",
       "No. Observations:                 208   AIC:                             4211.\n",
       "Df Residuals:                     202   BIC:                             4232.\n",
       "Df Model:                           5                                         \n",
       "Covariance Type:            nonrobust                                         \n",
       "==============================================================================\n",
       "                 coef    std err          t      P>|t|      [0.025      0.975]\n",
       "------------------------------------------------------------------------------\n",
       "const       2.173e+04   2443.416      8.895      0.000    1.69e+04    2.66e+04\n",
       "Gender     -2966.2565    964.363     -3.076      0.002   -4867.767   -1064.746\n",
       "Education    997.9834    405.281      2.462      0.015     198.860    1797.107\n",
       "Age           36.4128     56.562      0.644      0.520     -75.116     147.941\n",
       "Years1       612.9408     90.629      6.763      0.000     434.241     791.640\n",
       "Grade       3490.5142    419.569      8.319      0.000    2663.217    4317.812\n",
       "==============================================================================\n",
       "Omnibus:                       50.875   Durbin-Watson:                   1.650\n",
       "Prob(Omnibus):                  0.000   Jarque-Bera (JB):              994.844\n",
       "Skew:                           0.060   Prob(JB):                    9.38e-217\n",
       "Kurtosis:                      13.713   Cond. No.                         260.\n",
       "==============================================================================\n",
       "\n",
       "Notes:\n",
       "[1] Standard Errors assume that the covariance matrix of the errors is correctly specified.\n",
       "\"\"\""
      ]
     },
     "execution_count": 104,
     "metadata": {},
     "output_type": "execute_result"
    }
   ],
   "source": [
    "y=df_scale[[\"Salary\"]]\n",
    "X=df_scale[[\"Gender\",\"Education\",\"Age\",\"Years1\",\"Grade\"]]\n",
    "X=sm.add_constant(X)\n",
    "model= sm.OLS(y,X).fit()\n",
    "model.summary()"
   ]
  },
  {
   "cell_type": "markdown",
   "id": "811369f7",
   "metadata": {},
   "source": [
    "### The interaction effect of grade with gender on salary. "
   ]
  },
  {
   "cell_type": "code",
   "execution_count": 137,
   "id": "cb675276",
   "metadata": {},
   "outputs": [
    {
     "data": {
      "text/html": [
       "<table class=\"simpletable\">\n",
       "<caption>OLS Regression Results</caption>\n",
       "<tr>\n",
       "  <th>Dep. Variable:</th>         <td>Salary</td>      <th>  R-squared:         </th> <td>   0.620</td>\n",
       "</tr>\n",
       "<tr>\n",
       "  <th>Model:</th>                   <td>OLS</td>       <th>  Adj. R-squared:    </th> <td>   0.603</td>\n",
       "</tr>\n",
       "<tr>\n",
       "  <th>Method:</th>             <td>Least Squares</td>  <th>  F-statistic:       </th> <td>   35.86</td>\n",
       "</tr>\n",
       "<tr>\n",
       "  <th>Date:</th>             <td>Sun, 25 Jun 2023</td> <th>  Prob (F-statistic):</th> <td>4.54e-37</td>\n",
       "</tr>\n",
       "<tr>\n",
       "  <th>Time:</th>                 <td>11:57:42</td>     <th>  Log-Likelihood:    </th> <td> -2134.4</td>\n",
       "</tr>\n",
       "<tr>\n",
       "  <th>No. Observations:</th>      <td>   208</td>      <th>  AIC:               </th> <td>   4289.</td>\n",
       "</tr>\n",
       "<tr>\n",
       "  <th>Df Residuals:</th>          <td>   198</td>      <th>  BIC:               </th> <td>   4322.</td>\n",
       "</tr>\n",
       "<tr>\n",
       "  <th>Df Model:</th>              <td>     9</td>      <th>                     </th>     <td> </td>   \n",
       "</tr>\n",
       "<tr>\n",
       "  <th>Covariance Type:</th>      <td>nonrobust</td>    <th>                     </th>     <td> </td>   \n",
       "</tr>\n",
       "</table>\n",
       "<table class=\"simpletable\">\n",
       "<tr>\n",
       "     <td></td>        <th>coef</th>     <th>std err</th>      <th>t</th>      <th>P>|t|</th>  <th>[0.025</th>    <th>0.975]</th>  \n",
       "</tr>\n",
       "<tr>\n",
       "  <th>const</th>   <td>  3.57e+04</td> <td> 2243.167</td> <td>   15.914</td> <td> 0.000</td> <td> 3.13e+04</td> <td> 4.01e+04</td>\n",
       "</tr>\n",
       "<tr>\n",
       "  <th>Years1</th>  <td>  999.3602</td> <td>  105.097</td> <td>    9.509</td> <td> 0.000</td> <td>  792.107</td> <td> 1206.614</td>\n",
       "</tr>\n",
       "<tr>\n",
       "  <th>Years2</th>  <td>  -26.0480</td> <td>  168.361</td> <td>   -0.155</td> <td> 0.877</td> <td> -358.059</td> <td>  305.963</td>\n",
       "</tr>\n",
       "<tr>\n",
       "  <th>Age</th>     <td>   -0.0340</td> <td>   69.271</td> <td>   -0.000</td> <td> 1.000</td> <td> -136.638</td> <td>  136.570</td>\n",
       "</tr>\n",
       "<tr>\n",
       "  <th>Grade_1</th> <td> -1.21e+04</td> <td> 1346.818</td> <td>   -8.983</td> <td> 0.000</td> <td>-1.48e+04</td> <td>-9442.021</td>\n",
       "</tr>\n",
       "<tr>\n",
       "  <th>Grade_2</th> <td>-8687.2920</td> <td> 1590.736</td> <td>   -5.461</td> <td> 0.000</td> <td>-1.18e+04</td> <td>-5550.333</td>\n",
       "</tr>\n",
       "<tr>\n",
       "  <th>Grade_3</th> <td>-5848.5034</td> <td> 1479.753</td> <td>   -3.952</td> <td> 0.000</td> <td>-8766.602</td> <td>-2930.404</td>\n",
       "</tr>\n",
       "<tr>\n",
       "  <th>Grade_4</th> <td>-4087.6427</td> <td> 1942.914</td> <td>   -2.104</td> <td> 0.037</td> <td>-7919.103</td> <td> -256.183</td>\n",
       "</tr>\n",
       "<tr>\n",
       "  <th>Grade_5</th> <td> 3597.4398</td> <td> 2527.630</td> <td>    1.423</td> <td> 0.156</td> <td>-1387.092</td> <td> 8581.971</td>\n",
       "</tr>\n",
       "<tr>\n",
       "  <th>Grade_6</th> <td>-3.867e+04</td> <td> 7351.614</td> <td>   -5.261</td> <td> 0.000</td> <td>-5.32e+04</td> <td>-2.42e+04</td>\n",
       "</tr>\n",
       "</table>\n",
       "<table class=\"simpletable\">\n",
       "<tr>\n",
       "  <th>Omnibus:</th>       <td>15.443</td> <th>  Durbin-Watson:     </th> <td>   1.662</td>\n",
       "</tr>\n",
       "<tr>\n",
       "  <th>Prob(Omnibus):</th> <td> 0.000</td> <th>  Jarque-Bera (JB):  </th> <td>  23.262</td>\n",
       "</tr>\n",
       "<tr>\n",
       "  <th>Skew:</th>          <td> 0.454</td> <th>  Prob(JB):          </th> <td>8.89e-06</td>\n",
       "</tr>\n",
       "<tr>\n",
       "  <th>Kurtosis:</th>      <td> 4.364</td> <th>  Cond. No.          </th> <td>    644.</td>\n",
       "</tr>\n",
       "</table><br/><br/>Notes:<br/>[1] Standard Errors assume that the covariance matrix of the errors is correctly specified."
      ],
      "text/plain": [
       "<class 'statsmodels.iolib.summary.Summary'>\n",
       "\"\"\"\n",
       "                            OLS Regression Results                            \n",
       "==============================================================================\n",
       "Dep. Variable:                 Salary   R-squared:                       0.620\n",
       "Model:                            OLS   Adj. R-squared:                  0.603\n",
       "Method:                 Least Squares   F-statistic:                     35.86\n",
       "Date:                Sun, 25 Jun 2023   Prob (F-statistic):           4.54e-37\n",
       "Time:                        11:57:42   Log-Likelihood:                -2134.4\n",
       "No. Observations:                 208   AIC:                             4289.\n",
       "Df Residuals:                     198   BIC:                             4322.\n",
       "Df Model:                           9                                         \n",
       "Covariance Type:            nonrobust                                         \n",
       "==============================================================================\n",
       "                 coef    std err          t      P>|t|      [0.025      0.975]\n",
       "------------------------------------------------------------------------------\n",
       "const        3.57e+04   2243.167     15.914      0.000    3.13e+04    4.01e+04\n",
       "Years1       999.3602    105.097      9.509      0.000     792.107    1206.614\n",
       "Years2       -26.0480    168.361     -0.155      0.877    -358.059     305.963\n",
       "Age           -0.0340     69.271     -0.000      1.000    -136.638     136.570\n",
       "Grade_1     -1.21e+04   1346.818     -8.983      0.000   -1.48e+04   -9442.021\n",
       "Grade_2    -8687.2920   1590.736     -5.461      0.000   -1.18e+04   -5550.333\n",
       "Grade_3    -5848.5034   1479.753     -3.952      0.000   -8766.602   -2930.404\n",
       "Grade_4    -4087.6427   1942.914     -2.104      0.037   -7919.103    -256.183\n",
       "Grade_5     3597.4398   2527.630      1.423      0.156   -1387.092    8581.971\n",
       "Grade_6    -3.867e+04   7351.614     -5.261      0.000   -5.32e+04   -2.42e+04\n",
       "==============================================================================\n",
       "Omnibus:                       15.443   Durbin-Watson:                   1.662\n",
       "Prob(Omnibus):                  0.000   Jarque-Bera (JB):               23.262\n",
       "Skew:                           0.454   Prob(JB):                     8.89e-06\n",
       "Kurtosis:                       4.364   Cond. No.                         644.\n",
       "==============================================================================\n",
       "\n",
       "Notes:\n",
       "[1] Standard Errors assume that the covariance matrix of the errors is correctly specified.\n",
       "\"\"\""
      ]
     },
     "execution_count": 137,
     "metadata": {},
     "output_type": "execute_result"
    }
   ],
   "source": [
    "df_scale=df\n",
    "df_scale[\"Gender\"].replace({\"Male\":-1,\"Female\":1},inplace=True)\n",
    "encoder=OneHotEncoder()\n",
    "encode=encoder.fit_transform(df_scale[[\"Grade\"]])\n",
    "encode=pd.DataFrame(encode.toarray(),columns=encoder.get_feature_names_out())\n",
    "df_scale=pd.concat([df_scale,encode],axis=1)\n",
    "df_scale.drop(columns=\"Grade\",inplace=True)\n",
    "df_scale['Grade_1']=df_scale['Grade_1']*df_Scale[\"Gender\"]\n",
    "df_scale['Grade_2']=df_scale['Grade_2']*df_Scale[\"Gender\"]\n",
    "df_scale['Grade_3']=df_scale['Grade_3']*df_Scale[\"Gender\"]\n",
    "df_scale['Grade_4']=df_scale['Grade_4']*df_Scale[\"Gender\"]\n",
    "df_scale['Grade_5']=df_scale['Grade_5']*df_Scale[\"Gender\"]\n",
    "df_scale['Grade_6']=df_scale['Grade_6']*df_Scale[\"Gender\"]\n",
    "y=df_scale[[\"Salary\"]]\n",
    "X=df_scale[['Years1', 'Years2', 'Age', 'Grade_1', 'Grade_2', 'Grade_3','Grade_4', 'Grade_5',\"Grade_6\"]]\n",
    "X=sm.add_constant(X)\n",
    "model= sm.OLS(y,X).fit()\n",
    "model.summary()"
   ]
  },
  {
   "cell_type": "markdown",
   "id": "d9393bab",
   "metadata": {},
   "source": [
    "The coefficients of the grade when combined with gender shows that the effect of male causes the salary for every grade to increase and the effect of female on grade causes the salary to decrease. (except for grade 5 )"
   ]
  },
  {
   "cell_type": "markdown",
   "id": "26eb97f9",
   "metadata": {},
   "source": [
    "### The Interaction effect of Education with Gender on salary. "
   ]
  },
  {
   "cell_type": "code",
   "execution_count": 135,
   "id": "9d01d371",
   "metadata": {},
   "outputs": [
    {
     "data": {
      "text/html": [
       "<table class=\"simpletable\">\n",
       "<caption>OLS Regression Results</caption>\n",
       "<tr>\n",
       "  <th>Dep. Variable:</th>         <td>Salary</td>      <th>  R-squared:         </th> <td>   0.575</td>\n",
       "</tr>\n",
       "<tr>\n",
       "  <th>Model:</th>                   <td>OLS</td>       <th>  Adj. R-squared:    </th> <td>   0.558</td>\n",
       "</tr>\n",
       "<tr>\n",
       "  <th>Method:</th>             <td>Least Squares</td>  <th>  F-statistic:       </th> <td>   33.68</td>\n",
       "</tr>\n",
       "<tr>\n",
       "  <th>Date:</th>             <td>Sun, 25 Jun 2023</td> <th>  Prob (F-statistic):</th> <td>3.44e-33</td>\n",
       "</tr>\n",
       "<tr>\n",
       "  <th>Time:</th>                 <td>11:52:20</td>     <th>  Log-Likelihood:    </th> <td> -2146.0</td>\n",
       "</tr>\n",
       "<tr>\n",
       "  <th>No. Observations:</th>      <td>   208</td>      <th>  AIC:               </th> <td>   4310.</td>\n",
       "</tr>\n",
       "<tr>\n",
       "  <th>Df Residuals:</th>          <td>   199</td>      <th>  BIC:               </th> <td>   4340.</td>\n",
       "</tr>\n",
       "<tr>\n",
       "  <th>Df Model:</th>              <td>     8</td>      <th>                     </th>     <td> </td>   \n",
       "</tr>\n",
       "<tr>\n",
       "  <th>Covariance Type:</th>      <td>nonrobust</td>    <th>                     </th>     <td> </td>   \n",
       "</tr>\n",
       "</table>\n",
       "<table class=\"simpletable\">\n",
       "<tr>\n",
       "       <td></td>          <th>coef</th>     <th>std err</th>      <th>t</th>      <th>P>|t|</th>  <th>[0.025</th>    <th>0.975]</th>  \n",
       "</tr>\n",
       "<tr>\n",
       "  <th>const</th>       <td> 3.393e+04</td> <td> 2448.090</td> <td>   13.858</td> <td> 0.000</td> <td> 2.91e+04</td> <td> 3.88e+04</td>\n",
       "</tr>\n",
       "<tr>\n",
       "  <th>Years1</th>      <td> 1046.1227</td> <td>  107.435</td> <td>    9.737</td> <td> 0.000</td> <td>  834.265</td> <td> 1257.980</td>\n",
       "</tr>\n",
       "<tr>\n",
       "  <th>Years2</th>      <td>  206.6102</td> <td>  177.067</td> <td>    1.167</td> <td> 0.245</td> <td> -142.559</td> <td>  555.780</td>\n",
       "</tr>\n",
       "<tr>\n",
       "  <th>Age</th>         <td>   21.3593</td> <td>   74.824</td> <td>    0.285</td> <td> 0.776</td> <td> -126.191</td> <td>  168.909</td>\n",
       "</tr>\n",
       "<tr>\n",
       "  <th>Education_1</th> <td>-1.238e+04</td> <td> 1617.499</td> <td>   -7.653</td> <td> 0.000</td> <td>-1.56e+04</td> <td>-9188.776</td>\n",
       "</tr>\n",
       "<tr>\n",
       "  <th>Education_2</th> <td> -1.15e+04</td> <td> 1708.157</td> <td>   -6.730</td> <td> 0.000</td> <td>-1.49e+04</td> <td>-8128.063</td>\n",
       "</tr>\n",
       "<tr>\n",
       "  <th>Education_3</th> <td>-7530.2191</td> <td> 1464.077</td> <td>   -5.143</td> <td> 0.000</td> <td>-1.04e+04</td> <td>-4643.123</td>\n",
       "</tr>\n",
       "<tr>\n",
       "  <th>Education_4</th> <td>-5227.3632</td> <td> 3478.048</td> <td>   -1.503</td> <td> 0.134</td> <td>-1.21e+04</td> <td> 1631.197</td>\n",
       "</tr>\n",
       "<tr>\n",
       "  <th>Education_5</th> <td>-1573.0678</td> <td> 1649.127</td> <td>   -0.954</td> <td> 0.341</td> <td>-4825.075</td> <td> 1678.940</td>\n",
       "</tr>\n",
       "</table>\n",
       "<table class=\"simpletable\">\n",
       "<tr>\n",
       "  <th>Omnibus:</th>       <td>26.246</td> <th>  Durbin-Watson:     </th> <td>   1.683</td>\n",
       "</tr>\n",
       "<tr>\n",
       "  <th>Prob(Omnibus):</th> <td> 0.000</td> <th>  Jarque-Bera (JB):  </th> <td> 128.979</td>\n",
       "</tr>\n",
       "<tr>\n",
       "  <th>Skew:</th>          <td>-0.206</td> <th>  Prob(JB):          </th> <td>9.83e-29</td>\n",
       "</tr>\n",
       "<tr>\n",
       "  <th>Kurtosis:</th>      <td> 6.836</td> <th>  Cond. No.          </th> <td>    294.</td>\n",
       "</tr>\n",
       "</table><br/><br/>Notes:<br/>[1] Standard Errors assume that the covariance matrix of the errors is correctly specified."
      ],
      "text/plain": [
       "<class 'statsmodels.iolib.summary.Summary'>\n",
       "\"\"\"\n",
       "                            OLS Regression Results                            \n",
       "==============================================================================\n",
       "Dep. Variable:                 Salary   R-squared:                       0.575\n",
       "Model:                            OLS   Adj. R-squared:                  0.558\n",
       "Method:                 Least Squares   F-statistic:                     33.68\n",
       "Date:                Sun, 25 Jun 2023   Prob (F-statistic):           3.44e-33\n",
       "Time:                        11:52:20   Log-Likelihood:                -2146.0\n",
       "No. Observations:                 208   AIC:                             4310.\n",
       "Df Residuals:                     199   BIC:                             4340.\n",
       "Df Model:                           8                                         \n",
       "Covariance Type:            nonrobust                                         \n",
       "===============================================================================\n",
       "                  coef    std err          t      P>|t|      [0.025      0.975]\n",
       "-------------------------------------------------------------------------------\n",
       "const        3.393e+04   2448.090     13.858      0.000    2.91e+04    3.88e+04\n",
       "Years1       1046.1227    107.435      9.737      0.000     834.265    1257.980\n",
       "Years2        206.6102    177.067      1.167      0.245    -142.559     555.780\n",
       "Age            21.3593     74.824      0.285      0.776    -126.191     168.909\n",
       "Education_1 -1.238e+04   1617.499     -7.653      0.000   -1.56e+04   -9188.776\n",
       "Education_2  -1.15e+04   1708.157     -6.730      0.000   -1.49e+04   -8128.063\n",
       "Education_3 -7530.2191   1464.077     -5.143      0.000   -1.04e+04   -4643.123\n",
       "Education_4 -5227.3632   3478.048     -1.503      0.134   -1.21e+04    1631.197\n",
       "Education_5 -1573.0678   1649.127     -0.954      0.341   -4825.075    1678.940\n",
       "==============================================================================\n",
       "Omnibus:                       26.246   Durbin-Watson:                   1.683\n",
       "Prob(Omnibus):                  0.000   Jarque-Bera (JB):              128.979\n",
       "Skew:                          -0.206   Prob(JB):                     9.83e-29\n",
       "Kurtosis:                       6.836   Cond. No.                         294.\n",
       "==============================================================================\n",
       "\n",
       "Notes:\n",
       "[1] Standard Errors assume that the covariance matrix of the errors is correctly specified.\n",
       "\"\"\""
      ]
     },
     "execution_count": 135,
     "metadata": {},
     "output_type": "execute_result"
    }
   ],
   "source": [
    "df_scale=df\n",
    "df_scale[\"Gender\"].replace({\"Male\":-1,\"Female\":1},inplace=True)\n",
    "encoder=OneHotEncoder()\n",
    "encode=encoder.fit_transform(df_scale[[\"Education\"]])\n",
    "encode=pd.DataFrame(encode.toarray(),columns=encoder.get_feature_names_out())\n",
    "df_scale=pd.concat([df_scale,encode],axis=1)\n",
    "df_scale.drop(columns=\"Grade\",inplace=True)\n",
    "df_scale['Education_1']=df_scale['Education_1']*df_Scale[\"Gender\"]\n",
    "df_scale['Education_2']=df_scale['Education_2']*df_Scale[\"Gender\"]\n",
    "df_scale['Education_3']=df_scale['Education_3']*df_Scale[\"Gender\"]\n",
    "df_scale['Education_4']=df_scale['Education_4']*df_Scale[\"Gender\"]\n",
    "df_scale['Education_5']=df_scale['Education_5']*df_Scale[\"Gender\"]\n",
    "y=df_scale[[\"Salary\"]]\n",
    "X=df_scale[['Years1', 'Years2', 'Age', 'Education_1', 'Education_2', 'Education_3','Education_4', 'Education_5']]\n",
    "X=sm.add_constant(X)\n",
    "model= sm.OLS(y,X).fit()\n",
    "model.summary()"
   ]
  },
  {
   "cell_type": "markdown",
   "id": "26b9349f",
   "metadata": {},
   "source": [
    "The coefficients of the education when combined with gender shows that the effect of male causes the salary for every education level to increase and the effect of female on education level causes the salary to decrease."
   ]
  }
 ],
 "metadata": {
  "kernelspec": {
   "display_name": "Python 3 (ipykernel)",
   "language": "python",
   "name": "python3"
  },
  "language_info": {
   "codemirror_mode": {
    "name": "ipython",
    "version": 3
   },
   "file_extension": ".py",
   "mimetype": "text/x-python",
   "name": "python",
   "nbconvert_exporter": "python",
   "pygments_lexer": "ipython3",
   "version": "3.9.13"
  }
 },
 "nbformat": 4,
 "nbformat_minor": 5
}
